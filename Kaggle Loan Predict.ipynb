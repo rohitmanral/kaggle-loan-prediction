{
 "cells": [
  {
   "cell_type": "markdown",
   "id": "7f2a6882",
   "metadata": {},
   "source": [
    "# **Loan Prediction Dataset ML Project**"
   ]
  },
  {
   "cell_type": "code",
   "execution_count": 2,
   "id": "866b097b",
   "metadata": {},
   "outputs": [
    {
     "name": "stdout",
     "output_type": "stream",
     "text": [
      "Collecting xgboost\n",
      "  Downloading xgboost-1.6.2-py3-none-win_amd64.whl (125.4 MB)\n",
      "     -------------------------------------- 125.4/125.4 MB 3.6 MB/s eta 0:00:00\n",
      "Requirement already satisfied: numpy in c:\\users\\rohit\\anaconda3\\lib\\site-packages (from xgboost) (1.20.3)\n",
      "Requirement already satisfied: scipy in c:\\users\\rohit\\anaconda3\\lib\\site-packages (from xgboost) (1.7.1)\n",
      "Installing collected packages: xgboost\n",
      "Successfully installed xgboost-1.6.2\n",
      "\n",
      "[notice] A new release of pip available: 22.1.2 -> 22.2.2\n",
      "[notice] To update, run: python.exe -m pip install --upgrade pip\n",
      "Note: you may need to restart the kernel to use updated packages.\n"
     ]
    }
   ],
   "source": [
    "pip install xgboost "
   ]
  },
  {
   "cell_type": "markdown",
   "id": "992b2851",
   "metadata": {},
   "source": [
    "## Data Detail"
   ]
  },
  {
   "cell_type": "markdown",
   "id": "ea175359",
   "metadata": {},
   "source": [
    "This dataset is named Loan Prediction Dataset data set. The dataset contains a set of 614 records under 13 attributes:  \n",
    "The main objective for this dataset:  \n",
    "Using machine learning techniques to predict loan status.  \n",
    "\n",
    "target value (y): `Loan_Status`"
   ]
  },
  {
   "cell_type": "markdown",
   "id": "2c37c209",
   "metadata": {},
   "source": [
    "## Libraries "
   ]
  },
  {
   "cell_type": "code",
   "execution_count": 1,
   "id": "63c6d9b6",
   "metadata": {},
   "outputs": [],
   "source": [
    "import os #paths to file\n",
    "import numpy as np # linear algebra\n",
    "import pandas as pd # data processing\n",
    "import warnings# warning filter\n",
    "\n",
    "\n",
    "#ploting libraries\n",
    "import matplotlib.pyplot as plt \n",
    "import seaborn as sns\n",
    "\n",
    "#relevant ML libraries\n",
    "from sklearn.preprocessing import LabelEncoder\n",
    "from sklearn.model_selection import train_test_split\n",
    "from sklearn.metrics import confusion_matrix\n",
    "from sklearn.metrics import classification_report\n",
    "from sklearn.metrics import accuracy_score\n",
    "\n",
    "#ML models\n",
    "from xgboost import XGBClassifier\n",
    "from sklearn.tree import DecisionTreeClassifier\n",
    "from sklearn.ensemble import RandomForestClassifier\n",
    "from sklearn.linear_model import LogisticRegression\n",
    "from sklearn.naive_bayes import GaussianNB\n",
    "from sklearn.svm import SVC\n",
    "from sklearn.neighbors import KNeighborsClassifier\n",
    "\n",
    "#default theme\n",
    "sns.set(context='notebook', style='darkgrid', palette='deep', font='sans-serif', font_scale=1, color_codes=False, rc=None)\n",
    "\n",
    "#warning hadle\n",
    "warnings.filterwarnings(\"ignore\")"
   ]
  },
  {
   "cell_type": "markdown",
   "id": "cbc12444",
   "metadata": {},
   "source": [
    "## Data Loading"
   ]
  },
  {
   "cell_type": "code",
   "execution_count": 2,
   "id": "8fadd109",
   "metadata": {},
   "outputs": [],
   "source": [
    "df = pd.read_csv('loan.csv')"
   ]
  },
  {
   "cell_type": "code",
   "execution_count": 3,
   "id": "8a956f86",
   "metadata": {},
   "outputs": [
    {
     "name": "stdout",
     "output_type": "stream",
     "text": [
      "(614, 13)\n"
     ]
    },
    {
     "data": {
      "text/html": [
       "<div>\n",
       "<style scoped>\n",
       "    .dataframe tbody tr th:only-of-type {\n",
       "        vertical-align: middle;\n",
       "    }\n",
       "\n",
       "    .dataframe tbody tr th {\n",
       "        vertical-align: top;\n",
       "    }\n",
       "\n",
       "    .dataframe thead th {\n",
       "        text-align: right;\n",
       "    }\n",
       "</style>\n",
       "<table border=\"1\" class=\"dataframe\">\n",
       "  <thead>\n",
       "    <tr style=\"text-align: right;\">\n",
       "      <th></th>\n",
       "      <th>Loan_ID</th>\n",
       "      <th>Gender</th>\n",
       "      <th>Married</th>\n",
       "      <th>Dependents</th>\n",
       "      <th>Education</th>\n",
       "      <th>Self_Employed</th>\n",
       "      <th>ApplicantIncome</th>\n",
       "      <th>CoapplicantIncome</th>\n",
       "      <th>LoanAmount</th>\n",
       "      <th>Loan_Amount_Term</th>\n",
       "      <th>Credit_History</th>\n",
       "      <th>Property_Area</th>\n",
       "      <th>Loan_Status</th>\n",
       "    </tr>\n",
       "  </thead>\n",
       "  <tbody>\n",
       "    <tr>\n",
       "      <th>0</th>\n",
       "      <td>LP001002</td>\n",
       "      <td>Male</td>\n",
       "      <td>No</td>\n",
       "      <td>0</td>\n",
       "      <td>Graduate</td>\n",
       "      <td>No</td>\n",
       "      <td>5849</td>\n",
       "      <td>0.0</td>\n",
       "      <td>NaN</td>\n",
       "      <td>360.0</td>\n",
       "      <td>1.0</td>\n",
       "      <td>Urban</td>\n",
       "      <td>Y</td>\n",
       "    </tr>\n",
       "    <tr>\n",
       "      <th>1</th>\n",
       "      <td>LP001003</td>\n",
       "      <td>Male</td>\n",
       "      <td>Yes</td>\n",
       "      <td>1</td>\n",
       "      <td>Graduate</td>\n",
       "      <td>No</td>\n",
       "      <td>4583</td>\n",
       "      <td>1508.0</td>\n",
       "      <td>128.0</td>\n",
       "      <td>360.0</td>\n",
       "      <td>1.0</td>\n",
       "      <td>Rural</td>\n",
       "      <td>N</td>\n",
       "    </tr>\n",
       "    <tr>\n",
       "      <th>2</th>\n",
       "      <td>LP001005</td>\n",
       "      <td>Male</td>\n",
       "      <td>Yes</td>\n",
       "      <td>0</td>\n",
       "      <td>Graduate</td>\n",
       "      <td>Yes</td>\n",
       "      <td>3000</td>\n",
       "      <td>0.0</td>\n",
       "      <td>66.0</td>\n",
       "      <td>360.0</td>\n",
       "      <td>1.0</td>\n",
       "      <td>Urban</td>\n",
       "      <td>Y</td>\n",
       "    </tr>\n",
       "    <tr>\n",
       "      <th>3</th>\n",
       "      <td>LP001006</td>\n",
       "      <td>Male</td>\n",
       "      <td>Yes</td>\n",
       "      <td>0</td>\n",
       "      <td>Not Graduate</td>\n",
       "      <td>No</td>\n",
       "      <td>2583</td>\n",
       "      <td>2358.0</td>\n",
       "      <td>120.0</td>\n",
       "      <td>360.0</td>\n",
       "      <td>1.0</td>\n",
       "      <td>Urban</td>\n",
       "      <td>Y</td>\n",
       "    </tr>\n",
       "    <tr>\n",
       "      <th>4</th>\n",
       "      <td>LP001008</td>\n",
       "      <td>Male</td>\n",
       "      <td>No</td>\n",
       "      <td>0</td>\n",
       "      <td>Graduate</td>\n",
       "      <td>No</td>\n",
       "      <td>6000</td>\n",
       "      <td>0.0</td>\n",
       "      <td>141.0</td>\n",
       "      <td>360.0</td>\n",
       "      <td>1.0</td>\n",
       "      <td>Urban</td>\n",
       "      <td>Y</td>\n",
       "    </tr>\n",
       "  </tbody>\n",
       "</table>\n",
       "</div>"
      ],
      "text/plain": [
       "    Loan_ID Gender Married Dependents     Education Self_Employed  \\\n",
       "0  LP001002   Male      No          0      Graduate            No   \n",
       "1  LP001003   Male     Yes          1      Graduate            No   \n",
       "2  LP001005   Male     Yes          0      Graduate           Yes   \n",
       "3  LP001006   Male     Yes          0  Not Graduate            No   \n",
       "4  LP001008   Male      No          0      Graduate            No   \n",
       "\n",
       "   ApplicantIncome  CoapplicantIncome  LoanAmount  Loan_Amount_Term  \\\n",
       "0             5849                0.0         NaN             360.0   \n",
       "1             4583             1508.0       128.0             360.0   \n",
       "2             3000                0.0        66.0             360.0   \n",
       "3             2583             2358.0       120.0             360.0   \n",
       "4             6000                0.0       141.0             360.0   \n",
       "\n",
       "   Credit_History Property_Area Loan_Status  \n",
       "0             1.0         Urban           Y  \n",
       "1             1.0         Rural           N  \n",
       "2             1.0         Urban           Y  \n",
       "3             1.0         Urban           Y  \n",
       "4             1.0         Urban           Y  "
      ]
     },
     "execution_count": 3,
     "metadata": {},
     "output_type": "execute_result"
    }
   ],
   "source": [
    "print(df.shape)\n",
    "df.head()"
   ]
  },
  {
   "cell_type": "code",
   "execution_count": 5,
   "id": "ee1271bd",
   "metadata": {},
   "outputs": [
    {
     "name": "stdout",
     "output_type": "stream",
     "text": [
      "Loan dataset (row, col): (614, 13)\n"
     ]
    }
   ],
   "source": [
    "print(f\"Loan dataset (row, col): {df.shape}\")"
   ]
  },
  {
   "cell_type": "markdown",
   "id": "533fdb8a",
   "metadata": {},
   "source": [
    "## Data Cleaning"
   ]
  },
  {
   "cell_type": "markdown",
   "id": "9ed2079c",
   "metadata": {},
   "source": [
    "### i) Training data pre-processing"
   ]
  },
  {
   "cell_type": "code",
   "execution_count": 6,
   "id": "e671363c",
   "metadata": {},
   "outputs": [
    {
     "data": {
      "text/plain": [
       "Index(['Loan_ID', 'Gender', 'Married', 'Dependents', 'Education',\n",
       "       'Self_Employed', 'ApplicantIncome', 'CoapplicantIncome', 'LoanAmount',\n",
       "       'Loan_Amount_Term', 'Credit_History', 'Property_Area', 'Loan_Status'],\n",
       "      dtype='object')"
      ]
     },
     "execution_count": 6,
     "metadata": {},
     "output_type": "execute_result"
    }
   ],
   "source": [
    "df.columns"
   ]
  },
  {
   "cell_type": "code",
   "execution_count": 7,
   "id": "e8b64a87",
   "metadata": {},
   "outputs": [
    {
     "data": {
      "text/plain": [
       "<seaborn.axisgrid.PairGrid at 0x222b00cd580>"
      ]
     },
     "execution_count": 7,
     "metadata": {},
     "output_type": "execute_result"
    },
    {
     "data": {
      "image/png": "[encoded data removed]",
      "text/plain": [
       "<Figure size 900x900 with 30 Axes>"
      ]
     },
     "metadata": {},
     "output_type": "display_data"
    }
   ],
   "source": [
    "sns.pairplot(df)"
   ]
  },
  {
   "cell_type": "markdown",
   "id": "9b86a610",
   "metadata": {},
   "source": [
    "## Above Pairplot gives an overview of all the `continous/ numeric variables`"
   ]
  },
  {
   "cell_type": "code",
   "execution_count": 8,
   "id": "320d5c05",
   "metadata": {},
   "outputs": [
    {
     "name": "stdout",
     "output_type": "stream",
     "text": [
      "<class 'pandas.core.frame.DataFrame'>\n",
      "RangeIndex: 614 entries, 0 to 613\n",
      "Data columns (total 13 columns):\n",
      " #   Column             Non-Null Count  Dtype  \n",
      "---  ------             --------------  -----  \n",
      " 0   Loan_ID            614 non-null    object \n",
      " 1   Gender             601 non-null    object \n",
      " 2   Married            611 non-null    object \n",
      " 3   Dependents         599 non-null    object \n",
      " 4   Education          614 non-null    object \n",
      " 5   Self_Employed      582 non-null    object \n",
      " 6   ApplicantIncome    614 non-null    int64  \n",
      " 7   CoapplicantIncome  614 non-null    float64\n",
      " 8   LoanAmount         592 non-null    float64\n",
      " 9   Loan_Amount_Term   600 non-null    float64\n",
      " 10  Credit_History     564 non-null    float64\n",
      " 11  Property_Area      614 non-null    object \n",
      " 12  Loan_Status        614 non-null    object \n",
      "dtypes: float64(4), int64(1), object(8)\n",
      "memory usage: 62.5+ KB\n"
     ]
    }
   ],
   "source": [
    "df.info(verbose=True, null_counts=True) #total 614 entries"
   ]
  },
  {
   "cell_type": "code",
   "execution_count": 9,
   "id": "663b9ef0",
   "metadata": {},
   "outputs": [
    {
     "data": {
      "text/html": [
       "<div>\n",
       "<style scoped>\n",
       "    .dataframe tbody tr th:only-of-type {\n",
       "        vertical-align: middle;\n",
       "    }\n",
       "\n",
       "    .dataframe tbody tr th {\n",
       "        vertical-align: top;\n",
       "    }\n",
       "\n",
       "    .dataframe thead th {\n",
       "        text-align: right;\n",
       "    }\n",
       "</style>\n",
       "<table border=\"1\" class=\"dataframe\">\n",
       "  <thead>\n",
       "    <tr style=\"text-align: right;\">\n",
       "      <th></th>\n",
       "      <th>ApplicantIncome</th>\n",
       "      <th>CoapplicantIncome</th>\n",
       "      <th>LoanAmount</th>\n",
       "      <th>Loan_Amount_Term</th>\n",
       "      <th>Credit_History</th>\n",
       "    </tr>\n",
       "  </thead>\n",
       "  <tbody>\n",
       "    <tr>\n",
       "      <th>count</th>\n",
       "      <td>614.000000</td>\n",
       "      <td>614.000000</td>\n",
       "      <td>592.000000</td>\n",
       "      <td>600.00000</td>\n",
       "      <td>564.000000</td>\n",
       "    </tr>\n",
       "    <tr>\n",
       "      <th>mean</th>\n",
       "      <td>5403.459283</td>\n",
       "      <td>1621.245798</td>\n",
       "      <td>146.412162</td>\n",
       "      <td>342.00000</td>\n",
       "      <td>0.842199</td>\n",
       "    </tr>\n",
       "    <tr>\n",
       "      <th>std</th>\n",
       "      <td>6109.041673</td>\n",
       "      <td>2926.248369</td>\n",
       "      <td>85.587325</td>\n",
       "      <td>65.12041</td>\n",
       "      <td>0.364878</td>\n",
       "    </tr>\n",
       "    <tr>\n",
       "      <th>min</th>\n",
       "      <td>150.000000</td>\n",
       "      <td>0.000000</td>\n",
       "      <td>9.000000</td>\n",
       "      <td>12.00000</td>\n",
       "      <td>0.000000</td>\n",
       "    </tr>\n",
       "    <tr>\n",
       "      <th>25%</th>\n",
       "      <td>2877.500000</td>\n",
       "      <td>0.000000</td>\n",
       "      <td>100.000000</td>\n",
       "      <td>360.00000</td>\n",
       "      <td>1.000000</td>\n",
       "    </tr>\n",
       "    <tr>\n",
       "      <th>50%</th>\n",
       "      <td>3812.500000</td>\n",
       "      <td>1188.500000</td>\n",
       "      <td>128.000000</td>\n",
       "      <td>360.00000</td>\n",
       "      <td>1.000000</td>\n",
       "    </tr>\n",
       "    <tr>\n",
       "      <th>75%</th>\n",
       "      <td>5795.000000</td>\n",
       "      <td>2297.250000</td>\n",
       "      <td>168.000000</td>\n",
       "      <td>360.00000</td>\n",
       "      <td>1.000000</td>\n",
       "    </tr>\n",
       "    <tr>\n",
       "      <th>max</th>\n",
       "      <td>81000.000000</td>\n",
       "      <td>41667.000000</td>\n",
       "      <td>700.000000</td>\n",
       "      <td>480.00000</td>\n",
       "      <td>1.000000</td>\n",
       "    </tr>\n",
       "  </tbody>\n",
       "</table>\n",
       "</div>"
      ],
      "text/plain": [
       "       ApplicantIncome  CoapplicantIncome  LoanAmount  Loan_Amount_Term  \\\n",
       "count       614.000000         614.000000  592.000000         600.00000   \n",
       "mean       5403.459283        1621.245798  146.412162         342.00000   \n",
       "std        6109.041673        2926.248369   85.587325          65.12041   \n",
       "min         150.000000           0.000000    9.000000          12.00000   \n",
       "25%        2877.500000           0.000000  100.000000         360.00000   \n",
       "50%        3812.500000        1188.500000  128.000000         360.00000   \n",
       "75%        5795.000000        2297.250000  168.000000         360.00000   \n",
       "max       81000.000000       41667.000000  700.000000         480.00000   \n",
       "\n",
       "       Credit_History  \n",
       "count      564.000000  \n",
       "mean         0.842199  \n",
       "std          0.364878  \n",
       "min          0.000000  \n",
       "25%          1.000000  \n",
       "50%          1.000000  \n",
       "75%          1.000000  \n",
       "max          1.000000  "
      ]
     },
     "execution_count": 9,
     "metadata": {},
     "output_type": "execute_result"
    }
   ],
   "source": [
    "#summary statistics\n",
    "df.describe() #just for numerical attributes/ columns"
   ]
  },
  {
   "cell_type": "markdown",
   "id": "30daeccf",
   "metadata": {},
   "source": [
    "#### Missing values  \n",
    "As you can see we have some missing data, let's have a look how many we have for each column.  \n",
    "\n",
    "Below there are 2 ways to deal with missing value attributes.  \n",
    "`Step 1`: Drop features with more than 30% of their data missing.  \n",
    "`Step 2`: Fill all the null values of a particular attribute with its mode."
   ]
  },
  {
   "cell_type": "code",
   "execution_count": 10,
   "id": "905fa9f4",
   "metadata": {},
   "outputs": [
    {
     "data": {
      "text/plain": [
       "<AxesSubplot:>"
      ]
     },
     "execution_count": 10,
     "metadata": {},
     "output_type": "execute_result"
    },
    {
     "data": {
      "image/png": "[encoded data removed]",
      "text/plain": [
       "<Figure size 432x288 with 1 Axes>"
      ]
     },
     "metadata": {},
     "output_type": "display_data"
    }
   ],
   "source": [
    "sns.heatmap(df.isnull(),yticklabels=False,cbar=False,cmap='viridis') #visualizing all null values"
   ]
  },
  {
   "cell_type": "markdown",
   "id": "dfe755d2",
   "metadata": {},
   "source": [
    "Here, we can see `Gender`, `Married`, `Dependents`, `Self_Employed`, `LoanAmount`, `Loan_Amount_Term`, and `Credit_History` got some null values."
   ]
  },
  {
   "cell_type": "code",
   "execution_count": 11,
   "id": "c7c251c0",
   "metadata": {},
   "outputs": [
    {
     "data": {
      "text/plain": [
       "Credit_History       0.081433\n",
       "Self_Employed        0.052117\n",
       "LoanAmount           0.035831\n",
       "Dependents           0.024430\n",
       "Loan_Amount_Term     0.022801\n",
       "Gender               0.021173\n",
       "Married              0.004886\n",
       "Loan_ID              0.000000\n",
       "Education            0.000000\n",
       "ApplicantIncome      0.000000\n",
       "CoapplicantIncome    0.000000\n",
       "Property_Area        0.000000\n",
       "Loan_Status          0.000000\n",
       "dtype: float64"
      ]
     },
     "execution_count": 11,
     "metadata": {},
     "output_type": "execute_result"
    }
   ],
   "source": [
    "missing_fractions = df.isnull().mean().sort_values(ascending=False)\n",
    "missing_fractions"
   ]
  },
  {
   "cell_type": "markdown",
   "id": "419b0cf5",
   "metadata": {},
   "source": [
    "Above output shows, how much percentage of missing values present in every attribute. As none of the attribute got more than 30% missing values, so we will not drop any attribute here."
   ]
  },
  {
   "cell_type": "code",
   "execution_count": 12,
   "id": "b33e01b6",
   "metadata": {},
   "outputs": [
    {
     "name": "stdout",
     "output_type": "stream",
     "text": [
      "[]\n",
      "\n",
      "\n",
      " Drop Features:  0\n"
     ]
    }
   ],
   "source": [
    "drop_list = sorted(list(missing_fractions[missing_fractions > 0.3].index))\n",
    "print(drop_list)\n",
    "print(\"\\n\\n Drop Features: \", len(drop_list))"
   ]
  },
  {
   "cell_type": "code",
   "execution_count": 13,
   "id": "ea7b584a",
   "metadata": {},
   "outputs": [
    {
     "data": {
      "text/plain": [
       "Credit_History       50\n",
       "Self_Employed        32\n",
       "LoanAmount           22\n",
       "Dependents           15\n",
       "Loan_Amount_Term     14\n",
       "Gender               13\n",
       "Married               3\n",
       "Loan_ID               0\n",
       "Education             0\n",
       "ApplicantIncome       0\n",
       "CoapplicantIncome     0\n",
       "Property_Area         0\n",
       "Loan_Status           0\n",
       "dtype: int64"
      ]
     },
     "execution_count": 13,
     "metadata": {},
     "output_type": "execute_result"
    }
   ],
   "source": [
    "missing_counts = df.isnull().sum().sort_values(ascending=False)\n",
    "missing_counts"
   ]
  },
  {
   "cell_type": "markdown",
   "id": "5057cb2e",
   "metadata": {},
   "source": [
    "Above output shows, count of missing values present in every attribute. "
   ]
  },
  {
   "cell_type": "markdown",
   "id": "95bafabd",
   "metadata": {},
   "source": [
    "## **Replacing missing values with `Mode`**  "
   ]
  },
  {
   "cell_type": "markdown",
   "id": "1ae4ff96",
   "metadata": {},
   "source": [
    "### **Fixing missing values in `Credit_History`, `Self_Employed`, `LoanAmount`, `Dependents`,  `Loan_Amount_Term`,  `Gender`, & `Married`**  \n",
    "Each value will be replaced by the most frequent value (mode) because `Credit_History` got just 2 unique values i.e. 0.0 & 1.0.  \n",
    "For example,`Credit_History` has 50 null values and has 2 unique values 1.0 (475 times) or 0.0 (89 times) therefore each null value will be replaced by the mode (1.0), so count of 1.0 will be 525 times."
   ]
  },
  {
   "cell_type": "code",
   "execution_count": 14,
   "id": "5592b4ca",
   "metadata": {},
   "outputs": [
    {
     "name": "stdout",
     "output_type": "stream",
     "text": [
      "Before filling missing values\n",
      "\n",
      " ################################################## \n",
      "\n",
      "Credit_History:\n",
      "1.0    475\n",
      "0.0     89\n",
      "Name: Credit_History, dtype: int64\n",
      " --------------------------------------------------\n",
      "Self_Employed:\n",
      "No     500\n",
      "Yes     82\n",
      "Name: Self_Employed, dtype: int64\n",
      " --------------------------------------------------\n",
      "LoanAmount:\n",
      "120.0    20\n",
      "110.0    17\n",
      "100.0    15\n",
      "160.0    12\n",
      "187.0    12\n",
      "         ..\n",
      "240.0     1\n",
      "214.0     1\n",
      "59.0      1\n",
      "166.0     1\n",
      "253.0     1\n",
      "Name: LoanAmount, Length: 203, dtype: int64\n",
      " --------------------------------------------------\n",
      "Dependents:\n",
      "0     345\n",
      "1     102\n",
      "2     101\n",
      "3+     51\n",
      "Name: Dependents, dtype: int64\n",
      " --------------------------------------------------\n",
      "Loan_Amount_Term:\n",
      "360.0    512\n",
      "180.0     44\n",
      "480.0     15\n",
      "300.0     13\n",
      "240.0      4\n",
      "84.0       4\n",
      "120.0      3\n",
      "60.0       2\n",
      "36.0       2\n",
      "12.0       1\n",
      "Name: Loan_Amount_Term, dtype: int64\n",
      " --------------------------------------------------\n",
      "Gender:\n",
      "Male      489\n",
      "Female    112\n",
      "Name: Gender, dtype: int64\n",
      " --------------------------------------------------\n",
      "Married:\n",
      "Yes    398\n",
      "No     213\n",
      "Name: Married, dtype: int64\n",
      " --------------------------------------------------\n",
      "After filling missing values\n",
      "\n",
      " ################################################## \n",
      "\n",
      "\n",
      "Credit_History:\n",
      "1.0    525\n",
      "0.0     89\n",
      "Name: Credit_History, dtype: int64\n",
      " --------------------------------------------------\n",
      "\n",
      "Self_Employed:\n",
      "No     532\n",
      "Yes     82\n",
      "Name: Self_Employed, dtype: int64\n",
      " --------------------------------------------------\n",
      "\n",
      "LoanAmount:\n",
      "120.0    42\n",
      "110.0    17\n",
      "100.0    15\n",
      "160.0    12\n",
      "187.0    12\n",
      "         ..\n",
      "240.0     1\n",
      "214.0     1\n",
      "59.0      1\n",
      "166.0     1\n",
      "253.0     1\n",
      "Name: LoanAmount, Length: 203, dtype: int64\n",
      " --------------------------------------------------\n",
      "\n",
      "Dependents:\n",
      "0     360\n",
      "1     102\n",
      "2     101\n",
      "3+     51\n",
      "Name: Dependents, dtype: int64\n",
      " --------------------------------------------------\n",
      "\n",
      "Loan_Amount_Term:\n",
      "360.0    526\n",
      "180.0     44\n",
      "480.0     15\n",
      "300.0     13\n",
      "240.0      4\n",
      "84.0       4\n",
      "120.0      3\n",
      "60.0       2\n",
      "36.0       2\n",
      "12.0       1\n",
      "Name: Loan_Amount_Term, dtype: int64\n",
      " --------------------------------------------------\n",
      "\n",
      "Gender:\n",
      "Male      502\n",
      "Female    112\n",
      "Name: Gender, dtype: int64\n",
      " --------------------------------------------------\n",
      "\n",
      "Married:\n",
      "Yes    401\n",
      "No     213\n",
      "Name: Married, dtype: int64\n",
      " --------------------------------------------------\n"
     ]
    }
   ],
   "source": [
    "#filling the missing data\n",
    "print(\"Before filling missing values\\n\\n\",\"#\"*50,\"\\n\")\n",
    "null_cols = ['Credit_History', 'Self_Employed', 'LoanAmount','Dependents', 'Loan_Amount_Term', 'Gender', 'Married']\n",
    "\n",
    "\n",
    "for col in null_cols:\n",
    "    print(f\"{col}:\\n{df[col].value_counts()}\\n\",\"-\"*50)\n",
    "    df[col] = df[col].fillna(\n",
    "    df[col].dropna().mode().values[0] )   \n",
    "\n",
    "    \n",
    "df.isnull().sum().sort_values(ascending=False)\n",
    "print(\"After filling missing values\\n\\n\",\"#\"*50,\"\\n\")\n",
    "for col in null_cols:\n",
    "    print(f\"\\n{col}:\\n{df[col].value_counts()}\\n\",\"-\"*50)"
   ]
  },
  {
   "cell_type": "code",
   "execution_count": 15,
   "id": "54ce9cb4",
   "metadata": {},
   "outputs": [
    {
     "data": {
      "text/plain": [
       "<AxesSubplot:>"
      ]
     },
     "execution_count": 15,
     "metadata": {},
     "output_type": "execute_result"
    },
    {
     "data": {
      "image/png": "[encoded data removed]",
      "text/plain": [
       "<Figure size 432x288 with 1 Axes>"
      ]
     },
     "metadata": {},
     "output_type": "display_data"
    }
   ],
   "source": [
    "sns.heatmap(df.isnull(),yticklabels=False,cbar=False,cmap='viridis')"
   ]
  },
  {
   "cell_type": "markdown",
   "id": "6a9fa45e",
   "metadata": {},
   "source": [
    "Therefore, no null values present in the dataset now."
   ]
  },
  {
   "cell_type": "markdown",
   "id": "eebf6f01",
   "metadata": {},
   "source": [
    "## Data visualization"
   ]
  },
  {
   "cell_type": "markdown",
   "id": "8b67dc4a",
   "metadata": {},
   "source": [
    "### i)  `Loan_Status` distribution"
   ]
  },
  {
   "cell_type": "code",
   "execution_count": 16,
   "id": "9b7be7ff",
   "metadata": {},
   "outputs": [
    {
     "data": {
      "image/png": "[encoded data removed]",
      "text/plain": [
       "<Figure size 432x288 with 1 Axes>"
      ]
     },
     "metadata": {},
     "output_type": "display_data"
    },
    {
     "name": "stdout",
     "output_type": "stream",
     "text": [
      "Y    422\n",
      "N    192\n",
      "Name: Loan_Status, dtype: int64\n",
      "The percentage of Y class in Loan_Status : 0.69\n",
      "The percentage of N class in Loan_Status : 0.31\n"
     ]
    }
   ],
   "source": [
    "total = float(len(df['Loan_Status']))\n",
    "plt.figure(figsize=(6,4))\n",
    "sns.set(style=\"whitegrid\")\n",
    "ax = sns.countplot(df['Loan_Status'])\n",
    "for p in ax.patches:\n",
    "    height = p.get_height()\n",
    "    ax.text(p.get_x()+p.get_width()/2.,height + 3,'{:1.2f}'.format(height/total),ha=\"center\") \n",
    "plt.show()\n",
    "\n",
    "print(df['Loan_Status'].value_counts())\n",
    "print('The percentage of Y class in Loan_Status : %.2f' % (df['Loan_Status'].value_counts()[0] / len(df)))\n",
    "print('The percentage of N class in Loan_Status : %.2f' % (df['Loan_Status'].value_counts()[1] / len(df)))"
   ]
  },
  {
   "cell_type": "code",
   "execution_count": null,
   "id": "d497663a",
   "metadata": {},
   "outputs": [],
   "source": []
  },
  {
   "cell_type": "markdown",
   "id": "238b6b8e",
   "metadata": {},
   "source": [
    "### ii)  `Credit_History` Vs `Loan_Status` distribution"
   ]
  },
  {
   "cell_type": "code",
   "execution_count": 17,
   "id": "a38672fa",
   "metadata": {},
   "outputs": [
    {
     "data": {
      "text/plain": [
       "<AxesSubplot:xlabel='Credit_History', ylabel='count'>"
      ]
     },
     "execution_count": 17,
     "metadata": {},
     "output_type": "execute_result"
    },
    {
     "data": {
      "image/png": "[encoded data removed]",
      "text/plain": [
       "<Figure size 432x288 with 1 Axes>"
      ]
     },
     "metadata": {},
     "output_type": "display_data"
    }
   ],
   "source": [
    "sns.countplot(x='Credit_History',hue='Loan_Status',data=df,palette='RdBu_r')"
   ]
  },
  {
   "cell_type": "code",
   "execution_count": 18,
   "id": "aae33a28",
   "metadata": {},
   "outputs": [
    {
     "name": "stdout",
     "output_type": "stream",
     "text": [
      "Loan_Status       N    Y\n",
      "Credit_History          \n",
      "0.0              82    7\n",
      "1.0             110  415\n",
      "\n",
      "\n",
      "Percentage of loans approved among Credit_History 1.0 only: 0.790\n",
      "Percentage of loans approved among Credit_History 0.0 only: 0.079\n"
     ]
    }
   ],
   "source": [
    "print(pd.crosstab(df['Credit_History'],df['Loan_Status']))\n",
    "\n",
    "df_history_Y = df[df['Credit_History'] == 1]\n",
    "df_history_N = df[df['Credit_History'] == 0]\n",
    "\n",
    "perc_df_self_Y = df_history_Y['Loan_Status'].value_counts()['Y']/len(df_history_Y)\n",
    "perc_df_self_N = df_history_N['Loan_Status'].value_counts()['Y']/len(df_history_N)\n",
    "\n",
    "print('\\n')\n",
    "\n",
    "print('Percentage of loans approved among Credit_History 1.0 only: %.3f' %perc_df_self_Y) # 415/(110+415)\n",
    "print('Percentage of loans approved among Credit_History 0.0 only: %.3f' %perc_df_self_N) # 7/(82+7)"
   ]
  },
  {
   "cell_type": "code",
   "execution_count": null,
   "id": "b0528a4d",
   "metadata": {},
   "outputs": [],
   "source": []
  },
  {
   "cell_type": "code",
   "execution_count": 19,
   "id": "3a20cd07",
   "metadata": {},
   "outputs": [
    {
     "data": {
      "text/plain": [
       "Index(['Loan_ID', 'Gender', 'Married', 'Dependents', 'Education',\n",
       "       'Self_Employed', 'ApplicantIncome', 'CoapplicantIncome', 'LoanAmount',\n",
       "       'Loan_Amount_Term', 'Credit_History', 'Property_Area', 'Loan_Status'],\n",
       "      dtype='object')"
      ]
     },
     "execution_count": 19,
     "metadata": {},
     "output_type": "execute_result"
    }
   ],
   "source": [
    "df.columns"
   ]
  },
  {
   "cell_type": "markdown",
   "id": "2c7d8427",
   "metadata": {},
   "source": [
    "## Splitting our data to categorical and numerical data  \n",
    "It eases the data visualization coding"
   ]
  },
  {
   "cell_type": "code",
   "execution_count": 20,
   "id": "9e2d0c07",
   "metadata": {},
   "outputs": [],
   "source": [
    "num = df.select_dtypes('number').columns.to_list() #list of all the numeric columns\n",
    "\n",
    "cat = df.select_dtypes('object').columns.to_list() #list of all the categoric columns\n",
    "\n",
    "#numeric df\n",
    "loan_num =  df[num]\n",
    "#categoric df\n",
    "loan_cat = df[cat]"
   ]
  },
  {
   "cell_type": "code",
   "execution_count": 21,
   "id": "2abd52fc",
   "metadata": {},
   "outputs": [
    {
     "data": {
      "text/html": [
       "<div>\n",
       "<style scoped>\n",
       "    .dataframe tbody tr th:only-of-type {\n",
       "        vertical-align: middle;\n",
       "    }\n",
       "\n",
       "    .dataframe tbody tr th {\n",
       "        vertical-align: top;\n",
       "    }\n",
       "\n",
       "    .dataframe thead th {\n",
       "        text-align: right;\n",
       "    }\n",
       "</style>\n",
       "<table border=\"1\" class=\"dataframe\">\n",
       "  <thead>\n",
       "    <tr style=\"text-align: right;\">\n",
       "      <th></th>\n",
       "      <th>ApplicantIncome</th>\n",
       "      <th>CoapplicantIncome</th>\n",
       "      <th>LoanAmount</th>\n",
       "      <th>Loan_Amount_Term</th>\n",
       "      <th>Credit_History</th>\n",
       "    </tr>\n",
       "  </thead>\n",
       "  <tbody>\n",
       "    <tr>\n",
       "      <th>0</th>\n",
       "      <td>5849</td>\n",
       "      <td>0.0</td>\n",
       "      <td>120.0</td>\n",
       "      <td>360.0</td>\n",
       "      <td>1.0</td>\n",
       "    </tr>\n",
       "    <tr>\n",
       "      <th>1</th>\n",
       "      <td>4583</td>\n",
       "      <td>1508.0</td>\n",
       "      <td>128.0</td>\n",
       "      <td>360.0</td>\n",
       "      <td>1.0</td>\n",
       "    </tr>\n",
       "    <tr>\n",
       "      <th>2</th>\n",
       "      <td>3000</td>\n",
       "      <td>0.0</td>\n",
       "      <td>66.0</td>\n",
       "      <td>360.0</td>\n",
       "      <td>1.0</td>\n",
       "    </tr>\n",
       "    <tr>\n",
       "      <th>3</th>\n",
       "      <td>2583</td>\n",
       "      <td>2358.0</td>\n",
       "      <td>120.0</td>\n",
       "      <td>360.0</td>\n",
       "      <td>1.0</td>\n",
       "    </tr>\n",
       "    <tr>\n",
       "      <th>4</th>\n",
       "      <td>6000</td>\n",
       "      <td>0.0</td>\n",
       "      <td>141.0</td>\n",
       "      <td>360.0</td>\n",
       "      <td>1.0</td>\n",
       "    </tr>\n",
       "  </tbody>\n",
       "</table>\n",
       "</div>"
      ],
      "text/plain": [
       "   ApplicantIncome  CoapplicantIncome  LoanAmount  Loan_Amount_Term  \\\n",
       "0             5849                0.0       120.0             360.0   \n",
       "1             4583             1508.0       128.0             360.0   \n",
       "2             3000                0.0        66.0             360.0   \n",
       "3             2583             2358.0       120.0             360.0   \n",
       "4             6000                0.0       141.0             360.0   \n",
       "\n",
       "   Credit_History  \n",
       "0             1.0  \n",
       "1             1.0  \n",
       "2             1.0  \n",
       "3             1.0  \n",
       "4             1.0  "
      ]
     },
     "execution_count": 21,
     "metadata": {},
     "output_type": "execute_result"
    }
   ],
   "source": [
    "loan_num.head() # got all numerical attributes"
   ]
  },
  {
   "cell_type": "code",
   "execution_count": 22,
   "id": "b7c43215",
   "metadata": {},
   "outputs": [
    {
     "data": {
      "text/html": [
       "<div>\n",
       "<style scoped>\n",
       "    .dataframe tbody tr th:only-of-type {\n",
       "        vertical-align: middle;\n",
       "    }\n",
       "\n",
       "    .dataframe tbody tr th {\n",
       "        vertical-align: top;\n",
       "    }\n",
       "\n",
       "    .dataframe thead th {\n",
       "        text-align: right;\n",
       "    }\n",
       "</style>\n",
       "<table border=\"1\" class=\"dataframe\">\n",
       "  <thead>\n",
       "    <tr style=\"text-align: right;\">\n",
       "      <th></th>\n",
       "      <th>Loan_ID</th>\n",
       "      <th>Gender</th>\n",
       "      <th>Married</th>\n",
       "      <th>Dependents</th>\n",
       "      <th>Education</th>\n",
       "      <th>Self_Employed</th>\n",
       "      <th>Property_Area</th>\n",
       "      <th>Loan_Status</th>\n",
       "    </tr>\n",
       "  </thead>\n",
       "  <tbody>\n",
       "    <tr>\n",
       "      <th>0</th>\n",
       "      <td>LP001002</td>\n",
       "      <td>Male</td>\n",
       "      <td>No</td>\n",
       "      <td>0</td>\n",
       "      <td>Graduate</td>\n",
       "      <td>No</td>\n",
       "      <td>Urban</td>\n",
       "      <td>Y</td>\n",
       "    </tr>\n",
       "    <tr>\n",
       "      <th>1</th>\n",
       "      <td>LP001003</td>\n",
       "      <td>Male</td>\n",
       "      <td>Yes</td>\n",
       "      <td>1</td>\n",
       "      <td>Graduate</td>\n",
       "      <td>No</td>\n",
       "      <td>Rural</td>\n",
       "      <td>N</td>\n",
       "    </tr>\n",
       "    <tr>\n",
       "      <th>2</th>\n",
       "      <td>LP001005</td>\n",
       "      <td>Male</td>\n",
       "      <td>Yes</td>\n",
       "      <td>0</td>\n",
       "      <td>Graduate</td>\n",
       "      <td>Yes</td>\n",
       "      <td>Urban</td>\n",
       "      <td>Y</td>\n",
       "    </tr>\n",
       "    <tr>\n",
       "      <th>3</th>\n",
       "      <td>LP001006</td>\n",
       "      <td>Male</td>\n",
       "      <td>Yes</td>\n",
       "      <td>0</td>\n",
       "      <td>Not Graduate</td>\n",
       "      <td>No</td>\n",
       "      <td>Urban</td>\n",
       "      <td>Y</td>\n",
       "    </tr>\n",
       "    <tr>\n",
       "      <th>4</th>\n",
       "      <td>LP001008</td>\n",
       "      <td>Male</td>\n",
       "      <td>No</td>\n",
       "      <td>0</td>\n",
       "      <td>Graduate</td>\n",
       "      <td>No</td>\n",
       "      <td>Urban</td>\n",
       "      <td>Y</td>\n",
       "    </tr>\n",
       "  </tbody>\n",
       "</table>\n",
       "</div>"
      ],
      "text/plain": [
       "    Loan_ID Gender Married Dependents     Education Self_Employed  \\\n",
       "0  LP001002   Male      No          0      Graduate            No   \n",
       "1  LP001003   Male     Yes          1      Graduate            No   \n",
       "2  LP001005   Male     Yes          0      Graduate           Yes   \n",
       "3  LP001006   Male     Yes          0  Not Graduate            No   \n",
       "4  LP001008   Male      No          0      Graduate            No   \n",
       "\n",
       "  Property_Area Loan_Status  \n",
       "0         Urban           Y  \n",
       "1         Rural           N  \n",
       "2         Urban           Y  \n",
       "3         Urban           Y  \n",
       "4         Urban           Y  "
      ]
     },
     "execution_count": 22,
     "metadata": {},
     "output_type": "execute_result"
    }
   ],
   "source": [
    "loan_cat.head() # got all categorical attributes"
   ]
  },
  {
   "cell_type": "code",
   "execution_count": null,
   "id": "ef53f358",
   "metadata": {},
   "outputs": [],
   "source": []
  },
  {
   "cell_type": "markdown",
   "id": "299c8a84",
   "metadata": {},
   "source": [
    "## iii) `ApplicantIncome`, `CoapplicantIncome`, `LoanAmount`, `Loan_Amount_Term`, & `Credit_History` distributions   \n",
    "###  `numeric df`/ `loan_num`  \n",
    "\n",
    "###  `Numeric attributes`: We are plotting a `histogram` with `normal distribution curve` to identify the attribute's distribution & a `box plot` to figure out the `outliers`.  "
   ]
  },
  {
   "cell_type": "code",
   "execution_count": 23,
   "id": "373cae90",
   "metadata": {},
   "outputs": [
    {
     "data": {
      "text/plain": [
       "Index(['ApplicantIncome', 'CoapplicantIncome', 'LoanAmount',\n",
       "       'Loan_Amount_Term', 'Credit_History'],\n",
       "      dtype='object')"
      ]
     },
     "execution_count": 23,
     "metadata": {},
     "output_type": "execute_result"
    }
   ],
   "source": [
    "loan_num.columns"
   ]
  },
  {
   "cell_type": "code",
   "execution_count": 24,
   "id": "46ae6ba0",
   "metadata": {
    "scrolled": false
   },
   "outputs": [
    {
     "data": {
      "image/png": "[encoded data removed]",
      "text/plain": [
       "<Figure size 432x288 with 1 Axes>"
      ]
     },
     "metadata": {},
     "output_type": "display_data"
    },
    {
     "data": {
      "image/png": "[encoded data removed]",
      "text/plain": [
       "<Figure size 360x432 with 1 Axes>"
      ]
     },
     "metadata": {},
     "output_type": "display_data"
    },
    {
     "data": {
      "image/png": "[encoded data removed]",
      "text/plain": [
       "<Figure size 432x288 with 1 Axes>"
      ]
     },
     "metadata": {},
     "output_type": "display_data"
    },
    {
     "data": {
      "image/png": "[encoded data removed]",
      "text/plain": [
       "<Figure size 360x432 with 1 Axes>"
      ]
     },
     "metadata": {},
     "output_type": "display_data"
    },
    {
     "data": {
      "image/png": "[encoded data removed]",
      "text/plain": [
       "<Figure size 432x288 with 1 Axes>"
      ]
     },
     "metadata": {},
     "output_type": "display_data"
    },
    {
     "data": {
      "image/png": "[encoded data removed]",
      "text/plain": [
       "<Figure size 360x432 with 1 Axes>"
      ]
     },
     "metadata": {},
     "output_type": "display_data"
    },
    {
     "data": {
      "image/png": "[encoded data removed]",
      "text/plain": [
       "<Figure size 432x288 with 1 Axes>"
      ]
     },
     "metadata": {},
     "output_type": "display_data"
    },
    {
     "data": {
      "image/png": "[encoded data removed]",
      "text/plain": [
       "<Figure size 360x432 with 1 Axes>"
      ]
     },
     "metadata": {},
     "output_type": "display_data"
    },
    {
     "data": {
      "image/png": "[encoded data removed]",
      "text/plain": [
       "<Figure size 432x288 with 1 Axes>"
      ]
     },
     "metadata": {},
     "output_type": "display_data"
    },
    {
     "data": {
      "image/png": "[encoded data removed]",
      "text/plain": [
       "<Figure size 360x432 with 1 Axes>"
      ]
     },
     "metadata": {},
     "output_type": "display_data"
    }
   ],
   "source": [
    "from scipy.stats import norm\n",
    "\n",
    "for i in loan_num:\n",
    "    # Fit a normal distribution to the data; mean and standard deviation\n",
    "    mu, std = norm.fit(loan_num[i]) \n",
    "    \n",
    "    plt.hist(loan_num[i], density=True, alpha=0.6, color='b') # plotting histogram \n",
    "    \n",
    "    # Plot the PDF.\n",
    "    xmin, xmax = plt.xlim()\n",
    "    x = np.linspace(xmin, xmax, 100)\n",
    "    p = norm.pdf(x, mu, std)\n",
    "    \n",
    "    plt.plot(x, p, 'k', linewidth=2)\n",
    "    title = \"Fit Values: {:.2f} (Mean) and {:.2f} (Std Dev)\".format(mu, std)\n",
    "    plt.title(title)\n",
    "    plt.xlabel(i)\n",
    "    \n",
    "    fig = plt.figure(figsize =(5, 6))\n",
    "    plt.boxplot(loan_num[i]) # Creating Box plot\n",
    "    \n",
    "    plt.show()"
   ]
  },
  {
   "cell_type": "code",
   "execution_count": null,
   "id": "807206e0",
   "metadata": {},
   "outputs": [],
   "source": []
  },
  {
   "cell_type": "markdown",
   "id": "497a3ba7",
   "metadata": {},
   "source": [
    "# XXXXXXXXXXXXXXXXXXXXXXXXXXXXXXXXXXXXXXXXXXXXXXXXXXXXXXX"
   ]
  },
  {
   "cell_type": "markdown",
   "id": "9fff7f18",
   "metadata": {},
   "source": [
    "## `Outliers removal code`"
   ]
  },
  {
   "cell_type": "code",
   "execution_count": 25,
   "id": "9233ad75",
   "metadata": {},
   "outputs": [
    {
     "name": "stdout",
     "output_type": "stream",
     "text": [
      "Quartile 25: 2877.5 , Quartile 75: 5795.0\n",
      "iqr: 2917.5\n",
      "Cut Off: 291.75\n",
      "Lower: 2585.75\n",
      "Upper: 6086.75\n",
      "Nubers of Outliers: 248\n",
      "outliers:[2583, 2333, 12841, 2500, 1853, 1299, 7660, 9560, 1442, 12500, 2275, 1828, 1800, 2400, 1928, 11500, 2132, 8080, 2500, 10750, 7100, 1875, 1000, 2395, 1378, 2366, 2500, 8566, 6250, 6782, 2484, 1977, 1759, 13650, 11417, 7333, 2071, 7451, 14583, 2214, 10408, 2137, 23803, 10513, 20166, 2014, 14999, 6950, 11757, 2330, 14866, 1538, 10000, 6277, 2577, 9166, 2281, 39999, 9538, 1863, 7933, 9323, 2439, 2237, 8000, 1820, 51763, 2045, 2333, 6400, 1916, 33846, 39147, 2178, 2383, 674, 9328, 12000, 8333, 1907, 11000, 2479, 10000, 7787, 150, 2221, 7578, 6250, 6250, 6400, 2491, 8333, 2510, 6250, 9703, 6608, 1809, 1668, 2583, 16250, 14683, 2060, 7200, 11146, 14583, 2301, 1811, 20667, 9508, 2383, 6875, 2014, 1800, 1625, 2000, 2400, 20233, 7667, 2507, 2473, 2058, 10000, 2400, 15000, 8666, 2500, 63337, 9833, 2500, 1830, 2378, 2583, 2499, 6333, 9083, 8750, 2423, 8333, 6822, 6216, 2500, 6325, 19730, 15759, 9323, 8750, 7167, 2346, 2333, 9167, 9504, 2583, 1993, 1500, 2500, 1963, 7441, 2167, 2213, 8300, 81000, 6256, 6096, 2253, 2149, 1600, 1025, 1820, 7250, 14880, 8624, 6500, 12876, 2425, 10047, 1926, 2213, 10416, 7142, 7901, 37719, 7333, 2309, 1958, 2483, 7085, 8334, 2083, 7740, 16692, 210, 2500, 16525, 6700, 16667, 2083, 10833, 8333, 1958, 18333, 2435, 17263, 6283, 645, 20833, 2479, 13262, 2130, 2031, 2192, 2500, 7948, 17500, 6783, 1025, 11250, 18165, 2550, 6133, 6417, 2138, 2239, 2526, 6633, 2492, 2454, 10139, 19484, 8799, 2378, 16666, 6125, 6406, 1782, 6540, 1836, 1880, 2297, 2165, 9357, 16120, 6383, 9963, 416, 12000, 2400, 8072, 7583]\n",
      "\n",
      "len loan_num before dropping the outliers 614\n",
      "len loan_num before dropping the outliers 366\n"
     ]
    }
   ],
   "source": [
    "threshold = 0.1  # This number is a hyper parameter, by reducing it, more points are removed.\n",
    "                 # You can just try different values, the deafult value is (1.5) it works good for most cases.\n",
    "                 # Be careful, you don't want to try a small number because you may loss some important information from data.\n",
    "                 # That's why I was surprised when 0.1 gived me the best result\n",
    "            \n",
    "ApplicantIncome_out = loan_num['ApplicantIncome']\n",
    "\n",
    "q25, q75 = np.percentile(ApplicantIncome_out, 25), np.percentile(ApplicantIncome_out, 75) # Q25, Q75\n",
    "\n",
    "print('Quartile 25: {} , Quartile 75: {}'.format(q25, q75))\n",
    "\n",
    "iqr = q75 - q25\n",
    "print('iqr: {}'.format(iqr))\n",
    "\n",
    "cut = iqr * threshold\n",
    "lower, upper = q25 - cut, q75 + cut\n",
    "print('Cut Off: {}'.format(cut))\n",
    "print('Lower: {}'.format(lower))\n",
    "print('Upper: {}'.format(upper))\n",
    "\n",
    "outliers = [x for x in ApplicantIncome_out if x < lower or x > upper]\n",
    "print('Nubers of Outliers: {}'.format(len(outliers)))\n",
    "print('outliers:{}'.format(outliers))\n",
    "\n",
    "data_outliers = loan_num\n",
    "print('\\nlen loan_num before dropping the outliers', len(data_outliers))\n",
    "data_outliers = data_outliers.drop(data_outliers[(data_outliers['ApplicantIncome'] > upper) | (data_outliers['ApplicantIncome'] < lower)].index)\n",
    "\n",
    "print('len loan_num before dropping the outliers', len(data_outliers))"
   ]
  },
  {
   "cell_type": "code",
   "execution_count": 26,
   "id": "7c8c9a4e",
   "metadata": {},
   "outputs": [
    {
     "data": {
      "text/plain": [
       "{'whiskers': [<matplotlib.lines.Line2D at 0x222b8ac00a0>,\n",
       "  <matplotlib.lines.Line2D at 0x222b8ac0430>],\n",
       " 'caps': [<matplotlib.lines.Line2D at 0x222b8ac07c0>,\n",
       "  <matplotlib.lines.Line2D at 0x222b8ac0b50>],\n",
       " 'boxes': [<matplotlib.lines.Line2D at 0x222b8ab1d60>],\n",
       " 'medians': [<matplotlib.lines.Line2D at 0x222b8ac0ee0>],\n",
       " 'fliers': [<matplotlib.lines.Line2D at 0x222b8acb2b0>],\n",
       " 'means': []}"
      ]
     },
     "execution_count": 26,
     "metadata": {},
     "output_type": "execute_result"
    },
    {
     "data": {
      "image/png": "[encoded data removed]",
      "text/plain": [
       "<Figure size 360x432 with 1 Axes>"
      ]
     },
     "metadata": {},
     "output_type": "display_data"
    }
   ],
   "source": [
    "fig = plt.figure(figsize =(5, 6))\n",
    "plt.boxplot(data_outliers['ApplicantIncome'])"
   ]
  },
  {
   "cell_type": "markdown",
   "id": "1a1c8a41",
   "metadata": {},
   "source": [
    "### Here, we removed the outliers from `ApplicantIncome` attribute and it does not have any outlier now but we are not actually removing outliers from our main dataset because our data already got less records.   "
   ]
  },
  {
   "cell_type": "markdown",
   "id": "efb03a6c",
   "metadata": {},
   "source": [
    "# XXXXXXXXXXXXXXXXXXXXXXXXXXXXXXXXXXXXXXXXXXXXXXXXXXXXXXX"
   ]
  },
  {
   "cell_type": "code",
   "execution_count": null,
   "id": "9863d76e",
   "metadata": {},
   "outputs": [],
   "source": []
  },
  {
   "cell_type": "markdown",
   "id": "3c7e8eb6",
   "metadata": {},
   "source": [
    "## Interpretation using `Histograms` of Numerical variables' distribution:  \n",
    "*   `ApplicantIncome` & `CoapplicantIncome` are `Right Skewed`.  \n",
    "*   `LoanAmount` & `Loan_Amount_Term` are almost `Normally Distributed`.  \n",
    "*   `Credit_History` is Bimodal as it got 2 unique values only.  "
   ]
  },
  {
   "cell_type": "markdown",
   "id": "443804f1",
   "metadata": {},
   "source": [
    "## Interpretation using `Box Plots` of Numerical variables' distribution:  \n",
    "*   All the attributes got outliers, however we cannot delete the outliers here because our data already got less records. Besides, in case of dataset with high number of records we prefer to remove the outliers to make our ML model more accurate.    "
   ]
  },
  {
   "cell_type": "code",
   "execution_count": null,
   "id": "3e60b6ab",
   "metadata": {},
   "outputs": [],
   "source": []
  },
  {
   "cell_type": "markdown",
   "id": "aa259c6d",
   "metadata": {},
   "source": [
    "## iv) `Loan_ID`, `Gender`, `Married`, `Dependents`, `Education`, `Self_Employed`, `Property_Area`, `Loan_Status` distributions   \n",
    "###  `categoric df`/ `loan_cat`  \n",
    "\n",
    "Categorical (split by Loan status):  "
   ]
  },
  {
   "cell_type": "code",
   "execution_count": 27,
   "id": "82666d50",
   "metadata": {},
   "outputs": [
    {
     "data": {
      "text/plain": [
       "Index(['Loan_ID', 'Gender', 'Married', 'Dependents', 'Education',\n",
       "       'Self_Employed', 'Property_Area', 'Loan_Status'],\n",
       "      dtype='object')"
      ]
     },
     "execution_count": 27,
     "metadata": {},
     "output_type": "execute_result"
    }
   ],
   "source": [
    "loan_cat.columns"
   ]
  },
  {
   "cell_type": "code",
   "execution_count": 28,
   "id": "4ae51d19",
   "metadata": {},
   "outputs": [
    {
     "data": {
      "image/png": "[encoded data removed]",
      "text/plain": [
       "<Figure size 1080x720 with 1 Axes>"
      ]
     },
     "metadata": {},
     "output_type": "display_data"
    },
    {
     "data": {
      "image/png": "[encoded data removed]",
      "text/plain": [
       "<Figure size 1080x720 with 1 Axes>"
      ]
     },
     "metadata": {},
     "output_type": "display_data"
    },
    {
     "data": {
      "image/png": "[encoded data removed]",
      "text/plain": [
       "<Figure size 1080x720 with 1 Axes>"
      ]
     },
     "metadata": {},
     "output_type": "display_data"
    },
    {
     "data": {
      "image/png": "[encoded data removed]",
      "text/plain": [
       "<Figure size 1080x720 with 1 Axes>"
      ]
     },
     "metadata": {},
     "output_type": "display_data"
    },
    {
     "data": {
      "image/png": "[encoded data removed]",
      "text/plain": [
       "<Figure size 1080x720 with 1 Axes>"
      ]
     },
     "metadata": {},
     "output_type": "display_data"
    },
    {
     "data": {
      "image/png": "[encoded data removed]",
      "text/plain": [
       "<Figure size 1080x720 with 1 Axes>"
      ]
     },
     "metadata": {},
     "output_type": "display_data"
    }
   ],
   "source": [
    "for i in cat[1:-1]: \n",
    "    plt.figure(figsize=(15,10))\n",
    "    plt.subplot(2,3,1)\n",
    "    sns.countplot(x=i ,hue='Loan_Status', data=df ,palette='plasma')\n",
    "    plt.xlabel(i, fontsize=14)"
   ]
  },
  {
   "cell_type": "markdown",
   "id": "64b45e7a",
   "metadata": {},
   "source": [
    "## Interpretation of Categorial variables' distribution:  \n",
    "*   Most `males` got loan and most `females` got one too (No specific pattern in `Loan_Status vs Gender` Bar chart).  \n",
    "*   Mostly `married applicants` got the loan approved, so `married applicants` got better chance to get a loan approved.  \n",
    "*   If loan applicant got no `dependents` (Dependents = 0), then very hight chance of getting the loan approved. However, as number of dependents increases the chance of loan approval decreases.  \n",
    "*   The level of `Education` (graduated/ not graduated) does not make a significant difference in loan approval, besides majority of loan applicants were Graduated that's why their loan approval count is high, however most of the loan applicants who did not graduate also got loan approved.  \n",
    "*   `Self Employment` also does not make any difference in loan approval same as `Education`.  \n",
    "*   As per `Property Area`, `Semiurban` Property_Area got almost 70% chance of loan approval followed by `Urban` Property_Area which got around 50% chance of loan approval.  \n"
   ]
  },
  {
   "cell_type": "code",
   "execution_count": 29,
   "id": "11f9b0d8",
   "metadata": {},
   "outputs": [
    {
     "data": {
      "text/html": [
       "<div>\n",
       "<style scoped>\n",
       "    .dataframe tbody tr th:only-of-type {\n",
       "        vertical-align: middle;\n",
       "    }\n",
       "\n",
       "    .dataframe tbody tr th {\n",
       "        vertical-align: top;\n",
       "    }\n",
       "\n",
       "    .dataframe thead th {\n",
       "        text-align: right;\n",
       "    }\n",
       "</style>\n",
       "<table border=\"1\" class=\"dataframe\">\n",
       "  <thead>\n",
       "    <tr style=\"text-align: right;\">\n",
       "      <th></th>\n",
       "      <th>Loan_ID</th>\n",
       "      <th>Gender</th>\n",
       "      <th>Married</th>\n",
       "      <th>Dependents</th>\n",
       "      <th>Education</th>\n",
       "      <th>Self_Employed</th>\n",
       "      <th>ApplicantIncome</th>\n",
       "      <th>CoapplicantIncome</th>\n",
       "      <th>LoanAmount</th>\n",
       "      <th>Loan_Amount_Term</th>\n",
       "      <th>Credit_History</th>\n",
       "      <th>Property_Area</th>\n",
       "      <th>Loan_Status</th>\n",
       "    </tr>\n",
       "  </thead>\n",
       "  <tbody>\n",
       "    <tr>\n",
       "      <th>0</th>\n",
       "      <td>LP001002</td>\n",
       "      <td>Male</td>\n",
       "      <td>No</td>\n",
       "      <td>0</td>\n",
       "      <td>Graduate</td>\n",
       "      <td>No</td>\n",
       "      <td>5849</td>\n",
       "      <td>0.0</td>\n",
       "      <td>120.0</td>\n",
       "      <td>360.0</td>\n",
       "      <td>1.0</td>\n",
       "      <td>Urban</td>\n",
       "      <td>Y</td>\n",
       "    </tr>\n",
       "    <tr>\n",
       "      <th>1</th>\n",
       "      <td>LP001003</td>\n",
       "      <td>Male</td>\n",
       "      <td>Yes</td>\n",
       "      <td>1</td>\n",
       "      <td>Graduate</td>\n",
       "      <td>No</td>\n",
       "      <td>4583</td>\n",
       "      <td>1508.0</td>\n",
       "      <td>128.0</td>\n",
       "      <td>360.0</td>\n",
       "      <td>1.0</td>\n",
       "      <td>Rural</td>\n",
       "      <td>N</td>\n",
       "    </tr>\n",
       "    <tr>\n",
       "      <th>2</th>\n",
       "      <td>LP001005</td>\n",
       "      <td>Male</td>\n",
       "      <td>Yes</td>\n",
       "      <td>0</td>\n",
       "      <td>Graduate</td>\n",
       "      <td>Yes</td>\n",
       "      <td>3000</td>\n",
       "      <td>0.0</td>\n",
       "      <td>66.0</td>\n",
       "      <td>360.0</td>\n",
       "      <td>1.0</td>\n",
       "      <td>Urban</td>\n",
       "      <td>Y</td>\n",
       "    </tr>\n",
       "    <tr>\n",
       "      <th>3</th>\n",
       "      <td>LP001006</td>\n",
       "      <td>Male</td>\n",
       "      <td>Yes</td>\n",
       "      <td>0</td>\n",
       "      <td>Not Graduate</td>\n",
       "      <td>No</td>\n",
       "      <td>2583</td>\n",
       "      <td>2358.0</td>\n",
       "      <td>120.0</td>\n",
       "      <td>360.0</td>\n",
       "      <td>1.0</td>\n",
       "      <td>Urban</td>\n",
       "      <td>Y</td>\n",
       "    </tr>\n",
       "    <tr>\n",
       "      <th>4</th>\n",
       "      <td>LP001008</td>\n",
       "      <td>Male</td>\n",
       "      <td>No</td>\n",
       "      <td>0</td>\n",
       "      <td>Graduate</td>\n",
       "      <td>No</td>\n",
       "      <td>6000</td>\n",
       "      <td>0.0</td>\n",
       "      <td>141.0</td>\n",
       "      <td>360.0</td>\n",
       "      <td>1.0</td>\n",
       "      <td>Urban</td>\n",
       "      <td>Y</td>\n",
       "    </tr>\n",
       "    <tr>\n",
       "      <th>...</th>\n",
       "      <td>...</td>\n",
       "      <td>...</td>\n",
       "      <td>...</td>\n",
       "      <td>...</td>\n",
       "      <td>...</td>\n",
       "      <td>...</td>\n",
       "      <td>...</td>\n",
       "      <td>...</td>\n",
       "      <td>...</td>\n",
       "      <td>...</td>\n",
       "      <td>...</td>\n",
       "      <td>...</td>\n",
       "      <td>...</td>\n",
       "    </tr>\n",
       "    <tr>\n",
       "      <th>609</th>\n",
       "      <td>LP002978</td>\n",
       "      <td>Female</td>\n",
       "      <td>No</td>\n",
       "      <td>0</td>\n",
       "      <td>Graduate</td>\n",
       "      <td>No</td>\n",
       "      <td>2900</td>\n",
       "      <td>0.0</td>\n",
       "      <td>71.0</td>\n",
       "      <td>360.0</td>\n",
       "      <td>1.0</td>\n",
       "      <td>Rural</td>\n",
       "      <td>Y</td>\n",
       "    </tr>\n",
       "    <tr>\n",
       "      <th>610</th>\n",
       "      <td>LP002979</td>\n",
       "      <td>Male</td>\n",
       "      <td>Yes</td>\n",
       "      <td>3+</td>\n",
       "      <td>Graduate</td>\n",
       "      <td>No</td>\n",
       "      <td>4106</td>\n",
       "      <td>0.0</td>\n",
       "      <td>40.0</td>\n",
       "      <td>180.0</td>\n",
       "      <td>1.0</td>\n",
       "      <td>Rural</td>\n",
       "      <td>Y</td>\n",
       "    </tr>\n",
       "    <tr>\n",
       "      <th>611</th>\n",
       "      <td>LP002983</td>\n",
       "      <td>Male</td>\n",
       "      <td>Yes</td>\n",
       "      <td>1</td>\n",
       "      <td>Graduate</td>\n",
       "      <td>No</td>\n",
       "      <td>8072</td>\n",
       "      <td>240.0</td>\n",
       "      <td>253.0</td>\n",
       "      <td>360.0</td>\n",
       "      <td>1.0</td>\n",
       "      <td>Urban</td>\n",
       "      <td>Y</td>\n",
       "    </tr>\n",
       "    <tr>\n",
       "      <th>612</th>\n",
       "      <td>LP002984</td>\n",
       "      <td>Male</td>\n",
       "      <td>Yes</td>\n",
       "      <td>2</td>\n",
       "      <td>Graduate</td>\n",
       "      <td>No</td>\n",
       "      <td>7583</td>\n",
       "      <td>0.0</td>\n",
       "      <td>187.0</td>\n",
       "      <td>360.0</td>\n",
       "      <td>1.0</td>\n",
       "      <td>Urban</td>\n",
       "      <td>Y</td>\n",
       "    </tr>\n",
       "    <tr>\n",
       "      <th>613</th>\n",
       "      <td>LP002990</td>\n",
       "      <td>Female</td>\n",
       "      <td>No</td>\n",
       "      <td>0</td>\n",
       "      <td>Graduate</td>\n",
       "      <td>Yes</td>\n",
       "      <td>4583</td>\n",
       "      <td>0.0</td>\n",
       "      <td>133.0</td>\n",
       "      <td>360.0</td>\n",
       "      <td>0.0</td>\n",
       "      <td>Semiurban</td>\n",
       "      <td>N</td>\n",
       "    </tr>\n",
       "  </tbody>\n",
       "</table>\n",
       "<p>614 rows × 13 columns</p>\n",
       "</div>"
      ],
      "text/plain": [
       "      Loan_ID  Gender Married Dependents     Education Self_Employed  \\\n",
       "0    LP001002    Male      No          0      Graduate            No   \n",
       "1    LP001003    Male     Yes          1      Graduate            No   \n",
       "2    LP001005    Male     Yes          0      Graduate           Yes   \n",
       "3    LP001006    Male     Yes          0  Not Graduate            No   \n",
       "4    LP001008    Male      No          0      Graduate            No   \n",
       "..        ...     ...     ...        ...           ...           ...   \n",
       "609  LP002978  Female      No          0      Graduate            No   \n",
       "610  LP002979    Male     Yes         3+      Graduate            No   \n",
       "611  LP002983    Male     Yes          1      Graduate            No   \n",
       "612  LP002984    Male     Yes          2      Graduate            No   \n",
       "613  LP002990  Female      No          0      Graduate           Yes   \n",
       "\n",
       "     ApplicantIncome  CoapplicantIncome  LoanAmount  Loan_Amount_Term  \\\n",
       "0               5849                0.0       120.0             360.0   \n",
       "1               4583             1508.0       128.0             360.0   \n",
       "2               3000                0.0        66.0             360.0   \n",
       "3               2583             2358.0       120.0             360.0   \n",
       "4               6000                0.0       141.0             360.0   \n",
       "..               ...                ...         ...               ...   \n",
       "609             2900                0.0        71.0             360.0   \n",
       "610             4106                0.0        40.0             180.0   \n",
       "611             8072              240.0       253.0             360.0   \n",
       "612             7583                0.0       187.0             360.0   \n",
       "613             4583                0.0       133.0             360.0   \n",
       "\n",
       "     Credit_History Property_Area Loan_Status  \n",
       "0               1.0         Urban           Y  \n",
       "1               1.0         Rural           N  \n",
       "2               1.0         Urban           Y  \n",
       "3               1.0         Urban           Y  \n",
       "4               1.0         Urban           Y  \n",
       "..              ...           ...         ...  \n",
       "609             1.0         Rural           Y  \n",
       "610             1.0         Rural           Y  \n",
       "611             1.0         Urban           Y  \n",
       "612             1.0         Urban           Y  \n",
       "613             0.0     Semiurban           N  \n",
       "\n",
       "[614 rows x 13 columns]"
      ]
     },
     "execution_count": 29,
     "metadata": {},
     "output_type": "execute_result"
    }
   ],
   "source": [
    "df"
   ]
  },
  {
   "cell_type": "code",
   "execution_count": 30,
   "id": "48c06e9b",
   "metadata": {},
   "outputs": [
    {
     "data": {
      "text/plain": [
       "0     360\n",
       "1     102\n",
       "2     101\n",
       "3+     51\n",
       "Name: Dependents, dtype: int64"
      ]
     },
     "execution_count": 30,
     "metadata": {},
     "output_type": "execute_result"
    }
   ],
   "source": [
    "df['Dependents'].value_counts()"
   ]
  },
  {
   "cell_type": "code",
   "execution_count": null,
   "id": "6024f3ef",
   "metadata": {},
   "outputs": [],
   "source": []
  },
  {
   "cell_type": "code",
   "execution_count": null,
   "id": "530de184",
   "metadata": {},
   "outputs": [],
   "source": []
  },
  {
   "cell_type": "markdown",
   "id": "b2a6ecca",
   "metadata": {},
   "source": [
    "### Encoding data to numeric"
   ]
  },
  {
   "cell_type": "code",
   "execution_count": 31,
   "id": "0b67164d",
   "metadata": {},
   "outputs": [
    {
     "name": "stdout",
     "output_type": "stream",
     "text": [
      "Loan dataset (row, col): (614, 13)\n",
      "<class 'pandas.core.frame.DataFrame'>\n",
      "RangeIndex: 614 entries, 0 to 613\n",
      "Data columns (total 13 columns):\n",
      " #   Column             Non-Null Count  Dtype  \n",
      "---  ------             --------------  -----  \n",
      " 0   Loan_ID            614 non-null    object \n",
      " 1   Gender             614 non-null    int64  \n",
      " 2   Married            614 non-null    int64  \n",
      " 3   Education          614 non-null    int64  \n",
      " 4   Self_Employed      614 non-null    int64  \n",
      " 5   ApplicantIncome    614 non-null    int64  \n",
      " 6   CoapplicantIncome  614 non-null    float64\n",
      " 7   LoanAmount         614 non-null    float64\n",
      " 8   Loan_Amount_Term   614 non-null    float64\n",
      " 9   Credit_History     614 non-null    float64\n",
      " 10  Property_Area      614 non-null    int64  \n",
      " 11  Loan_Status        614 non-null    int64  \n",
      " 12  Dependents         614 non-null    int64  \n",
      "dtypes: float64(4), int64(8), object(1)\n",
      "memory usage: 62.5+ KB\n",
      "None\n"
     ]
    }
   ],
   "source": [
    "#converting categorical values to numbers\n",
    "\n",
    "to_numeric = {'Male': 1, 'Female': 2,\n",
    "'Yes': 1, 'No': 2,\n",
    "'Graduate': 1, 'Not Graduate': 2,\n",
    "'Urban': 3, 'Semiurban': 2,'Rural': 1,\n",
    "'Y': 1, 'N': 0,\n",
    "'3+': 3}\n",
    "\n",
    "# adding the new numeric values from the to_numeric variable to our dataset\n",
    "df_numeric = df.applymap(lambda lable: to_numeric.get(lable) if lable in to_numeric else lable)\n",
    "\n",
    "# the Dependents column\n",
    "Dependents_ = pd.to_numeric(df_numeric.Dependents) # converting the Dependents column\n",
    "df_numeric.drop(['Dependents'], axis = 1, inplace = True) # dropping the previous Dependents column\n",
    "df_numeric = pd.concat([df_numeric, Dependents_], axis = 1) # concatination of the new Dependents column with both datasets\n",
    "\n",
    "# checking our manipulated dataset for validation\n",
    "print(f\"Loan dataset (row, col): {df_numeric.shape}\")\n",
    "print(df_numeric.info())"
   ]
  },
  {
   "cell_type": "code",
   "execution_count": 32,
   "id": "50ef9193",
   "metadata": {},
   "outputs": [
    {
     "data": {
      "text/html": [
       "<div>\n",
       "<style scoped>\n",
       "    .dataframe tbody tr th:only-of-type {\n",
       "        vertical-align: middle;\n",
       "    }\n",
       "\n",
       "    .dataframe tbody tr th {\n",
       "        vertical-align: top;\n",
       "    }\n",
       "\n",
       "    .dataframe thead th {\n",
       "        text-align: right;\n",
       "    }\n",
       "</style>\n",
       "<table border=\"1\" class=\"dataframe\">\n",
       "  <thead>\n",
       "    <tr style=\"text-align: right;\">\n",
       "      <th></th>\n",
       "      <th>Loan_ID</th>\n",
       "      <th>Gender</th>\n",
       "      <th>Married</th>\n",
       "      <th>Education</th>\n",
       "      <th>Self_Employed</th>\n",
       "      <th>ApplicantIncome</th>\n",
       "      <th>CoapplicantIncome</th>\n",
       "      <th>LoanAmount</th>\n",
       "      <th>Loan_Amount_Term</th>\n",
       "      <th>Credit_History</th>\n",
       "      <th>Property_Area</th>\n",
       "      <th>Loan_Status</th>\n",
       "      <th>Dependents</th>\n",
       "    </tr>\n",
       "  </thead>\n",
       "  <tbody>\n",
       "    <tr>\n",
       "      <th>0</th>\n",
       "      <td>LP001002</td>\n",
       "      <td>1</td>\n",
       "      <td>2</td>\n",
       "      <td>1</td>\n",
       "      <td>2</td>\n",
       "      <td>5849</td>\n",
       "      <td>0.0</td>\n",
       "      <td>120.0</td>\n",
       "      <td>360.0</td>\n",
       "      <td>1.0</td>\n",
       "      <td>3</td>\n",
       "      <td>1</td>\n",
       "      <td>0</td>\n",
       "    </tr>\n",
       "    <tr>\n",
       "      <th>1</th>\n",
       "      <td>LP001003</td>\n",
       "      <td>1</td>\n",
       "      <td>1</td>\n",
       "      <td>1</td>\n",
       "      <td>2</td>\n",
       "      <td>4583</td>\n",
       "      <td>1508.0</td>\n",
       "      <td>128.0</td>\n",
       "      <td>360.0</td>\n",
       "      <td>1.0</td>\n",
       "      <td>1</td>\n",
       "      <td>0</td>\n",
       "      <td>1</td>\n",
       "    </tr>\n",
       "    <tr>\n",
       "      <th>2</th>\n",
       "      <td>LP001005</td>\n",
       "      <td>1</td>\n",
       "      <td>1</td>\n",
       "      <td>1</td>\n",
       "      <td>1</td>\n",
       "      <td>3000</td>\n",
       "      <td>0.0</td>\n",
       "      <td>66.0</td>\n",
       "      <td>360.0</td>\n",
       "      <td>1.0</td>\n",
       "      <td>3</td>\n",
       "      <td>1</td>\n",
       "      <td>0</td>\n",
       "    </tr>\n",
       "    <tr>\n",
       "      <th>3</th>\n",
       "      <td>LP001006</td>\n",
       "      <td>1</td>\n",
       "      <td>1</td>\n",
       "      <td>2</td>\n",
       "      <td>2</td>\n",
       "      <td>2583</td>\n",
       "      <td>2358.0</td>\n",
       "      <td>120.0</td>\n",
       "      <td>360.0</td>\n",
       "      <td>1.0</td>\n",
       "      <td>3</td>\n",
       "      <td>1</td>\n",
       "      <td>0</td>\n",
       "    </tr>\n",
       "    <tr>\n",
       "      <th>4</th>\n",
       "      <td>LP001008</td>\n",
       "      <td>1</td>\n",
       "      <td>2</td>\n",
       "      <td>1</td>\n",
       "      <td>2</td>\n",
       "      <td>6000</td>\n",
       "      <td>0.0</td>\n",
       "      <td>141.0</td>\n",
       "      <td>360.0</td>\n",
       "      <td>1.0</td>\n",
       "      <td>3</td>\n",
       "      <td>1</td>\n",
       "      <td>0</td>\n",
       "    </tr>\n",
       "    <tr>\n",
       "      <th>...</th>\n",
       "      <td>...</td>\n",
       "      <td>...</td>\n",
       "      <td>...</td>\n",
       "      <td>...</td>\n",
       "      <td>...</td>\n",
       "      <td>...</td>\n",
       "      <td>...</td>\n",
       "      <td>...</td>\n",
       "      <td>...</td>\n",
       "      <td>...</td>\n",
       "      <td>...</td>\n",
       "      <td>...</td>\n",
       "      <td>...</td>\n",
       "    </tr>\n",
       "    <tr>\n",
       "      <th>609</th>\n",
       "      <td>LP002978</td>\n",
       "      <td>2</td>\n",
       "      <td>2</td>\n",
       "      <td>1</td>\n",
       "      <td>2</td>\n",
       "      <td>2900</td>\n",
       "      <td>0.0</td>\n",
       "      <td>71.0</td>\n",
       "      <td>360.0</td>\n",
       "      <td>1.0</td>\n",
       "      <td>1</td>\n",
       "      <td>1</td>\n",
       "      <td>0</td>\n",
       "    </tr>\n",
       "    <tr>\n",
       "      <th>610</th>\n",
       "      <td>LP002979</td>\n",
       "      <td>1</td>\n",
       "      <td>1</td>\n",
       "      <td>1</td>\n",
       "      <td>2</td>\n",
       "      <td>4106</td>\n",
       "      <td>0.0</td>\n",
       "      <td>40.0</td>\n",
       "      <td>180.0</td>\n",
       "      <td>1.0</td>\n",
       "      <td>1</td>\n",
       "      <td>1</td>\n",
       "      <td>3</td>\n",
       "    </tr>\n",
       "    <tr>\n",
       "      <th>611</th>\n",
       "      <td>LP002983</td>\n",
       "      <td>1</td>\n",
       "      <td>1</td>\n",
       "      <td>1</td>\n",
       "      <td>2</td>\n",
       "      <td>8072</td>\n",
       "      <td>240.0</td>\n",
       "      <td>253.0</td>\n",
       "      <td>360.0</td>\n",
       "      <td>1.0</td>\n",
       "      <td>3</td>\n",
       "      <td>1</td>\n",
       "      <td>1</td>\n",
       "    </tr>\n",
       "    <tr>\n",
       "      <th>612</th>\n",
       "      <td>LP002984</td>\n",
       "      <td>1</td>\n",
       "      <td>1</td>\n",
       "      <td>1</td>\n",
       "      <td>2</td>\n",
       "      <td>7583</td>\n",
       "      <td>0.0</td>\n",
       "      <td>187.0</td>\n",
       "      <td>360.0</td>\n",
       "      <td>1.0</td>\n",
       "      <td>3</td>\n",
       "      <td>1</td>\n",
       "      <td>2</td>\n",
       "    </tr>\n",
       "    <tr>\n",
       "      <th>613</th>\n",
       "      <td>LP002990</td>\n",
       "      <td>2</td>\n",
       "      <td>2</td>\n",
       "      <td>1</td>\n",
       "      <td>1</td>\n",
       "      <td>4583</td>\n",
       "      <td>0.0</td>\n",
       "      <td>133.0</td>\n",
       "      <td>360.0</td>\n",
       "      <td>0.0</td>\n",
       "      <td>2</td>\n",
       "      <td>0</td>\n",
       "      <td>0</td>\n",
       "    </tr>\n",
       "  </tbody>\n",
       "</table>\n",
       "<p>614 rows × 13 columns</p>\n",
       "</div>"
      ],
      "text/plain": [
       "      Loan_ID  Gender  Married  Education  Self_Employed  ApplicantIncome  \\\n",
       "0    LP001002       1        2          1              2             5849   \n",
       "1    LP001003       1        1          1              2             4583   \n",
       "2    LP001005       1        1          1              1             3000   \n",
       "3    LP001006       1        1          2              2             2583   \n",
       "4    LP001008       1        2          1              2             6000   \n",
       "..        ...     ...      ...        ...            ...              ...   \n",
       "609  LP002978       2        2          1              2             2900   \n",
       "610  LP002979       1        1          1              2             4106   \n",
       "611  LP002983       1        1          1              2             8072   \n",
       "612  LP002984       1        1          1              2             7583   \n",
       "613  LP002990       2        2          1              1             4583   \n",
       "\n",
       "     CoapplicantIncome  LoanAmount  Loan_Amount_Term  Credit_History  \\\n",
       "0                  0.0       120.0             360.0             1.0   \n",
       "1               1508.0       128.0             360.0             1.0   \n",
       "2                  0.0        66.0             360.0             1.0   \n",
       "3               2358.0       120.0             360.0             1.0   \n",
       "4                  0.0       141.0             360.0             1.0   \n",
       "..                 ...         ...               ...             ...   \n",
       "609                0.0        71.0             360.0             1.0   \n",
       "610                0.0        40.0             180.0             1.0   \n",
       "611              240.0       253.0             360.0             1.0   \n",
       "612                0.0       187.0             360.0             1.0   \n",
       "613                0.0       133.0             360.0             0.0   \n",
       "\n",
       "     Property_Area  Loan_Status  Dependents  \n",
       "0                3            1           0  \n",
       "1                1            0           1  \n",
       "2                3            1           0  \n",
       "3                3            1           0  \n",
       "4                3            1           0  \n",
       "..             ...          ...         ...  \n",
       "609              1            1           0  \n",
       "610              1            1           3  \n",
       "611              3            1           1  \n",
       "612              3            1           2  \n",
       "613              2            0           0  \n",
       "\n",
       "[614 rows x 13 columns]"
      ]
     },
     "execution_count": 32,
     "metadata": {},
     "output_type": "execute_result"
    }
   ],
   "source": [
    "df_numeric"
   ]
  },
  {
   "cell_type": "code",
   "execution_count": 33,
   "id": "5f2cdaad",
   "metadata": {},
   "outputs": [
    {
     "data": {
      "text/plain": [
       "0    360\n",
       "1    102\n",
       "2    101\n",
       "3     51\n",
       "Name: Dependents, dtype: int64"
      ]
     },
     "execution_count": 33,
     "metadata": {},
     "output_type": "execute_result"
    }
   ],
   "source": [
    "df_numeric['Dependents'].value_counts()"
   ]
  },
  {
   "cell_type": "code",
   "execution_count": null,
   "id": "a8ebb3c4",
   "metadata": {},
   "outputs": [],
   "source": []
  },
  {
   "cell_type": "markdown",
   "id": "ec27dd8e",
   "metadata": {},
   "source": [
    "## `Feature Engineering`  \n",
    " \n",
    "### 1) Correlation matrix  "
   ]
  },
  {
   "cell_type": "code",
   "execution_count": 34,
   "id": "9a74ec67",
   "metadata": {},
   "outputs": [
    {
     "data": {
      "text/plain": [
       "<AxesSubplot:>"
      ]
     },
     "execution_count": 34,
     "metadata": {},
     "output_type": "execute_result"
    },
    {
     "data": {
      "image/png": "[encoded data removed]",
      "text/plain": [
       "<Figure size 432x288 with 2 Axes>"
      ]
     },
     "metadata": {},
     "output_type": "display_data"
    }
   ],
   "source": [
    "#plotting the correlation matrix\n",
    "sns.heatmap(df_numeric.corr() ,cmap='cubehelix_r')"
   ]
  },
  {
   "cell_type": "markdown",
   "id": "f73833bb",
   "metadata": {},
   "source": [
    "Correlation table for a more detailed analysis:"
   ]
  },
  {
   "cell_type": "code",
   "execution_count": 35,
   "id": "969ae3df",
   "metadata": {},
   "outputs": [
    {
     "data": {
      "text/html": [
       "<style type=\"text/css\">\n",
       "#T_8c0dc_row0_col0, #T_8c0dc_row1_col1, #T_8c0dc_row2_col2, #T_8c0dc_row3_col3, #T_8c0dc_row4_col4, #T_8c0dc_row5_col5, #T_8c0dc_row6_col6, #T_8c0dc_row7_col7, #T_8c0dc_row8_col8, #T_8c0dc_row9_col9, #T_8c0dc_row10_col10, #T_8c0dc_row11_col11 {\n",
       "  background-color: #b40426;\n",
       "  color: #f1f1f1;\n",
       "}\n",
       "#T_8c0dc_row0_col1 {\n",
       "  background-color: #e3d9d3;\n",
       "  color: #000000;\n",
       "}\n",
       "#T_8c0dc_row0_col2, #T_8c0dc_row2_col0, #T_8c0dc_row8_col4 {\n",
       "  background-color: #5b7ae5;\n",
       "  color: #f1f1f1;\n",
       "}\n",
       "#T_8c0dc_row0_col3, #T_8c0dc_row9_col10 {\n",
       "  background-color: #5d7ce6;\n",
       "  color: #f1f1f1;\n",
       "}\n",
       "#T_8c0dc_row0_col4, #T_8c0dc_row8_col9, #T_8c0dc_row9_col8, #T_8c0dc_row10_col2, #T_8c0dc_row10_col7, #T_8c0dc_row11_col9 {\n",
       "  background-color: #506bda;\n",
       "  color: #f1f1f1;\n",
       "}\n",
       "#T_8c0dc_row0_col5, #T_8c0dc_row5_col10, #T_8c0dc_row11_col8 {\n",
       "  background-color: #4358cb;\n",
       "  color: #f1f1f1;\n",
       "}\n",
       "#T_8c0dc_row0_col6, #T_8c0dc_row4_col7, #T_8c0dc_row4_col8, #T_8c0dc_row6_col10, #T_8c0dc_row7_col5, #T_8c0dc_row10_col5 {\n",
       "  background-color: #4a63d3;\n",
       "  color: #f1f1f1;\n",
       "}\n",
       "#T_8c0dc_row0_col7 {\n",
       "  background-color: #6e90f2;\n",
       "  color: #f1f1f1;\n",
       "}\n",
       "#T_8c0dc_row0_col8, #T_8c0dc_row4_col9, #T_8c0dc_row11_col3 {\n",
       "  background-color: #4c66d6;\n",
       "  color: #f1f1f1;\n",
       "}\n",
       "#T_8c0dc_row0_col9, #T_8c0dc_row4_col0 {\n",
       "  background-color: #5875e1;\n",
       "  color: #f1f1f1;\n",
       "}\n",
       "#T_8c0dc_row0_col10, #T_8c0dc_row1_col9, #T_8c0dc_row3_col8, #T_8c0dc_row6_col8 {\n",
       "  background-color: #4f69d9;\n",
       "  color: #f1f1f1;\n",
       "}\n",
       "#T_8c0dc_row0_col11, #T_8c0dc_row3_col5, #T_8c0dc_row10_col4, #T_8c0dc_row10_col6 {\n",
       "  background-color: #5f7fe8;\n",
       "  color: #f1f1f1;\n",
       "}\n",
       "#T_8c0dc_row1_col0 {\n",
       "  background-color: #d2dbe8;\n",
       "  color: #000000;\n",
       "}\n",
       "#T_8c0dc_row1_col2 {\n",
       "  background-color: #6485ec;\n",
       "  color: #f1f1f1;\n",
       "}\n",
       "#T_8c0dc_row1_col3, #T_8c0dc_row8_col3, #T_8c0dc_row8_col5, #T_8c0dc_row9_col4, #T_8c0dc_row9_col5, #T_8c0dc_row10_col3 {\n",
       "  background-color: #5e7de7;\n",
       "  color: #f1f1f1;\n",
       "}\n",
       "#T_8c0dc_row1_col4, #T_8c0dc_row5_col0 {\n",
       "  background-color: #516ddb;\n",
       "  color: #f1f1f1;\n",
       "}\n",
       "#T_8c0dc_row1_col5 {\n",
       "  background-color: #455cce;\n",
       "  color: #f1f1f1;\n",
       "}\n",
       "#T_8c0dc_row1_col6, #T_8c0dc_row5_col4 {\n",
       "  background-color: #4055c8;\n",
       "  color: #f1f1f1;\n",
       "}\n",
       "#T_8c0dc_row1_col7 {\n",
       "  background-color: #7699f6;\n",
       "  color: #f1f1f1;\n",
       "}\n",
       "#T_8c0dc_row1_col8, #T_8c0dc_row6_col0 {\n",
       "  background-color: #4b64d5;\n",
       "  color: #f1f1f1;\n",
       "}\n",
       "#T_8c0dc_row1_col10, #T_8c0dc_row1_col11, #T_8c0dc_row2_col4, #T_8c0dc_row2_col6, #T_8c0dc_row2_col8, #T_8c0dc_row4_col3, #T_8c0dc_row4_col5, #T_8c0dc_row6_col2, #T_8c0dc_row7_col9, #T_8c0dc_row11_col0, #T_8c0dc_row11_col1, #T_8c0dc_row11_col7 {\n",
       "  background-color: #3b4cc0;\n",
       "  color: #f1f1f1;\n",
       "}\n",
       "#T_8c0dc_row2_col1 {\n",
       "  background-color: #89acfd;\n",
       "  color: #000000;\n",
       "}\n",
       "#T_8c0dc_row2_col3, #T_8c0dc_row3_col7 {\n",
       "  background-color: #6180e9;\n",
       "  color: #f1f1f1;\n",
       "}\n",
       "#T_8c0dc_row2_col5 {\n",
       "  background-color: #4961d2;\n",
       "  color: #f1f1f1;\n",
       "}\n",
       "#T_8c0dc_row2_col7, #T_8c0dc_row4_col2, #T_8c0dc_row6_col9, #T_8c0dc_row9_col7 {\n",
       "  background-color: #4257c9;\n",
       "  color: #f1f1f1;\n",
       "}\n",
       "#T_8c0dc_row2_col9, #T_8c0dc_row6_col3 {\n",
       "  background-color: #3d50c3;\n",
       "  color: #f1f1f1;\n",
       "}\n",
       "#T_8c0dc_row2_col10 {\n",
       "  background-color: #3c4ec2;\n",
       "  color: #f1f1f1;\n",
       "}\n",
       "#T_8c0dc_row2_col11 {\n",
       "  background-color: #9bbcff;\n",
       "  color: #000000;\n",
       "}\n",
       "#T_8c0dc_row3_col0, #T_8c0dc_row8_col6 {\n",
       "  background-color: #688aef;\n",
       "  color: #f1f1f1;\n",
       "}\n",
       "#T_8c0dc_row3_col1, #T_8c0dc_row9_col11 {\n",
       "  background-color: #8db0fe;\n",
       "  color: #000000;\n",
       "}\n",
       "#T_8c0dc_row3_col2 {\n",
       "  background-color: #6b8df0;\n",
       "  color: #f1f1f1;\n",
       "}\n",
       "#T_8c0dc_row3_col4 {\n",
       "  background-color: #3e51c5;\n",
       "  color: #f1f1f1;\n",
       "}\n",
       "#T_8c0dc_row3_col6 {\n",
       "  background-color: #485fd1;\n",
       "  color: #f1f1f1;\n",
       "}\n",
       "#T_8c0dc_row3_col9, #T_8c0dc_row10_col9 {\n",
       "  background-color: #5977e3;\n",
       "  color: #f1f1f1;\n",
       "}\n",
       "#T_8c0dc_row3_col10, #T_8c0dc_row8_col7, #T_8c0dc_row9_col2 {\n",
       "  background-color: #5572df;\n",
       "  color: #f1f1f1;\n",
       "}\n",
       "#T_8c0dc_row3_col11, #T_8c0dc_row7_col0 {\n",
       "  background-color: #7ea1fa;\n",
       "  color: #f1f1f1;\n",
       "}\n",
       "#T_8c0dc_row4_col1 {\n",
       "  background-color: #80a3fa;\n",
       "  color: #f1f1f1;\n",
       "}\n",
       "#T_8c0dc_row4_col6 {\n",
       "  background-color: #f5c4ac;\n",
       "  color: #000000;\n",
       "}\n",
       "#T_8c0dc_row4_col10, #T_8c0dc_row5_col8, #T_8c0dc_row5_col9, #T_8c0dc_row7_col2, #T_8c0dc_row8_col2 {\n",
       "  background-color: #536edd;\n",
       "  color: #f1f1f1;\n",
       "}\n",
       "#T_8c0dc_row4_col11 {\n",
       "  background-color: #abc8fd;\n",
       "  color: #000000;\n",
       "}\n",
       "#T_8c0dc_row5_col1, #T_8c0dc_row11_col2 {\n",
       "  background-color: #799cf8;\n",
       "  color: #f1f1f1;\n",
       "}\n",
       "#T_8c0dc_row5_col2, #T_8c0dc_row11_col10 {\n",
       "  background-color: #5673e0;\n",
       "  color: #f1f1f1;\n",
       "}\n",
       "#T_8c0dc_row5_col3, #T_8c0dc_row6_col7 {\n",
       "  background-color: #6282ea;\n",
       "  color: #f1f1f1;\n",
       "}\n",
       "#T_8c0dc_row5_col6 {\n",
       "  background-color: #a1c0ff;\n",
       "  color: #000000;\n",
       "}\n",
       "#T_8c0dc_row5_col7 {\n",
       "  background-color: #465ecf;\n",
       "  color: #f1f1f1;\n",
       "}\n",
       "#T_8c0dc_row5_col11 {\n",
       "  background-color: #94b6ff;\n",
       "  color: #000000;\n",
       "}\n",
       "#T_8c0dc_row6_col1, #T_8c0dc_row7_col3 {\n",
       "  background-color: #6788ee;\n",
       "  color: #f1f1f1;\n",
       "}\n",
       "#T_8c0dc_row6_col4 {\n",
       "  background-color: #f4c6af;\n",
       "  color: #000000;\n",
       "}\n",
       "#T_8c0dc_row6_col5 {\n",
       "  background-color: #96b7ff;\n",
       "  color: #000000;\n",
       "}\n",
       "#T_8c0dc_row6_col11 {\n",
       "  background-color: #b7cff9;\n",
       "  color: #000000;\n",
       "}\n",
       "#T_8c0dc_row7_col1 {\n",
       "  background-color: #a7c5fe;\n",
       "  color: #000000;\n",
       "}\n",
       "#T_8c0dc_row7_col4 {\n",
       "  background-color: #5470de;\n",
       "  color: #f1f1f1;\n",
       "}\n",
       "#T_8c0dc_row7_col6 {\n",
       "  background-color: #7396f5;\n",
       "  color: #f1f1f1;\n",
       "}\n",
       "#T_8c0dc_row7_col8, #T_8c0dc_row7_col10 {\n",
       "  background-color: #4e68d8;\n",
       "  color: #f1f1f1;\n",
       "}\n",
       "#T_8c0dc_row7_col11 {\n",
       "  background-color: #7295f4;\n",
       "  color: #f1f1f1;\n",
       "}\n",
       "#T_8c0dc_row8_col0, #T_8c0dc_row9_col3 {\n",
       "  background-color: #6687ed;\n",
       "  color: #f1f1f1;\n",
       "}\n",
       "#T_8c0dc_row8_col1 {\n",
       "  background-color: #8badfd;\n",
       "  color: #000000;\n",
       "}\n",
       "#T_8c0dc_row8_col10 {\n",
       "  background-color: #efcfbf;\n",
       "  color: #000000;\n",
       "}\n",
       "#T_8c0dc_row8_col11 {\n",
       "  background-color: #82a6fb;\n",
       "  color: #f1f1f1;\n",
       "}\n",
       "#T_8c0dc_row9_col0 {\n",
       "  background-color: #7093f3;\n",
       "  color: #f1f1f1;\n",
       "}\n",
       "#T_8c0dc_row9_col1 {\n",
       "  background-color: #8caffe;\n",
       "  color: #000000;\n",
       "}\n",
       "#T_8c0dc_row9_col6 {\n",
       "  background-color: #5a78e4;\n",
       "  color: #f1f1f1;\n",
       "}\n",
       "#T_8c0dc_row10_col0, #T_8c0dc_row11_col5 {\n",
       "  background-color: #6384eb;\n",
       "  color: #f1f1f1;\n",
       "}\n",
       "#T_8c0dc_row10_col1 {\n",
       "  background-color: #7597f6;\n",
       "  color: #f1f1f1;\n",
       "}\n",
       "#T_8c0dc_row10_col8 {\n",
       "  background-color: #edd1c2;\n",
       "  color: #000000;\n",
       "}\n",
       "#T_8c0dc_row10_col11 {\n",
       "  background-color: #90b2fe;\n",
       "  color: #000000;\n",
       "}\n",
       "#T_8c0dc_row11_col4 {\n",
       "  background-color: #85a8fc;\n",
       "  color: #f1f1f1;\n",
       "}\n",
       "#T_8c0dc_row11_col6 {\n",
       "  background-color: #98b9ff;\n",
       "  color: #000000;\n",
       "}\n",
       "</style>\n",
       "<table id=\"T_8c0dc_\">\n",
       "  <thead>\n",
       "    <tr>\n",
       "      <th class=\"blank level0\" >&nbsp;</th>\n",
       "      <th class=\"col_heading level0 col0\" >Gender</th>\n",
       "      <th class=\"col_heading level0 col1\" >Married</th>\n",
       "      <th class=\"col_heading level0 col2\" >Education</th>\n",
       "      <th class=\"col_heading level0 col3\" >Self_Employed</th>\n",
       "      <th class=\"col_heading level0 col4\" >ApplicantIncome</th>\n",
       "      <th class=\"col_heading level0 col5\" >CoapplicantIncome</th>\n",
       "      <th class=\"col_heading level0 col6\" >LoanAmount</th>\n",
       "      <th class=\"col_heading level0 col7\" >Loan_Amount_Term</th>\n",
       "      <th class=\"col_heading level0 col8\" >Credit_History</th>\n",
       "      <th class=\"col_heading level0 col9\" >Property_Area</th>\n",
       "      <th class=\"col_heading level0 col10\" >Loan_Status</th>\n",
       "      <th class=\"col_heading level0 col11\" >Dependents</th>\n",
       "    </tr>\n",
       "  </thead>\n",
       "  <tbody>\n",
       "    <tr>\n",
       "      <th id=\"T_8c0dc_level0_row0\" class=\"row_heading level0 row0\" >Gender</th>\n",
       "      <td id=\"T_8c0dc_row0_col0\" class=\"data row0 col0\" >1.00</td>\n",
       "      <td id=\"T_8c0dc_row0_col1\" class=\"data row0 col1\" >0.36</td>\n",
       "      <td id=\"T_8c0dc_row0_col2\" class=\"data row0 col2\" >-0.05</td>\n",
       "      <td id=\"T_8c0dc_row0_col3\" class=\"data row0 col3\" >-0.00</td>\n",
       "      <td id=\"T_8c0dc_row0_col4\" class=\"data row0 col4\" >-0.06</td>\n",
       "      <td id=\"T_8c0dc_row0_col5\" class=\"data row0 col5\" >-0.08</td>\n",
       "      <td id=\"T_8c0dc_row0_col6\" class=\"data row0 col6\" >-0.11</td>\n",
       "      <td id=\"T_8c0dc_row0_col7\" class=\"data row0 col7\" >0.07</td>\n",
       "      <td id=\"T_8c0dc_row0_col8\" class=\"data row0 col8\" >-0.01</td>\n",
       "      <td id=\"T_8c0dc_row0_col9\" class=\"data row0 col9\" >0.03</td>\n",
       "      <td id=\"T_8c0dc_row0_col10\" class=\"data row0 col10\" >-0.02</td>\n",
       "      <td id=\"T_8c0dc_row0_col11\" class=\"data row0 col11\" >-0.17</td>\n",
       "    </tr>\n",
       "    <tr>\n",
       "      <th id=\"T_8c0dc_level0_row1\" class=\"row_heading level0 row1\" >Married</th>\n",
       "      <td id=\"T_8c0dc_row1_col0\" class=\"data row1 col0\" >0.36</td>\n",
       "      <td id=\"T_8c0dc_row1_col1\" class=\"data row1 col1\" >1.00</td>\n",
       "      <td id=\"T_8c0dc_row1_col2\" class=\"data row1 col2\" >-0.01</td>\n",
       "      <td id=\"T_8c0dc_row1_col3\" class=\"data row1 col3\" >0.00</td>\n",
       "      <td id=\"T_8c0dc_row1_col4\" class=\"data row1 col4\" >-0.05</td>\n",
       "      <td id=\"T_8c0dc_row1_col5\" class=\"data row1 col5\" >-0.08</td>\n",
       "      <td id=\"T_8c0dc_row1_col6\" class=\"data row1 col6\" >-0.15</td>\n",
       "      <td id=\"T_8c0dc_row1_col7\" class=\"data row1 col7\" >0.10</td>\n",
       "      <td id=\"T_8c0dc_row1_col8\" class=\"data row1 col8\" >-0.01</td>\n",
       "      <td id=\"T_8c0dc_row1_col9\" class=\"data row1 col9\" >-0.00</td>\n",
       "      <td id=\"T_8c0dc_row1_col10\" class=\"data row1 col10\" >-0.09</td>\n",
       "      <td id=\"T_8c0dc_row1_col11\" class=\"data row1 col11\" >-0.33</td>\n",
       "    </tr>\n",
       "    <tr>\n",
       "      <th id=\"T_8c0dc_level0_row2\" class=\"row_heading level0 row2\" >Education</th>\n",
       "      <td id=\"T_8c0dc_row2_col0\" class=\"data row2 col0\" >-0.05</td>\n",
       "      <td id=\"T_8c0dc_row2_col1\" class=\"data row2 col1\" >-0.01</td>\n",
       "      <td id=\"T_8c0dc_row2_col2\" class=\"data row2 col2\" >1.00</td>\n",
       "      <td id=\"T_8c0dc_row2_col3\" class=\"data row2 col3\" >0.01</td>\n",
       "      <td id=\"T_8c0dc_row2_col4\" class=\"data row2 col4\" >-0.14</td>\n",
       "      <td id=\"T_8c0dc_row2_col5\" class=\"data row2 col5\" >-0.06</td>\n",
       "      <td id=\"T_8c0dc_row2_col6\" class=\"data row2 col6\" >-0.17</td>\n",
       "      <td id=\"T_8c0dc_row2_col7\" class=\"data row2 col7\" >-0.07</td>\n",
       "      <td id=\"T_8c0dc_row2_col8\" class=\"data row2 col8\" >-0.07</td>\n",
       "      <td id=\"T_8c0dc_row2_col9\" class=\"data row2 col9\" >-0.07</td>\n",
       "      <td id=\"T_8c0dc_row2_col10\" class=\"data row2 col10\" >-0.09</td>\n",
       "      <td id=\"T_8c0dc_row2_col11\" class=\"data row2 col11\" >0.06</td>\n",
       "    </tr>\n",
       "    <tr>\n",
       "      <th id=\"T_8c0dc_level0_row3\" class=\"row_heading level0 row3\" >Self_Employed</th>\n",
       "      <td id=\"T_8c0dc_row3_col0\" class=\"data row3 col0\" >-0.00</td>\n",
       "      <td id=\"T_8c0dc_row3_col1\" class=\"data row3 col1\" >0.00</td>\n",
       "      <td id=\"T_8c0dc_row3_col2\" class=\"data row3 col2\" >0.01</td>\n",
       "      <td id=\"T_8c0dc_row3_col3\" class=\"data row3 col3\" >1.00</td>\n",
       "      <td id=\"T_8c0dc_row3_col4\" class=\"data row3 col4\" >-0.13</td>\n",
       "      <td id=\"T_8c0dc_row3_col5\" class=\"data row3 col5\" >0.02</td>\n",
       "      <td id=\"T_8c0dc_row3_col6\" class=\"data row3 col6\" >-0.11</td>\n",
       "      <td id=\"T_8c0dc_row3_col7\" class=\"data row3 col7\" >0.03</td>\n",
       "      <td id=\"T_8c0dc_row3_col8\" class=\"data row3 col8\" >0.00</td>\n",
       "      <td id=\"T_8c0dc_row3_col9\" class=\"data row3 col9\" >0.03</td>\n",
       "      <td id=\"T_8c0dc_row3_col10\" class=\"data row3 col10\" >0.00</td>\n",
       "      <td id=\"T_8c0dc_row3_col11\" class=\"data row3 col11\" >-0.06</td>\n",
       "    </tr>\n",
       "    <tr>\n",
       "      <th id=\"T_8c0dc_level0_row4\" class=\"row_heading level0 row4\" >ApplicantIncome</th>\n",
       "      <td id=\"T_8c0dc_row4_col0\" class=\"data row4 col0\" >-0.06</td>\n",
       "      <td id=\"T_8c0dc_row4_col1\" class=\"data row4 col1\" >-0.05</td>\n",
       "      <td id=\"T_8c0dc_row4_col2\" class=\"data row4 col2\" >-0.14</td>\n",
       "      <td id=\"T_8c0dc_row4_col3\" class=\"data row4 col3\" >-0.13</td>\n",
       "      <td id=\"T_8c0dc_row4_col4\" class=\"data row4 col4\" >1.00</td>\n",
       "      <td id=\"T_8c0dc_row4_col5\" class=\"data row4 col5\" >-0.12</td>\n",
       "      <td id=\"T_8c0dc_row4_col6\" class=\"data row4 col6\" >0.56</td>\n",
       "      <td id=\"T_8c0dc_row4_col7\" class=\"data row4 col7\" >-0.05</td>\n",
       "      <td id=\"T_8c0dc_row4_col8\" class=\"data row4 col8\" >-0.02</td>\n",
       "      <td id=\"T_8c0dc_row4_col9\" class=\"data row4 col9\" >-0.01</td>\n",
       "      <td id=\"T_8c0dc_row4_col10\" class=\"data row4 col10\" >-0.00</td>\n",
       "      <td id=\"T_8c0dc_row4_col11\" class=\"data row4 col11\" >0.12</td>\n",
       "    </tr>\n",
       "    <tr>\n",
       "      <th id=\"T_8c0dc_level0_row5\" class=\"row_heading level0 row5\" >CoapplicantIncome</th>\n",
       "      <td id=\"T_8c0dc_row5_col0\" class=\"data row5 col0\" >-0.08</td>\n",
       "      <td id=\"T_8c0dc_row5_col1\" class=\"data row5 col1\" >-0.08</td>\n",
       "      <td id=\"T_8c0dc_row5_col2\" class=\"data row5 col2\" >-0.06</td>\n",
       "      <td id=\"T_8c0dc_row5_col3\" class=\"data row5 col3\" >0.02</td>\n",
       "      <td id=\"T_8c0dc_row5_col4\" class=\"data row5 col4\" >-0.12</td>\n",
       "      <td id=\"T_8c0dc_row5_col5\" class=\"data row5 col5\" >1.00</td>\n",
       "      <td id=\"T_8c0dc_row5_col6\" class=\"data row5 col6\" >0.19</td>\n",
       "      <td id=\"T_8c0dc_row5_col7\" class=\"data row5 col7\" >-0.06</td>\n",
       "      <td id=\"T_8c0dc_row5_col8\" class=\"data row5 col8\" >0.01</td>\n",
       "      <td id=\"T_8c0dc_row5_col9\" class=\"data row5 col9\" >0.01</td>\n",
       "      <td id=\"T_8c0dc_row5_col10\" class=\"data row5 col10\" >-0.06</td>\n",
       "      <td id=\"T_8c0dc_row5_col11\" class=\"data row5 col11\" >0.03</td>\n",
       "    </tr>\n",
       "    <tr>\n",
       "      <th id=\"T_8c0dc_level0_row6\" class=\"row_heading level0 row6\" >LoanAmount</th>\n",
       "      <td id=\"T_8c0dc_row6_col0\" class=\"data row6 col0\" >-0.11</td>\n",
       "      <td id=\"T_8c0dc_row6_col1\" class=\"data row6 col1\" >-0.15</td>\n",
       "      <td id=\"T_8c0dc_row6_col2\" class=\"data row6 col2\" >-0.17</td>\n",
       "      <td id=\"T_8c0dc_row6_col3\" class=\"data row6 col3\" >-0.11</td>\n",
       "      <td id=\"T_8c0dc_row6_col4\" class=\"data row6 col4\" >0.56</td>\n",
       "      <td id=\"T_8c0dc_row6_col5\" class=\"data row6 col5\" >0.19</td>\n",
       "      <td id=\"T_8c0dc_row6_col6\" class=\"data row6 col6\" >1.00</td>\n",
       "      <td id=\"T_8c0dc_row6_col7\" class=\"data row6 col7\" >0.04</td>\n",
       "      <td id=\"T_8c0dc_row6_col8\" class=\"data row6 col8\" >-0.00</td>\n",
       "      <td id=\"T_8c0dc_row6_col9\" class=\"data row6 col9\" >-0.05</td>\n",
       "      <td id=\"T_8c0dc_row6_col10\" class=\"data row6 col10\" >-0.03</td>\n",
       "      <td id=\"T_8c0dc_row6_col11\" class=\"data row6 col11\" >0.16</td>\n",
       "    </tr>\n",
       "    <tr>\n",
       "      <th id=\"T_8c0dc_level0_row7\" class=\"row_heading level0 row7\" >Loan_Amount_Term</th>\n",
       "      <td id=\"T_8c0dc_row7_col0\" class=\"data row7 col0\" >0.07</td>\n",
       "      <td id=\"T_8c0dc_row7_col1\" class=\"data row7 col1\" >0.10</td>\n",
       "      <td id=\"T_8c0dc_row7_col2\" class=\"data row7 col2\" >-0.07</td>\n",
       "      <td id=\"T_8c0dc_row7_col3\" class=\"data row7 col3\" >0.03</td>\n",
       "      <td id=\"T_8c0dc_row7_col4\" class=\"data row7 col4\" >-0.05</td>\n",
       "      <td id=\"T_8c0dc_row7_col5\" class=\"data row7 col5\" >-0.06</td>\n",
       "      <td id=\"T_8c0dc_row7_col6\" class=\"data row7 col6\" >0.04</td>\n",
       "      <td id=\"T_8c0dc_row7_col7\" class=\"data row7 col7\" >1.00</td>\n",
       "      <td id=\"T_8c0dc_row7_col8\" class=\"data row7 col8\" >-0.00</td>\n",
       "      <td id=\"T_8c0dc_row7_col9\" class=\"data row7 col9\" >-0.08</td>\n",
       "      <td id=\"T_8c0dc_row7_col10\" class=\"data row7 col10\" >-0.02</td>\n",
       "      <td id=\"T_8c0dc_row7_col11\" class=\"data row7 col11\" >-0.10</td>\n",
       "    </tr>\n",
       "    <tr>\n",
       "      <th id=\"T_8c0dc_level0_row8\" class=\"row_heading level0 row8\" >Credit_History</th>\n",
       "      <td id=\"T_8c0dc_row8_col0\" class=\"data row8 col0\" >-0.01</td>\n",
       "      <td id=\"T_8c0dc_row8_col1\" class=\"data row8 col1\" >-0.01</td>\n",
       "      <td id=\"T_8c0dc_row8_col2\" class=\"data row8 col2\" >-0.07</td>\n",
       "      <td id=\"T_8c0dc_row8_col3\" class=\"data row8 col3\" >0.00</td>\n",
       "      <td id=\"T_8c0dc_row8_col4\" class=\"data row8 col4\" >-0.02</td>\n",
       "      <td id=\"T_8c0dc_row8_col5\" class=\"data row8 col5\" >0.01</td>\n",
       "      <td id=\"T_8c0dc_row8_col6\" class=\"data row8 col6\" >-0.00</td>\n",
       "      <td id=\"T_8c0dc_row8_col7\" class=\"data row8 col7\" >-0.00</td>\n",
       "      <td id=\"T_8c0dc_row8_col8\" class=\"data row8 col8\" >1.00</td>\n",
       "      <td id=\"T_8c0dc_row8_col9\" class=\"data row8 col9\" >0.00</td>\n",
       "      <td id=\"T_8c0dc_row8_col10\" class=\"data row8 col10\" >0.54</td>\n",
       "      <td id=\"T_8c0dc_row8_col11\" class=\"data row8 col11\" >-0.04</td>\n",
       "    </tr>\n",
       "    <tr>\n",
       "      <th id=\"T_8c0dc_level0_row9\" class=\"row_heading level0 row9\" >Property_Area</th>\n",
       "      <td id=\"T_8c0dc_row9_col0\" class=\"data row9 col0\" >0.03</td>\n",
       "      <td id=\"T_8c0dc_row9_col1\" class=\"data row9 col1\" >-0.00</td>\n",
       "      <td id=\"T_8c0dc_row9_col2\" class=\"data row9 col2\" >-0.07</td>\n",
       "      <td id=\"T_8c0dc_row9_col3\" class=\"data row9 col3\" >0.03</td>\n",
       "      <td id=\"T_8c0dc_row9_col4\" class=\"data row9 col4\" >-0.01</td>\n",
       "      <td id=\"T_8c0dc_row9_col5\" class=\"data row9 col5\" >0.01</td>\n",
       "      <td id=\"T_8c0dc_row9_col6\" class=\"data row9 col6\" >-0.05</td>\n",
       "      <td id=\"T_8c0dc_row9_col7\" class=\"data row9 col7\" >-0.08</td>\n",
       "      <td id=\"T_8c0dc_row9_col8\" class=\"data row9 col8\" >0.00</td>\n",
       "      <td id=\"T_8c0dc_row9_col9\" class=\"data row9 col9\" >1.00</td>\n",
       "      <td id=\"T_8c0dc_row9_col10\" class=\"data row9 col10\" >0.03</td>\n",
       "      <td id=\"T_8c0dc_row9_col11\" class=\"data row9 col11\" >-0.00</td>\n",
       "    </tr>\n",
       "    <tr>\n",
       "      <th id=\"T_8c0dc_level0_row10\" class=\"row_heading level0 row10\" >Loan_Status</th>\n",
       "      <td id=\"T_8c0dc_row10_col0\" class=\"data row10 col0\" >-0.02</td>\n",
       "      <td id=\"T_8c0dc_row10_col1\" class=\"data row10 col1\" >-0.09</td>\n",
       "      <td id=\"T_8c0dc_row10_col2\" class=\"data row10 col2\" >-0.09</td>\n",
       "      <td id=\"T_8c0dc_row10_col3\" class=\"data row10 col3\" >0.00</td>\n",
       "      <td id=\"T_8c0dc_row10_col4\" class=\"data row10 col4\" >-0.00</td>\n",
       "      <td id=\"T_8c0dc_row10_col5\" class=\"data row10 col5\" >-0.06</td>\n",
       "      <td id=\"T_8c0dc_row10_col6\" class=\"data row10 col6\" >-0.03</td>\n",
       "      <td id=\"T_8c0dc_row10_col7\" class=\"data row10 col7\" >-0.02</td>\n",
       "      <td id=\"T_8c0dc_row10_col8\" class=\"data row10 col8\" >0.54</td>\n",
       "      <td id=\"T_8c0dc_row10_col9\" class=\"data row10 col9\" >0.03</td>\n",
       "      <td id=\"T_8c0dc_row10_col10\" class=\"data row10 col10\" >1.00</td>\n",
       "      <td id=\"T_8c0dc_row10_col11\" class=\"data row10 col11\" >0.01</td>\n",
       "    </tr>\n",
       "    <tr>\n",
       "      <th id=\"T_8c0dc_level0_row11\" class=\"row_heading level0 row11\" >Dependents</th>\n",
       "      <td id=\"T_8c0dc_row11_col0\" class=\"data row11 col0\" >-0.17</td>\n",
       "      <td id=\"T_8c0dc_row11_col1\" class=\"data row11 col1\" >-0.33</td>\n",
       "      <td id=\"T_8c0dc_row11_col2\" class=\"data row11 col2\" >0.06</td>\n",
       "      <td id=\"T_8c0dc_row11_col3\" class=\"data row11 col3\" >-0.06</td>\n",
       "      <td id=\"T_8c0dc_row11_col4\" class=\"data row11 col4\" >0.12</td>\n",
       "      <td id=\"T_8c0dc_row11_col5\" class=\"data row11 col5\" >0.03</td>\n",
       "      <td id=\"T_8c0dc_row11_col6\" class=\"data row11 col6\" >0.16</td>\n",
       "      <td id=\"T_8c0dc_row11_col7\" class=\"data row11 col7\" >-0.10</td>\n",
       "      <td id=\"T_8c0dc_row11_col8\" class=\"data row11 col8\" >-0.04</td>\n",
       "      <td id=\"T_8c0dc_row11_col9\" class=\"data row11 col9\" >-0.00</td>\n",
       "      <td id=\"T_8c0dc_row11_col10\" class=\"data row11 col10\" >0.01</td>\n",
       "      <td id=\"T_8c0dc_row11_col11\" class=\"data row11 col11\" >1.00</td>\n",
       "    </tr>\n",
       "  </tbody>\n",
       "</table>\n"
      ],
      "text/plain": [
       "<pandas.io.formats.style.Styler at 0x222b9055d00>"
      ]
     },
     "execution_count": 35,
     "metadata": {},
     "output_type": "execute_result"
    }
   ],
   "source": [
    "#correlation table\n",
    "corr = df_numeric.corr()\n",
    "corr.style.background_gradient(cmap='coolwarm').set_precision(2)"
   ]
  },
  {
   "cell_type": "markdown",
   "id": "7fba10ca",
   "metadata": {},
   "source": [
    "We can clearly see that:  \n",
    "* `Credit_History` has the highest correlation of `0.54` with `Loan_Status`. Therefore, our `Loan_Status` is highly dependent on loan applicant's `Credit_History`.  \n",
    "* There is a strong correlation between `LoanAmount` & `ApplicantIncome` of 0.56  \n",
    "* Also there is a moderate correlation between `Married` & `Gender` of 0.36  \n",
    "* However, `CoapplicantIncome`, `ApplicantIncome`, `Loan_Amount_Term`, `LoanAmount` are least correlated but we are not dropping them as our dataset got less number of records."
   ]
  },
  {
   "cell_type": "code",
   "execution_count": null,
   "id": "81042e70",
   "metadata": {},
   "outputs": [],
   "source": []
  },
  {
   "cell_type": "markdown",
   "id": "3c02acf0",
   "metadata": {},
   "source": [
    "### 2) RFE (Recursive Feature Estimation)  \n",
    "#### Sometimes RFE eliminates a good feature because of the unnormalised initial data.  \n",
    "\n",
    "Since we have 11 features available, one part of building the best model will be to select which features to use as input to the classifier. Our initial model used all of the features but it is possible that a better model can be built by leaving some of them out. Test this by building a few models with subsets of the features - how do our models perform?  \n",
    "\n",
    "This process can be automated. The sklearn RFE function implements **Recursive Feature Estimation** which removes features one by one, evaluating the model each time and selecting the best model for a target number of features. Use RFE to select features for a model with 3, 4 and 5 features - it's a good practice to see if we can build a model that is as good or better than our initial model (having all 11 attributes)?\n"
   ]
  },
  {
   "cell_type": "code",
   "execution_count": 36,
   "id": "82f64a34",
   "metadata": {},
   "outputs": [],
   "source": [
    "from sklearn.feature_selection import RFE\n",
    "from sklearn.linear_model import LogisticRegression"
   ]
  },
  {
   "cell_type": "code",
   "execution_count": 37,
   "id": "a8884b8c",
   "metadata": {},
   "outputs": [
    {
     "data": {
      "text/html": [
       "<div>\n",
       "<style scoped>\n",
       "    .dataframe tbody tr th:only-of-type {\n",
       "        vertical-align: middle;\n",
       "    }\n",
       "\n",
       "    .dataframe tbody tr th {\n",
       "        vertical-align: top;\n",
       "    }\n",
       "\n",
       "    .dataframe thead th {\n",
       "        text-align: right;\n",
       "    }\n",
       "</style>\n",
       "<table border=\"1\" class=\"dataframe\">\n",
       "  <thead>\n",
       "    <tr style=\"text-align: right;\">\n",
       "      <th></th>\n",
       "      <th>n features</th>\n",
       "      <th>Accuracy</th>\n",
       "    </tr>\n",
       "  </thead>\n",
       "  <tbody>\n",
       "    <tr>\n",
       "      <th>0</th>\n",
       "      <td>3</td>\n",
       "      <td>0.857143</td>\n",
       "    </tr>\n",
       "    <tr>\n",
       "      <th>1</th>\n",
       "      <td>4</td>\n",
       "      <td>0.857143</td>\n",
       "    </tr>\n",
       "    <tr>\n",
       "      <th>2</th>\n",
       "      <td>5</td>\n",
       "      <td>0.857143</td>\n",
       "    </tr>\n",
       "    <tr>\n",
       "      <th>3</th>\n",
       "      <td>6</td>\n",
       "      <td>0.857143</td>\n",
       "    </tr>\n",
       "    <tr>\n",
       "      <th>4</th>\n",
       "      <td>7</td>\n",
       "      <td>0.857143</td>\n",
       "    </tr>\n",
       "    <tr>\n",
       "      <th>5</th>\n",
       "      <td>8</td>\n",
       "      <td>0.857143</td>\n",
       "    </tr>\n",
       "    <tr>\n",
       "      <th>6</th>\n",
       "      <td>9</td>\n",
       "      <td>0.857143</td>\n",
       "    </tr>\n",
       "    <tr>\n",
       "      <th>7</th>\n",
       "      <td>10</td>\n",
       "      <td>0.863636</td>\n",
       "    </tr>\n",
       "    <tr>\n",
       "      <th>8</th>\n",
       "      <td>11</td>\n",
       "      <td>0.863636</td>\n",
       "    </tr>\n",
       "  </tbody>\n",
       "</table>\n",
       "</div>"
      ],
      "text/plain": [
       "   n features  Accuracy\n",
       "0           3  0.857143\n",
       "1           4  0.857143\n",
       "2           5  0.857143\n",
       "3           6  0.857143\n",
       "4           7  0.857143\n",
       "5           8  0.857143\n",
       "6           9  0.857143\n",
       "7          10  0.863636\n",
       "8          11  0.863636"
      ]
     },
     "execution_count": 37,
     "metadata": {},
     "output_type": "execute_result"
    }
   ],
   "source": [
    "y = df_numeric['Loan_Status']\n",
    "X = df_numeric.drop(['Loan_Status', 'Loan_ID'], axis = 1)\n",
    "X_train, X_test, y_train, y_test = train_test_split(X, y, test_size = 0.25, random_state= 42, shuffle=True, stratify=df_numeric['Loan_Status'])\n",
    "\n",
    "model=LogisticRegression()\n",
    "accuracies=[]\n",
    "\n",
    "for n in list(range(3, 12)):\n",
    "    rfe= RFE(estimator=model, n_features_to_select=n, step=1)\n",
    "    rfe.fit(X_train,y_train)\n",
    "    predictions=rfe.predict(X_test)\n",
    "    accuracies.append(accuracy_score(y_test,predictions))\n",
    "    \n",
    "df_RFE = pd.DataFrame({'n features': list(range(3, 12)) ,'Accuracy':accuracies})\n",
    "df_RFE"
   ]
  },
  {
   "cell_type": "code",
   "execution_count": 38,
   "id": "17fd06aa",
   "metadata": {},
   "outputs": [
    {
     "data": {
      "image/png": "[encoded data removed]",
      "text/plain": [
       "<Figure size 432x288 with 1 Axes>"
      ]
     },
     "metadata": {},
     "output_type": "display_data"
    }
   ],
   "source": [
    "fig = plt.figure()\n",
    "ax = plt.axes()\n",
    "ax.plot(list(range(3, 12)), accuracies);"
   ]
  },
  {
   "cell_type": "code",
   "execution_count": 39,
   "id": "6b5ed2d6",
   "metadata": {},
   "outputs": [
    {
     "name": "stdout",
     "output_type": "stream",
     "text": [
      "[ True  True  True  True  True  True  True  True  True  True  True]\n",
      "Index(['Gender', 'Married', 'Education', 'Self_Employed', 'ApplicantIncome',\n",
      "       'CoapplicantIncome', 'LoanAmount', 'Loan_Amount_Term', 'Credit_History',\n",
      "       'Property_Area', 'Dependents'],\n",
      "      dtype='object')\n"
     ]
    }
   ],
   "source": [
    "print(rfe.support_)\n",
    "print(X_train.columns)"
   ]
  },
  {
   "cell_type": "markdown",
   "id": "07db1491",
   "metadata": {},
   "source": [
    "We can clearly see that:  \n",
    "* `RFE` showed that accuracy was higher while selecting almost all the features (n = 10 or 11). Hence, we will not drop any attribute/ column from our dataset.    \n",
    "* Even coordinating with `Correlation matrix's` results where we did not see any strong reason to drop any attribute.  "
   ]
  },
  {
   "cell_type": "code",
   "execution_count": null,
   "id": "db5d9a83",
   "metadata": {},
   "outputs": [],
   "source": []
  },
  {
   "cell_type": "code",
   "execution_count": null,
   "id": "61bf2480",
   "metadata": {},
   "outputs": [],
   "source": []
  },
  {
   "cell_type": "markdown",
   "id": "e240c0a4",
   "metadata": {},
   "source": [
    "## Data Split  \n",
    "\n",
    "Train & Test set  \n",
    "First of all we will divide our dataset into two variables `X` as the features we defined earlier and `y` as the `Loan_Status` the target value we want to predict."
   ]
  },
  {
   "cell_type": "code",
   "execution_count": 40,
   "id": "9438db4b",
   "metadata": {},
   "outputs": [],
   "source": [
    "y = df_numeric['Loan_Status']\n",
    "X = df_numeric.drop(['Loan_Status', 'Loan_ID'], axis = 1)\n",
    "X_train, X_test, y_train, y_test = train_test_split(X, y, test_size = 0.25, random_state= 42, shuffle=True, stratify=df_numeric['Loan_Status'])"
   ]
  },
  {
   "cell_type": "code",
   "execution_count": 41,
   "id": "b56f3118",
   "metadata": {},
   "outputs": [
    {
     "name": "stdout",
     "output_type": "stream",
     "text": [
      "X_train shape (460, 11)\n",
      "y_train shape (460,)\n",
      "X_test shape (154, 11)\n",
      "y_test shape (154,)\n",
      "\n",
      "ratio of target in y_train : [0.68695652 0.31304348]\n",
      "ratio of target in y_test : [0.68831169 0.31168831]\n",
      "ratio of target in original_data : [0.68729642 0.31270358]\n"
     ]
    }
   ],
   "source": [
    "print('X_train shape', X_train.shape)\n",
    "print('y_train shape', y_train.shape)\n",
    "print('X_test shape', X_test.shape)\n",
    "print('y_test shape', y_test.shape)\n",
    "\n",
    "# Though we used Stratify but it's good to cross-check the ratio of Target values i.e. Loan_status (0 & 1) in Train, Test and overall loan dataset\n",
    "print('\\nratio of target in y_train :',y_train.value_counts().values/ len(y_train))\n",
    "print('ratio of target in y_test :',y_test.value_counts().values/ len(y_test))\n",
    "print('ratio of target in original_data :',df_numeric['Loan_Status'].value_counts().values/ len(df_numeric))"
   ]
  },
  {
   "cell_type": "markdown",
   "id": "a2e03b95",
   "metadata": {},
   "source": [
    "### Therefore, target values are splitted properly so we can start Modelling now."
   ]
  },
  {
   "cell_type": "markdown",
   "id": "1854d6e0",
   "metadata": {},
   "source": [
    "# `Supervised Machine Learning` models  \n",
    "* Decision Tree  \n",
    "* Random Forest  \n",
    "* XGBoost  \n",
    "* Logistic Regression  \n",
    "* Naive Bayes  \n",
    "* SVM  \n",
    "* KNN  "
   ]
  },
  {
   "cell_type": "markdown",
   "id": "90299767",
   "metadata": {},
   "source": [
    "### **Decision Tree**"
   ]
  },
  {
   "cell_type": "code",
   "execution_count": 42,
   "id": "e47e7b19",
   "metadata": {},
   "outputs": [
    {
     "name": "stdout",
     "output_type": "stream",
     "text": [
      "              precision    recall  f1-score   support\n",
      "\n",
      "           0       0.56      0.60      0.58        48\n",
      "           1       0.81      0.78      0.80       106\n",
      "\n",
      "    accuracy                           0.73       154\n",
      "   macro avg       0.69      0.69      0.69       154\n",
      "weighted avg       0.73      0.73      0.73       154\n",
      "\n",
      "72.73% Accurate\n"
     ]
    }
   ],
   "source": [
    "DT = DecisionTreeClassifier()\n",
    "DT.fit(X_train, y_train)\n",
    "\n",
    "y_predict = DT.predict(X_test)\n",
    "\n",
    "#  prediction Summary by species\n",
    "print(classification_report(y_test, y_predict))\n",
    "\n",
    "# Accuracy score\n",
    "DT_SC = accuracy_score(y_predict,y_test)\n",
    "print(f\"{round(DT_SC*100,2)}% Accurate\")"
   ]
  },
  {
   "cell_type": "markdown",
   "id": "6782cfca",
   "metadata": {},
   "source": [
    "#### Decision Tree --> Cross Validation (cv=5)  "
   ]
  },
  {
   "cell_type": "code",
   "execution_count": 43,
   "id": "e4ff7e1c",
   "metadata": {},
   "outputs": [
    {
     "name": "stdout",
     "output_type": "stream",
     "text": [
      "CV scores = [0.67391304 0.7173913  0.76086957 0.75       0.70652174]\n",
      "CV scores mean:- 0.7217391304347827\n"
     ]
    }
   ],
   "source": [
    "from sklearn.model_selection import cross_val_score\n",
    "scores = cross_val_score(DT, X_train, y_train, cv=5)\n",
    "print(\"CV scores = \" + str(scores))\n",
    "DT_CV = scores.mean()\n",
    "print(\"CV scores mean:- {}\".format(DT_CV))"
   ]
  },
  {
   "cell_type": "code",
   "execution_count": null,
   "id": "2a111eb9",
   "metadata": {},
   "outputs": [],
   "source": []
  },
  {
   "cell_type": "markdown",
   "id": "66c9e4b1",
   "metadata": {},
   "source": [
    "### **Random Forest**"
   ]
  },
  {
   "cell_type": "code",
   "execution_count": 44,
   "id": "a94e6df9",
   "metadata": {},
   "outputs": [
    {
     "name": "stdout",
     "output_type": "stream",
     "text": [
      "              precision    recall  f1-score   support\n",
      "\n",
      "           0       0.83      0.60      0.70        48\n",
      "           1       0.84      0.94      0.89       106\n",
      "\n",
      "    accuracy                           0.84       154\n",
      "   macro avg       0.83      0.77      0.79       154\n",
      "weighted avg       0.84      0.84      0.83       154\n",
      "\n",
      "83.77% Accurate\n"
     ]
    }
   ],
   "source": [
    "RF = RandomForestClassifier()\n",
    "RF.fit(X_train, y_train)\n",
    "\n",
    "y_predict = RF.predict(X_test)\n",
    "\n",
    "#  prediction Summary by species\n",
    "print(classification_report(y_test, y_predict))\n",
    "\n",
    "# Accuracy score\n",
    "RF_SC = accuracy_score(y_predict,y_test)\n",
    "print(f\"{round(RF_SC*100,2)}% Accurate\")"
   ]
  },
  {
   "cell_type": "markdown",
   "id": "cb726760",
   "metadata": {},
   "source": [
    "#### Random Forest --> Cross Validation (cv=5)  "
   ]
  },
  {
   "cell_type": "code",
   "execution_count": 45,
   "id": "7c8ed665",
   "metadata": {},
   "outputs": [
    {
     "name": "stdout",
     "output_type": "stream",
     "text": [
      "CV scores = [0.67391304 0.80434783 0.80434783 0.76086957 0.72826087]\n",
      "CV scores mean:- 0.7543478260869565\n"
     ]
    }
   ],
   "source": [
    "from sklearn.model_selection import cross_val_score\n",
    "scores = cross_val_score(RF, X_train, y_train, cv=5)\n",
    "print(\"CV scores = \" + str(scores))\n",
    "RF_CV = scores.mean()\n",
    "print(\"CV scores mean:- {}\".format(RF_CV))"
   ]
  },
  {
   "cell_type": "code",
   "execution_count": null,
   "id": "c6cec61c",
   "metadata": {},
   "outputs": [],
   "source": []
  },
  {
   "cell_type": "markdown",
   "id": "078f53ad",
   "metadata": {},
   "source": [
    "### **XGBoost**"
   ]
  },
  {
   "cell_type": "code",
   "execution_count": 46,
   "id": "0e81158c",
   "metadata": {},
   "outputs": [
    {
     "name": "stdout",
     "output_type": "stream",
     "text": [
      "              precision    recall  f1-score   support\n",
      "\n",
      "           0       0.70      0.65      0.67        48\n",
      "           1       0.85      0.88      0.86       106\n",
      "\n",
      "    accuracy                           0.81       154\n",
      "   macro avg       0.78      0.76      0.77       154\n",
      "weighted avg       0.80      0.81      0.80       154\n",
      "\n",
      "80.52% Accurate\n"
     ]
    }
   ],
   "source": [
    "XGB = XGBClassifier()\n",
    "XGB.fit(X_train, y_train)\n",
    "\n",
    "y_predict = XGB.predict(X_test)\n",
    "\n",
    "#  prediction Summary by species\n",
    "print(classification_report(y_test, y_predict))\n",
    "\n",
    "# Accuracy score\n",
    "XGB_SC = accuracy_score(y_predict,y_test)\n",
    "print(f\"{round(XGB_SC*100,2)}% Accurate\")"
   ]
  },
  {
   "cell_type": "markdown",
   "id": "9fb395b3",
   "metadata": {},
   "source": [
    "#### XGBoost --> Cross Validation (cv=5)  "
   ]
  },
  {
   "cell_type": "code",
   "execution_count": 47,
   "id": "7f373b4f",
   "metadata": {},
   "outputs": [
    {
     "name": "stdout",
     "output_type": "stream",
     "text": [
      "CV scores = [0.67391304 0.75       0.79347826 0.73913043 0.72826087]\n",
      "CV scores mean:- 0.7369565217391304\n"
     ]
    }
   ],
   "source": [
    "from sklearn.model_selection import cross_val_score\n",
    "scores = cross_val_score(XGB, X_train, y_train, cv=5)\n",
    "print(\"CV scores = \" + str(scores))\n",
    "XGB_CV = scores.mean()\n",
    "print(\"CV scores mean:- {}\".format(XGB_CV))"
   ]
  },
  {
   "cell_type": "code",
   "execution_count": null,
   "id": "2296982f",
   "metadata": {},
   "outputs": [],
   "source": []
  },
  {
   "cell_type": "markdown",
   "id": "c9516d5d",
   "metadata": {},
   "source": [
    "### **Logistic Regression**"
   ]
  },
  {
   "cell_type": "code",
   "execution_count": 48,
   "id": "3461159e",
   "metadata": {},
   "outputs": [
    {
     "name": "stdout",
     "output_type": "stream",
     "text": [
      "              precision    recall  f1-score   support\n",
      "\n",
      "           0       0.97      0.58      0.73        48\n",
      "           1       0.84      0.99      0.91       106\n",
      "\n",
      "    accuracy                           0.86       154\n",
      "   macro avg       0.90      0.79      0.82       154\n",
      "weighted avg       0.88      0.86      0.85       154\n",
      "\n",
      "accuracy is 0.8636363636363636\n"
     ]
    }
   ],
   "source": [
    "LR = LogisticRegression()\n",
    "LR.fit(X_train, y_train)\n",
    "\n",
    "y_predict = LR.predict(X_test)\n",
    "\n",
    "#  prediction Summary by species\n",
    "print(classification_report(y_test, y_predict))\n",
    "\n",
    "# Accuracy score\n",
    "LR_SC = accuracy_score(y_predict,y_test)\n",
    "print('accuracy is',accuracy_score(y_predict,y_test))"
   ]
  },
  {
   "cell_type": "markdown",
   "id": "f77263f8",
   "metadata": {},
   "source": [
    "#### Logistic Regression --> Cross Validation (cv=5)  "
   ]
  },
  {
   "cell_type": "code",
   "execution_count": 49,
   "id": "f3f03adb",
   "metadata": {},
   "outputs": [
    {
     "name": "stdout",
     "output_type": "stream",
     "text": [
      "CV scores = [0.75       0.81521739 0.82608696 0.79347826 0.77173913]\n",
      "CV scores mean:- 0.791304347826087\n"
     ]
    }
   ],
   "source": [
    "from sklearn.model_selection import cross_val_score\n",
    "scores = cross_val_score(LR, X_train, y_train, cv=5)\n",
    "print(\"CV scores = \" + str(scores))\n",
    "LR_CV = scores.mean()\n",
    "print(\"CV scores mean:- {}\".format(LR_CV))"
   ]
  },
  {
   "cell_type": "code",
   "execution_count": null,
   "id": "916a9504",
   "metadata": {},
   "outputs": [],
   "source": []
  },
  {
   "cell_type": "markdown",
   "id": "a0a958a1",
   "metadata": {},
   "source": [
    "### **Naive Bayes**"
   ]
  },
  {
   "cell_type": "code",
   "execution_count": 50,
   "id": "171f12a7",
   "metadata": {},
   "outputs": [
    {
     "name": "stdout",
     "output_type": "stream",
     "text": [
      "              precision    recall  f1-score   support\n",
      "\n",
      "           0       0.91      0.62      0.74        48\n",
      "           1       0.85      0.97      0.91       106\n",
      "\n",
      "    accuracy                           0.86       154\n",
      "   macro avg       0.88      0.80      0.82       154\n",
      "weighted avg       0.87      0.86      0.86       154\n",
      "\n",
      "accuracy is 0.8636363636363636\n"
     ]
    }
   ],
   "source": [
    "GNB = GaussianNB()\n",
    "GNB.fit(X_train, y_train)\n",
    "\n",
    "y_predict = GNB.predict(X_test)\n",
    "\n",
    "#  prediction Summary by species\n",
    "print(classification_report(y_test, y_predict))\n",
    "\n",
    "# Accuracy score\n",
    "GNB_SC = accuracy_score(y_predict,y_test)\n",
    "print('accuracy is',accuracy_score(y_predict,y_test))"
   ]
  },
  {
   "cell_type": "markdown",
   "id": "cbef39d8",
   "metadata": {},
   "source": [
    "#### Naive Bayes --> Cross Validation (cv=5)  "
   ]
  },
  {
   "cell_type": "code",
   "execution_count": 51,
   "id": "7d1342ca",
   "metadata": {},
   "outputs": [
    {
     "name": "stdout",
     "output_type": "stream",
     "text": [
      "CV scores = [0.73913043 0.7826087  0.77173913 0.79347826 0.7826087 ]\n",
      "CV scores mean:- 0.773913043478261\n"
     ]
    }
   ],
   "source": [
    "from sklearn.model_selection import cross_val_score\n",
    "scores = cross_val_score(GNB, X_train, y_train, cv=5)\n",
    "print(\"CV scores = \" + str(scores))\n",
    "GNB_CV = scores.mean()\n",
    "print(\"CV scores mean:- {}\".format(GNB_CV))"
   ]
  },
  {
   "cell_type": "code",
   "execution_count": null,
   "id": "f2cbf276",
   "metadata": {},
   "outputs": [],
   "source": []
  },
  {
   "cell_type": "markdown",
   "id": "49ee87b0",
   "metadata": {},
   "source": [
    "### **SVM**"
   ]
  },
  {
   "cell_type": "code",
   "execution_count": 52,
   "id": "cce5f2b3",
   "metadata": {},
   "outputs": [
    {
     "name": "stdout",
     "output_type": "stream",
     "text": [
      "              precision    recall  f1-score   support\n",
      "\n",
      "           0       0.00      0.00      0.00        48\n",
      "           1       0.69      1.00      0.82       106\n",
      "\n",
      "    accuracy                           0.69       154\n",
      "   macro avg       0.34      0.50      0.41       154\n",
      "weighted avg       0.47      0.69      0.56       154\n",
      "\n",
      "accuracy is 0.6883116883116883\n"
     ]
    }
   ],
   "source": [
    "SVM = SVC()\n",
    "SVM.fit(X_train, y_train)\n",
    "\n",
    "y_predict = SVM.predict(X_test)\n",
    "\n",
    "#  prediction Summary by species\n",
    "print(classification_report(y_test, y_predict))\n",
    "\n",
    "# Accuracy score\n",
    "SVM_SC = accuracy_score(y_predict,y_test)\n",
    "print('accuracy is',accuracy_score(y_predict,y_test))"
   ]
  },
  {
   "cell_type": "markdown",
   "id": "bcc44489",
   "metadata": {},
   "source": [
    "#### SVM --> Cross Validation (cv=5)  "
   ]
  },
  {
   "cell_type": "code",
   "execution_count": 53,
   "id": "3d5a6679",
   "metadata": {},
   "outputs": [
    {
     "name": "stdout",
     "output_type": "stream",
     "text": [
      "CV scores = [0.68478261 0.68478261 0.68478261 0.68478261 0.69565217]\n",
      "CV scores mean:- 0.6869565217391305\n"
     ]
    }
   ],
   "source": [
    "from sklearn.model_selection import cross_val_score\n",
    "scores = cross_val_score(SVM, X_train, y_train, cv=5)\n",
    "print(\"CV scores = \" + str(scores))\n",
    "SVM_CV = scores.mean()\n",
    "print(\"CV scores mean:- {}\".format(SVM_CV))"
   ]
  },
  {
   "cell_type": "code",
   "execution_count": null,
   "id": "e29f14db",
   "metadata": {},
   "outputs": [],
   "source": []
  },
  {
   "cell_type": "markdown",
   "id": "4a3767f2",
   "metadata": {},
   "source": [
    "### **KNN**"
   ]
  },
  {
   "cell_type": "code",
   "execution_count": 54,
   "id": "40bfdb70",
   "metadata": {},
   "outputs": [
    {
     "name": "stdout",
     "output_type": "stream",
     "text": [
      "              precision    recall  f1-score   support\n",
      "\n",
      "           0       0.43      0.25      0.32        48\n",
      "           1       0.71      0.85      0.78       106\n",
      "\n",
      "    accuracy                           0.66       154\n",
      "   macro avg       0.57      0.55      0.55       154\n",
      "weighted avg       0.63      0.66      0.63       154\n",
      "\n",
      "accuracy is 0.6623376623376623\n"
     ]
    }
   ],
   "source": [
    "KNN = KNeighborsClassifier(n_neighbors=7)\n",
    "KNN.fit(X_train, y_train)\n",
    "\n",
    "y_predict = KNN.predict(X_test)\n",
    "\n",
    "#  prediction Summary by species\n",
    "print(classification_report(y_test, y_predict))\n",
    "\n",
    "# Accuracy score\n",
    "KNN_SC = accuracy_score(y_predict,y_test)\n",
    "print('accuracy is',accuracy_score(y_predict,y_test))"
   ]
  },
  {
   "cell_type": "markdown",
   "id": "b64f856a",
   "metadata": {},
   "source": [
    "#### KNN --> Cross Validation (cv=5)  "
   ]
  },
  {
   "cell_type": "code",
   "execution_count": 55,
   "id": "b41c85ea",
   "metadata": {},
   "outputs": [
    {
     "name": "stdout",
     "output_type": "stream",
     "text": [
      "CV scores = [0.64130435 0.65217391 0.65217391 0.57608696 0.64130435]\n",
      "CV scores mean:- 0.6326086956521739\n"
     ]
    }
   ],
   "source": [
    "from sklearn.model_selection import cross_val_score\n",
    "scores = cross_val_score(KNN, X_train, y_train, cv=5)\n",
    "print(\"CV scores = \" + str(scores))\n",
    "KNN_CV = scores.mean()\n",
    "print(\"CV scores mean:- {}\".format(KNN_CV))"
   ]
  },
  {
   "cell_type": "code",
   "execution_count": null,
   "id": "175ad525",
   "metadata": {},
   "outputs": [],
   "source": []
  },
  {
   "cell_type": "code",
   "execution_count": 57,
   "id": "455432bb",
   "metadata": {},
   "outputs": [
    {
     "data": {
      "text/html": [
       "<div>\n",
       "<style scoped>\n",
       "    .dataframe tbody tr th:only-of-type {\n",
       "        vertical-align: middle;\n",
       "    }\n",
       "\n",
       "    .dataframe tbody tr th {\n",
       "        vertical-align: top;\n",
       "    }\n",
       "\n",
       "    .dataframe thead th {\n",
       "        text-align: right;\n",
       "    }\n",
       "</style>\n",
       "<table border=\"1\" class=\"dataframe\">\n",
       "  <thead>\n",
       "    <tr style=\"text-align: right;\">\n",
       "      <th></th>\n",
       "      <th>Supervised ML</th>\n",
       "      <th>Accuracy</th>\n",
       "      <th>CV_Accuracy</th>\n",
       "    </tr>\n",
       "  </thead>\n",
       "  <tbody>\n",
       "    <tr>\n",
       "      <th>3</th>\n",
       "      <td>Logistic Regression</td>\n",
       "      <td>0.863636</td>\n",
       "      <td>0.791304</td>\n",
       "    </tr>\n",
       "    <tr>\n",
       "      <th>4</th>\n",
       "      <td>Naive Bayes</td>\n",
       "      <td>0.863636</td>\n",
       "      <td>0.773913</td>\n",
       "    </tr>\n",
       "    <tr>\n",
       "      <th>1</th>\n",
       "      <td>Random Forest</td>\n",
       "      <td>0.837662</td>\n",
       "      <td>0.754348</td>\n",
       "    </tr>\n",
       "    <tr>\n",
       "      <th>2</th>\n",
       "      <td>XGBoost</td>\n",
       "      <td>0.805195</td>\n",
       "      <td>0.736957</td>\n",
       "    </tr>\n",
       "    <tr>\n",
       "      <th>0</th>\n",
       "      <td>Decision Tree</td>\n",
       "      <td>0.727273</td>\n",
       "      <td>0.721739</td>\n",
       "    </tr>\n",
       "    <tr>\n",
       "      <th>5</th>\n",
       "      <td>Support Vector Machine</td>\n",
       "      <td>0.688312</td>\n",
       "      <td>0.686957</td>\n",
       "    </tr>\n",
       "    <tr>\n",
       "      <th>6</th>\n",
       "      <td>K nearest neighbour</td>\n",
       "      <td>0.662338</td>\n",
       "      <td>0.632609</td>\n",
       "    </tr>\n",
       "  </tbody>\n",
       "</table>\n",
       "</div>"
      ],
      "text/plain": [
       "            Supervised ML  Accuracy  CV_Accuracy\n",
       "3     Logistic Regression  0.863636     0.791304\n",
       "4             Naive Bayes  0.863636     0.773913\n",
       "1           Random Forest  0.837662     0.754348\n",
       "2                 XGBoost  0.805195     0.736957\n",
       "0           Decision Tree  0.727273     0.721739\n",
       "5  Support Vector Machine  0.688312     0.686957\n",
       "6     K nearest neighbour  0.662338     0.632609"
      ]
     },
     "execution_count": 57,
     "metadata": {},
     "output_type": "execute_result"
    }
   ],
   "source": [
    "score = [DT_SC,RF_SC,XGB_SC,LR_SC, GNB_SC, SVM_SC, KNN_SC]\n",
    "score_cv = [DT_CV,RF_CV,XGB_CV,LR_CV, GNB_CV, SVM_CV, KNN_CV]\n",
    "Models = pd.DataFrame({\n",
    "    'Supervised ML': [\"Decision Tree\",\"Random Forest\",\"XGBoost\", \"Logistic Regression\", \"Naive Bayes\", \"Support Vector Machine\", \"K nearest neighbour\"],\n",
    "    'Accuracy': score,\n",
    "    'CV_Accuracy': score_cv})\n",
    "Models.sort_values(by='Accuracy', ascending=False)"
   ]
  },
  {
   "cell_type": "code",
   "execution_count": null,
   "id": "f353b28d",
   "metadata": {},
   "outputs": [],
   "source": []
  },
  {
   "cell_type": "markdown",
   "id": "27d1430e",
   "metadata": {},
   "source": [
    "## Conclusion:  \n",
    "\n",
    "* `Credit_History` is a crucial variable because of its high correlation with `Loan_Status`.  \n",
    "  \n",
    "* The `Logistic Regression` & `Naive Bayes` algorithm are the most accurate `Supervised ML` algorithms here: approximately 86%, besides `Logistic Regression` is more preferable as per Cross Validation scores.  "
   ]
  },
  {
   "cell_type": "code",
   "execution_count": null,
   "id": "e2ce9d69",
   "metadata": {},
   "outputs": [],
   "source": []
  },
  {
   "cell_type": "code",
   "execution_count": null,
   "id": "fbdf071b",
   "metadata": {},
   "outputs": [],
   "source": []
  },
  {
   "cell_type": "code",
   "execution_count": null,
   "id": "25416269",
   "metadata": {},
   "outputs": [],
   "source": []
  },
  {
   "cell_type": "code",
   "execution_count": null,
   "id": "e2736b92",
   "metadata": {},
   "outputs": [],
   "source": []
  },
  {
   "cell_type": "code",
   "execution_count": null,
   "id": "1720065f",
   "metadata": {},
   "outputs": [],
   "source": []
  },
  {
   "cell_type": "code",
   "execution_count": null,
   "id": "4e805d99",
   "metadata": {},
   "outputs": [],
   "source": []
  },
  {
   "cell_type": "code",
   "execution_count": null,
   "id": "cca63524",
   "metadata": {},
   "outputs": [],
   "source": []
  },
  {
   "cell_type": "code",
   "execution_count": null,
   "id": "a21559f5",
   "metadata": {},
   "outputs": [],
   "source": []
  },
  {
   "cell_type": "markdown",
   "id": "25f5e3cb",
   "metadata": {},
   "source": [
    "# `Unsupervised Machine Learning` models  \n",
    "* Partitional algorithms \n",
    "* Hierarchical Clustering  "
   ]
  },
  {
   "cell_type": "markdown",
   "id": "4f737f3b",
   "metadata": {},
   "source": [
    "### Measuring Similarity  \n",
    "* In order to find clusters in a data set we need to have some way of telling how similar two observations are to each other.  \n",
    "* A cluster is a grouping of samples that are more similar to each other than they are to the samples in another cluster.  \n",
    "* The first step in understanding clustering is understanding how to measure similarity."
   ]
  },
  {
   "cell_type": "markdown",
   "id": "28f2e36b",
   "metadata": {},
   "source": [
    "### Similarity and Distance  \n",
    "* The key to understanding similarity metrics is to think about measuring distance in the real world. When we graph a two dimensional data set, we get a layout of points on the plane. From this it is easy to see when two points are similar - they are close to each other on the graph.  \n",
    "* In two dimensions, we can measure the distance between the points (x1,y1) and (x2,y2) using Pythagoras Theorem.  \n",
    "  \n",
    "   \n",
    "Let's look at some data for describing loan approvals:"
   ]
  },
  {
   "cell_type": "code",
   "execution_count": 58,
   "id": "7bee4b2c",
   "metadata": {},
   "outputs": [
    {
     "data": {
      "text/html": [
       "<div>\n",
       "<style scoped>\n",
       "    .dataframe tbody tr th:only-of-type {\n",
       "        vertical-align: middle;\n",
       "    }\n",
       "\n",
       "    .dataframe tbody tr th {\n",
       "        vertical-align: top;\n",
       "    }\n",
       "\n",
       "    .dataframe thead th {\n",
       "        text-align: right;\n",
       "    }\n",
       "</style>\n",
       "<table border=\"1\" class=\"dataframe\">\n",
       "  <thead>\n",
       "    <tr style=\"text-align: right;\">\n",
       "      <th></th>\n",
       "      <th>Loan_ID</th>\n",
       "      <th>Gender</th>\n",
       "      <th>Married</th>\n",
       "      <th>Education</th>\n",
       "      <th>Self_Employed</th>\n",
       "      <th>ApplicantIncome</th>\n",
       "      <th>CoapplicantIncome</th>\n",
       "      <th>LoanAmount</th>\n",
       "      <th>Loan_Amount_Term</th>\n",
       "      <th>Credit_History</th>\n",
       "      <th>Property_Area</th>\n",
       "      <th>Loan_Status</th>\n",
       "      <th>Dependents</th>\n",
       "    </tr>\n",
       "  </thead>\n",
       "  <tbody>\n",
       "    <tr>\n",
       "      <th>0</th>\n",
       "      <td>LP001002</td>\n",
       "      <td>1</td>\n",
       "      <td>2</td>\n",
       "      <td>1</td>\n",
       "      <td>2</td>\n",
       "      <td>5849</td>\n",
       "      <td>0.0</td>\n",
       "      <td>120.0</td>\n",
       "      <td>360.0</td>\n",
       "      <td>1.0</td>\n",
       "      <td>3</td>\n",
       "      <td>1</td>\n",
       "      <td>0</td>\n",
       "    </tr>\n",
       "    <tr>\n",
       "      <th>1</th>\n",
       "      <td>LP001003</td>\n",
       "      <td>1</td>\n",
       "      <td>1</td>\n",
       "      <td>1</td>\n",
       "      <td>2</td>\n",
       "      <td>4583</td>\n",
       "      <td>1508.0</td>\n",
       "      <td>128.0</td>\n",
       "      <td>360.0</td>\n",
       "      <td>1.0</td>\n",
       "      <td>1</td>\n",
       "      <td>0</td>\n",
       "      <td>1</td>\n",
       "    </tr>\n",
       "    <tr>\n",
       "      <th>2</th>\n",
       "      <td>LP001005</td>\n",
       "      <td>1</td>\n",
       "      <td>1</td>\n",
       "      <td>1</td>\n",
       "      <td>1</td>\n",
       "      <td>3000</td>\n",
       "      <td>0.0</td>\n",
       "      <td>66.0</td>\n",
       "      <td>360.0</td>\n",
       "      <td>1.0</td>\n",
       "      <td>3</td>\n",
       "      <td>1</td>\n",
       "      <td>0</td>\n",
       "    </tr>\n",
       "    <tr>\n",
       "      <th>3</th>\n",
       "      <td>LP001006</td>\n",
       "      <td>1</td>\n",
       "      <td>1</td>\n",
       "      <td>2</td>\n",
       "      <td>2</td>\n",
       "      <td>2583</td>\n",
       "      <td>2358.0</td>\n",
       "      <td>120.0</td>\n",
       "      <td>360.0</td>\n",
       "      <td>1.0</td>\n",
       "      <td>3</td>\n",
       "      <td>1</td>\n",
       "      <td>0</td>\n",
       "    </tr>\n",
       "    <tr>\n",
       "      <th>4</th>\n",
       "      <td>LP001008</td>\n",
       "      <td>1</td>\n",
       "      <td>2</td>\n",
       "      <td>1</td>\n",
       "      <td>2</td>\n",
       "      <td>6000</td>\n",
       "      <td>0.0</td>\n",
       "      <td>141.0</td>\n",
       "      <td>360.0</td>\n",
       "      <td>1.0</td>\n",
       "      <td>3</td>\n",
       "      <td>1</td>\n",
       "      <td>0</td>\n",
       "    </tr>\n",
       "  </tbody>\n",
       "</table>\n",
       "</div>"
      ],
      "text/plain": [
       "    Loan_ID  Gender  Married  Education  Self_Employed  ApplicantIncome  \\\n",
       "0  LP001002       1        2          1              2             5849   \n",
       "1  LP001003       1        1          1              2             4583   \n",
       "2  LP001005       1        1          1              1             3000   \n",
       "3  LP001006       1        1          2              2             2583   \n",
       "4  LP001008       1        2          1              2             6000   \n",
       "\n",
       "   CoapplicantIncome  LoanAmount  Loan_Amount_Term  Credit_History  \\\n",
       "0                0.0       120.0             360.0             1.0   \n",
       "1             1508.0       128.0             360.0             1.0   \n",
       "2                0.0        66.0             360.0             1.0   \n",
       "3             2358.0       120.0             360.0             1.0   \n",
       "4                0.0       141.0             360.0             1.0   \n",
       "\n",
       "   Property_Area  Loan_Status  Dependents  \n",
       "0              3            1           0  \n",
       "1              1            0           1  \n",
       "2              3            1           0  \n",
       "3              3            1           0  \n",
       "4              3            1           0  "
      ]
     },
     "execution_count": 58,
     "metadata": {},
     "output_type": "execute_result"
    }
   ],
   "source": [
    "df_numeric.head()"
   ]
  },
  {
   "cell_type": "markdown",
   "id": "7af70ec2",
   "metadata": {},
   "source": [
    "We could ask which is more similar to the \"LP001002\" - the \"LP001003\" or the \"LP001005\"?  "
   ]
  },
  {
   "cell_type": "code",
   "execution_count": 59,
   "id": "266b21ae",
   "metadata": {},
   "outputs": [
    {
     "data": {
      "text/plain": [
       "Gender                  0.0\n",
       "Married                 1.0\n",
       "Education               0.0\n",
       "Self_Employed           0.0\n",
       "ApplicantIncome      1266.0\n",
       "CoapplicantIncome   -1508.0\n",
       "LoanAmount             -8.0\n",
       "Loan_Amount_Term        0.0\n",
       "Credit_History          0.0\n",
       "Property_Area           2.0\n",
       "Loan_Status             1.0\n",
       "Dependents             -1.0\n",
       "dtype: float64"
      ]
     },
     "execution_count": 59,
     "metadata": {},
     "output_type": "execute_result"
    }
   ],
   "source": [
    "# drop the Loan_ID so that we just have the numerical columns\n",
    "df_numericN = df_numeric.drop('Loan_ID', axis=1) \n",
    "\n",
    "A = df_numericN.loc[0]\n",
    "B = df_numericN.loc[1]\n",
    "C = df_numericN.loc[2]\n",
    "\n",
    "# simple subtraction of two Series shows the difference\n",
    "A-B"
   ]
  },
  {
   "cell_type": "code",
   "execution_count": 60,
   "id": "713c3b38",
   "metadata": {},
   "outputs": [
    {
     "data": {
      "text/plain": [
       "1968.9822243991946"
      ]
     },
     "execution_count": 60,
     "metadata": {},
     "output_type": "execute_result"
    }
   ],
   "source": [
    "# compute the sum of squares and take the square root\n",
    "np.sqrt(np.square(A-B).sum()) "
   ]
  },
  {
   "cell_type": "code",
   "execution_count": 61,
   "id": "0efb7cef",
   "metadata": {},
   "outputs": [
    {
     "data": {
      "text/plain": [
       "2849.51206349438"
      ]
     },
     "execution_count": 61,
     "metadata": {},
     "output_type": "execute_result"
    }
   ],
   "source": [
    "np.sqrt(np.square(A-C).sum())"
   ]
  },
  {
   "cell_type": "markdown",
   "id": "95a30235",
   "metadata": {},
   "source": [
    "Therefore, \"LP001003\" (B) is more similar to the \"LP001002\"(A) as compared to \"LP001005\"(C)."
   ]
  },
  {
   "cell_type": "code",
   "execution_count": null,
   "id": "516a3319",
   "metadata": {},
   "outputs": [],
   "source": []
  },
  {
   "cell_type": "code",
   "execution_count": 62,
   "id": "93d40275",
   "metadata": {},
   "outputs": [
    {
     "data": {
      "text/html": [
       "<div>\n",
       "<style scoped>\n",
       "    .dataframe tbody tr th:only-of-type {\n",
       "        vertical-align: middle;\n",
       "    }\n",
       "\n",
       "    .dataframe tbody tr th {\n",
       "        vertical-align: top;\n",
       "    }\n",
       "\n",
       "    .dataframe thead th {\n",
       "        text-align: right;\n",
       "    }\n",
       "</style>\n",
       "<table border=\"1\" class=\"dataframe\">\n",
       "  <thead>\n",
       "    <tr style=\"text-align: right;\">\n",
       "      <th></th>\n",
       "      <th>Gender</th>\n",
       "      <th>Married</th>\n",
       "      <th>Education</th>\n",
       "      <th>Self_Employed</th>\n",
       "      <th>ApplicantIncome</th>\n",
       "      <th>CoapplicantIncome</th>\n",
       "      <th>LoanAmount</th>\n",
       "      <th>Loan_Amount_Term</th>\n",
       "      <th>Credit_History</th>\n",
       "      <th>Property_Area</th>\n",
       "      <th>Loan_Status</th>\n",
       "      <th>Dependents</th>\n",
       "    </tr>\n",
       "  </thead>\n",
       "  <tbody>\n",
       "    <tr>\n",
       "      <th>count</th>\n",
       "      <td>614.000000</td>\n",
       "      <td>614.000000</td>\n",
       "      <td>614.000000</td>\n",
       "      <td>614.000000</td>\n",
       "      <td>614.000000</td>\n",
       "      <td>614.000000</td>\n",
       "      <td>614.000000</td>\n",
       "      <td>614.000000</td>\n",
       "      <td>614.000000</td>\n",
       "      <td>614.000000</td>\n",
       "      <td>614.000000</td>\n",
       "      <td>614.000000</td>\n",
       "    </tr>\n",
       "    <tr>\n",
       "      <th>mean</th>\n",
       "      <td>1.182410</td>\n",
       "      <td>1.346906</td>\n",
       "      <td>1.218241</td>\n",
       "      <td>1.866450</td>\n",
       "      <td>5403.459283</td>\n",
       "      <td>1621.245798</td>\n",
       "      <td>145.465798</td>\n",
       "      <td>342.410423</td>\n",
       "      <td>0.855049</td>\n",
       "      <td>2.037459</td>\n",
       "      <td>0.687296</td>\n",
       "      <td>0.744300</td>\n",
       "    </tr>\n",
       "    <tr>\n",
       "      <th>std</th>\n",
       "      <td>0.386497</td>\n",
       "      <td>0.476373</td>\n",
       "      <td>0.413389</td>\n",
       "      <td>0.340446</td>\n",
       "      <td>6109.041673</td>\n",
       "      <td>2926.248369</td>\n",
       "      <td>84.180967</td>\n",
       "      <td>64.428629</td>\n",
       "      <td>0.352339</td>\n",
       "      <td>0.787482</td>\n",
       "      <td>0.463973</td>\n",
       "      <td>1.009623</td>\n",
       "    </tr>\n",
       "    <tr>\n",
       "      <th>min</th>\n",
       "      <td>1.000000</td>\n",
       "      <td>1.000000</td>\n",
       "      <td>1.000000</td>\n",
       "      <td>1.000000</td>\n",
       "      <td>150.000000</td>\n",
       "      <td>0.000000</td>\n",
       "      <td>9.000000</td>\n",
       "      <td>12.000000</td>\n",
       "      <td>0.000000</td>\n",
       "      <td>1.000000</td>\n",
       "      <td>0.000000</td>\n",
       "      <td>0.000000</td>\n",
       "    </tr>\n",
       "    <tr>\n",
       "      <th>25%</th>\n",
       "      <td>1.000000</td>\n",
       "      <td>1.000000</td>\n",
       "      <td>1.000000</td>\n",
       "      <td>2.000000</td>\n",
       "      <td>2877.500000</td>\n",
       "      <td>0.000000</td>\n",
       "      <td>100.250000</td>\n",
       "      <td>360.000000</td>\n",
       "      <td>1.000000</td>\n",
       "      <td>1.000000</td>\n",
       "      <td>0.000000</td>\n",
       "      <td>0.000000</td>\n",
       "    </tr>\n",
       "    <tr>\n",
       "      <th>50%</th>\n",
       "      <td>1.000000</td>\n",
       "      <td>1.000000</td>\n",
       "      <td>1.000000</td>\n",
       "      <td>2.000000</td>\n",
       "      <td>3812.500000</td>\n",
       "      <td>1188.500000</td>\n",
       "      <td>125.000000</td>\n",
       "      <td>360.000000</td>\n",
       "      <td>1.000000</td>\n",
       "      <td>2.000000</td>\n",
       "      <td>1.000000</td>\n",
       "      <td>0.000000</td>\n",
       "    </tr>\n",
       "    <tr>\n",
       "      <th>75%</th>\n",
       "      <td>1.000000</td>\n",
       "      <td>2.000000</td>\n",
       "      <td>1.000000</td>\n",
       "      <td>2.000000</td>\n",
       "      <td>5795.000000</td>\n",
       "      <td>2297.250000</td>\n",
       "      <td>164.750000</td>\n",
       "      <td>360.000000</td>\n",
       "      <td>1.000000</td>\n",
       "      <td>3.000000</td>\n",
       "      <td>1.000000</td>\n",
       "      <td>1.000000</td>\n",
       "    </tr>\n",
       "    <tr>\n",
       "      <th>max</th>\n",
       "      <td>2.000000</td>\n",
       "      <td>2.000000</td>\n",
       "      <td>2.000000</td>\n",
       "      <td>2.000000</td>\n",
       "      <td>81000.000000</td>\n",
       "      <td>41667.000000</td>\n",
       "      <td>700.000000</td>\n",
       "      <td>480.000000</td>\n",
       "      <td>1.000000</td>\n",
       "      <td>3.000000</td>\n",
       "      <td>1.000000</td>\n",
       "      <td>3.000000</td>\n",
       "    </tr>\n",
       "  </tbody>\n",
       "</table>\n",
       "</div>"
      ],
      "text/plain": [
       "           Gender     Married   Education  Self_Employed  ApplicantIncome  \\\n",
       "count  614.000000  614.000000  614.000000     614.000000       614.000000   \n",
       "mean     1.182410    1.346906    1.218241       1.866450      5403.459283   \n",
       "std      0.386497    0.476373    0.413389       0.340446      6109.041673   \n",
       "min      1.000000    1.000000    1.000000       1.000000       150.000000   \n",
       "25%      1.000000    1.000000    1.000000       2.000000      2877.500000   \n",
       "50%      1.000000    1.000000    1.000000       2.000000      3812.500000   \n",
       "75%      1.000000    2.000000    1.000000       2.000000      5795.000000   \n",
       "max      2.000000    2.000000    2.000000       2.000000     81000.000000   \n",
       "\n",
       "       CoapplicantIncome  LoanAmount  Loan_Amount_Term  Credit_History  \\\n",
       "count         614.000000  614.000000        614.000000      614.000000   \n",
       "mean         1621.245798  145.465798        342.410423        0.855049   \n",
       "std          2926.248369   84.180967         64.428629        0.352339   \n",
       "min             0.000000    9.000000         12.000000        0.000000   \n",
       "25%             0.000000  100.250000        360.000000        1.000000   \n",
       "50%          1188.500000  125.000000        360.000000        1.000000   \n",
       "75%          2297.250000  164.750000        360.000000        1.000000   \n",
       "max         41667.000000  700.000000        480.000000        1.000000   \n",
       "\n",
       "       Property_Area  Loan_Status  Dependents  \n",
       "count     614.000000   614.000000  614.000000  \n",
       "mean        2.037459     0.687296    0.744300  \n",
       "std         0.787482     0.463973    1.009623  \n",
       "min         1.000000     0.000000    0.000000  \n",
       "25%         1.000000     0.000000    0.000000  \n",
       "50%         2.000000     1.000000    0.000000  \n",
       "75%         3.000000     1.000000    1.000000  \n",
       "max         3.000000     1.000000    3.000000  "
      ]
     },
     "execution_count": 62,
     "metadata": {},
     "output_type": "execute_result"
    }
   ],
   "source": [
    "df_numeric.describe()"
   ]
  },
  {
   "cell_type": "markdown",
   "id": "c1ef2e63",
   "metadata": {},
   "source": [
    "### Problem due to Unnormalised Variables   \n",
    "* In this case, the units of each variable are quite different  \n",
    "    *  `Credit_History` varies from 0 to 1  \n",
    "    * `ApplicantIncome` from 150 to 81000  \n",
    "    * `LoanAmount` from 9 to 700  \n",
    "* this means that a difference in weight would dominate the other variables  \n",
    "* solution is to normalise the data"
   ]
  },
  {
   "cell_type": "markdown",
   "id": "54a99ed4",
   "metadata": {},
   "source": [
    "#### **Initially plotting ApplicantIncome Vs Credit_History on different spaced axes**"
   ]
  },
  {
   "cell_type": "code",
   "execution_count": 63,
   "id": "ca991065",
   "metadata": {},
   "outputs": [
    {
     "name": "stderr",
     "output_type": "stream",
     "text": [
      "*c* argument looks like a single numeric RGB or RGBA sequence, which should be avoided as value-mapping will have precedence in case its length matches with *x* & *y*.  Please use the *color* keyword-argument or provide a 2D array with a single row if you intend to specify the same RGB or RGBA value for all points.\n"
     ]
    },
    {
     "data": {
      "text/plain": [
       "<AxesSubplot:xlabel='Credit_History', ylabel='ApplicantIncome'>"
      ]
     },
     "execution_count": 63,
     "metadata": {},
     "output_type": "execute_result"
    },
    {
     "data": {
      "image/png": "[encoded data removed]",
      "text/plain": [
       "<Figure size 432x288 with 1 Axes>"
      ]
     },
     "metadata": {},
     "output_type": "display_data"
    }
   ],
   "source": [
    "df_numericN.plot('Credit_History', 'ApplicantIncome', 'scatter') # ApplicantIncome Vs Credit_History"
   ]
  },
  {
   "cell_type": "markdown",
   "id": "fd3aeda5",
   "metadata": {},
   "source": [
    "#### **Initially plotting ApplicantIncome Vs Credit_History on equally spaced axes**"
   ]
  },
  {
   "cell_type": "code",
   "execution_count": 64,
   "id": "f974a1a2",
   "metadata": {},
   "outputs": [
    {
     "name": "stderr",
     "output_type": "stream",
     "text": [
      "*c* argument looks like a single numeric RGB or RGBA sequence, which should be avoided as value-mapping will have precedence in case its length matches with *x* & *y*.  Please use the *color* keyword-argument or provide a 2D array with a single row if you intend to specify the same RGB or RGBA value for all points.\n"
     ]
    },
    {
     "data": {
      "text/plain": [
       "(0.0, 81000.0)"
      ]
     },
     "execution_count": 64,
     "metadata": {},
     "output_type": "execute_result"
    },
    {
     "data": {
      "image/png": "[encoded data removed]",
      "text/plain": [
       "<Figure size 432x288 with 1 Axes>"
      ]
     },
     "metadata": {},
     "output_type": "display_data"
    }
   ],
   "source": [
    "# plot again on equally spaced axes\n",
    "df_numericN.plot('Credit_History', 'ApplicantIncome', 'scatter')\n",
    "plt.ylim(0.0,81000.000000)\n",
    "plt.xlim(0.0,81000.000000)"
   ]
  },
  {
   "cell_type": "markdown",
   "id": "31ffd8c8",
   "metadata": {},
   "source": [
    "As we see, now it's tough to interpret the plot due to huge difference between the ranges of ApplicantIncome and Credit_History values. Hence, Normalising data would be beneficial.  "
   ]
  },
  {
   "cell_type": "markdown",
   "id": "fe0d2843",
   "metadata": {},
   "source": [
    "### Normalising Variables  \n",
    "* normalise to make the mean and standard deviation the same for every variable  \n",
    "* for each column:  \n",
    "       * subtract the mean    \n",
    "       * divide by the standard deviation  \n",
    "* result is data with mean of 0, std of 1.0"
   ]
  },
  {
   "cell_type": "code",
   "execution_count": 65,
   "id": "1df6e106",
   "metadata": {},
   "outputs": [
    {
     "name": "stderr",
     "output_type": "stream",
     "text": [
      "*c* argument looks like a single numeric RGB or RGBA sequence, which should be avoided as value-mapping will have precedence in case its length matches with *x* & *y*.  Please use the *color* keyword-argument or provide a 2D array with a single row if you intend to specify the same RGB or RGBA value for all points.\n"
     ]
    },
    {
     "data": {
      "text/plain": [
       "(-2.6, 0.6)"
      ]
     },
     "execution_count": 65,
     "metadata": {},
     "output_type": "execute_result"
    },
    {
     "data": {
      "image/png": "[encoded data removed]",
      "text/plain": [
       "<Figure size 432x288 with 1 Axes>"
      ]
     },
     "metadata": {},
     "output_type": "display_data"
    }
   ],
   "source": [
    "# subtract the mean, divide by the standard deviation\n",
    "df_numeric_norm = (df_numericN-df_numericN.mean())/df_numericN.std()\n",
    "df_numeric_norm.plot('Credit_History', 'ApplicantIncome', 'scatter')\n",
    "plt.ylim(-2,14)\n",
    "plt.xlim(-2.6,0.6) "
   ]
  },
  {
   "cell_type": "markdown",
   "id": "cb11baa1",
   "metadata": {},
   "source": [
    "We can check `Data Normalisation` is done or not by again checking the similarity (distance) between \"LP001002\" - \"LP001003\" (A - B) & \"LP001002\" - \"LP001003\" (A-C)."
   ]
  },
  {
   "cell_type": "code",
   "execution_count": 66,
   "id": "3ba7be93",
   "metadata": {},
   "outputs": [
    {
     "data": {
      "text/html": [
       "<div>\n",
       "<style scoped>\n",
       "    .dataframe tbody tr th:only-of-type {\n",
       "        vertical-align: middle;\n",
       "    }\n",
       "\n",
       "    .dataframe tbody tr th {\n",
       "        vertical-align: top;\n",
       "    }\n",
       "\n",
       "    .dataframe thead th {\n",
       "        text-align: right;\n",
       "    }\n",
       "</style>\n",
       "<table border=\"1\" class=\"dataframe\">\n",
       "  <thead>\n",
       "    <tr style=\"text-align: right;\">\n",
       "      <th></th>\n",
       "      <th>Gender</th>\n",
       "      <th>Married</th>\n",
       "      <th>Education</th>\n",
       "      <th>Self_Employed</th>\n",
       "      <th>ApplicantIncome</th>\n",
       "      <th>CoapplicantIncome</th>\n",
       "      <th>LoanAmount</th>\n",
       "      <th>Loan_Amount_Term</th>\n",
       "      <th>Credit_History</th>\n",
       "      <th>Property_Area</th>\n",
       "      <th>Loan_Status</th>\n",
       "      <th>Dependents</th>\n",
       "    </tr>\n",
       "  </thead>\n",
       "  <tbody>\n",
       "    <tr>\n",
       "      <th>0</th>\n",
       "      <td>-0.471958</td>\n",
       "      <td>1.370972</td>\n",
       "      <td>-0.527932</td>\n",
       "      <td>0.392281</td>\n",
       "      <td>0.072931</td>\n",
       "      <td>-0.554036</td>\n",
       "      <td>-0.302513</td>\n",
       "      <td>0.273009</td>\n",
       "      <td>0.411397</td>\n",
       "      <td>1.222302</td>\n",
       "      <td>0.673970</td>\n",
       "      <td>-0.737205</td>\n",
       "    </tr>\n",
       "    <tr>\n",
       "      <th>1</th>\n",
       "      <td>-0.471958</td>\n",
       "      <td>-0.728222</td>\n",
       "      <td>-0.527932</td>\n",
       "      <td>0.392281</td>\n",
       "      <td>-0.134302</td>\n",
       "      <td>-0.038700</td>\n",
       "      <td>-0.207479</td>\n",
       "      <td>0.273009</td>\n",
       "      <td>0.411397</td>\n",
       "      <td>-1.317439</td>\n",
       "      <td>-1.481329</td>\n",
       "      <td>0.253263</td>\n",
       "    </tr>\n",
       "    <tr>\n",
       "      <th>2</th>\n",
       "      <td>-0.471958</td>\n",
       "      <td>-0.728222</td>\n",
       "      <td>-0.527932</td>\n",
       "      <td>-2.545042</td>\n",
       "      <td>-0.393427</td>\n",
       "      <td>-0.554036</td>\n",
       "      <td>-0.943988</td>\n",
       "      <td>0.273009</td>\n",
       "      <td>0.411397</td>\n",
       "      <td>1.222302</td>\n",
       "      <td>0.673970</td>\n",
       "      <td>-0.737205</td>\n",
       "    </tr>\n",
       "    <tr>\n",
       "      <th>3</th>\n",
       "      <td>-0.471958</td>\n",
       "      <td>-0.728222</td>\n",
       "      <td>1.891099</td>\n",
       "      <td>0.392281</td>\n",
       "      <td>-0.461686</td>\n",
       "      <td>0.251774</td>\n",
       "      <td>-0.302513</td>\n",
       "      <td>0.273009</td>\n",
       "      <td>0.411397</td>\n",
       "      <td>1.222302</td>\n",
       "      <td>0.673970</td>\n",
       "      <td>-0.737205</td>\n",
       "    </tr>\n",
       "    <tr>\n",
       "      <th>4</th>\n",
       "      <td>-0.471958</td>\n",
       "      <td>1.370972</td>\n",
       "      <td>-0.527932</td>\n",
       "      <td>0.392281</td>\n",
       "      <td>0.097649</td>\n",
       "      <td>-0.554036</td>\n",
       "      <td>-0.053050</td>\n",
       "      <td>0.273009</td>\n",
       "      <td>0.411397</td>\n",
       "      <td>1.222302</td>\n",
       "      <td>0.673970</td>\n",
       "      <td>-0.737205</td>\n",
       "    </tr>\n",
       "  </tbody>\n",
       "</table>\n",
       "</div>"
      ],
      "text/plain": [
       "     Gender   Married  Education  Self_Employed  ApplicantIncome  \\\n",
       "0 -0.471958  1.370972  -0.527932       0.392281         0.072931   \n",
       "1 -0.471958 -0.728222  -0.527932       0.392281        -0.134302   \n",
       "2 -0.471958 -0.728222  -0.527932      -2.545042        -0.393427   \n",
       "3 -0.471958 -0.728222   1.891099       0.392281        -0.461686   \n",
       "4 -0.471958  1.370972  -0.527932       0.392281         0.097649   \n",
       "\n",
       "   CoapplicantIncome  LoanAmount  Loan_Amount_Term  Credit_History  \\\n",
       "0          -0.554036   -0.302513          0.273009        0.411397   \n",
       "1          -0.038700   -0.207479          0.273009        0.411397   \n",
       "2          -0.554036   -0.943988          0.273009        0.411397   \n",
       "3           0.251774   -0.302513          0.273009        0.411397   \n",
       "4          -0.554036   -0.053050          0.273009        0.411397   \n",
       "\n",
       "   Property_Area  Loan_Status  Dependents  \n",
       "0       1.222302     0.673970   -0.737205  \n",
       "1      -1.317439    -1.481329    0.253263  \n",
       "2       1.222302     0.673970   -0.737205  \n",
       "3       1.222302     0.673970   -0.737205  \n",
       "4       1.222302     0.673970   -0.737205  "
      ]
     },
     "execution_count": 66,
     "metadata": {},
     "output_type": "execute_result"
    }
   ],
   "source": [
    "df_numeric_norm.head()"
   ]
  },
  {
   "cell_type": "code",
   "execution_count": 67,
   "id": "19169d26",
   "metadata": {},
   "outputs": [
    {
     "name": "stdout",
     "output_type": "stream",
     "text": [
      "Without normalisation:\n",
      "A -> B 1968.9822243991946\n",
      "A -> C 2849.51206349438\n",
      "With normalisation:\n",
      "A -> B 2.3494444566776163\n",
      "A -> C 4.569428218733059\n"
     ]
    }
   ],
   "source": [
    "print(\"Without normalisation:\")\n",
    "print(\"A -> B\", np.sqrt(np.square(df_numericN.iloc[0]-df_numericN.iloc[1]).sum()))\n",
    "print(\"A -> C\", np.sqrt(np.square(df_numericN.iloc[0]-df_numericN.iloc[2]).sum()))\n",
    "print(\"With normalisation:\")\n",
    "print(\"A -> B\", np.sqrt(np.square(-df_numeric_norm.iloc[0]-df_numeric_norm.iloc[1]).sum()))\n",
    "print(\"A -> C\", np.sqrt(np.square(-df_numeric_norm.iloc[0]-df_numeric_norm.iloc[2]).sum()))"
   ]
  },
  {
   "cell_type": "markdown",
   "id": "f4939e28",
   "metadata": {},
   "source": [
    "Therefore, the results are still same but the data is normalised and easy to visualize & process in Clustering."
   ]
  },
  {
   "cell_type": "markdown",
   "id": "8d8f37b6",
   "metadata": {},
   "source": [
    "# Clustering  \n",
    "Now that we can measure whether two samples are similar or different, we can begin to look at clustering. There are two main families of clustering method:  \n",
    "\n",
    "* Partitional Algorithms  \n",
    "* Hierarchical Algorithms  \n",
    "  \n",
    "Clustering is an example of unsupervised learning. Compared with linear/logistic regression (which are supervised) - to train those models we need to provide the true category labels to the training algorithm so that it can learn how to categorise the data.  \n",
    "  \n",
    "Clustering can be used in cases where regression cannot. If we don't have any true labels for the data, we can still use clustering to see if there are any natural groups in the data. This can be a really useful data exploration technique."
   ]
  },
  {
   "cell_type": "markdown",
   "id": "e785e61f",
   "metadata": {},
   "source": [
    "## Partitional algorithms  \n",
    "Start with a random partition (split) of the data and try to refine it iteratively so that the partitions are better. They usually require that you nominate a fixed number of clusters to look for.  \n",
    "  \n",
    "## Hierarchical algorithms  \n",
    "Organise the data into hierarchical (tree-like) structures where the most similar samples are grouped together, then similar groups are joined etc. This might be done **bottom-up** or **top-down**. The end result is a tree-like structure and these methods can be used when you don't know how many clusters there should be in the data."
   ]
  },
  {
   "cell_type": "markdown",
   "id": "6a346f5c",
   "metadata": {},
   "source": [
    "## Partitional algorithm- KMeans Clustering   \n",
    "\n",
    "The basic algorithm is:  \n",
    "\n",
    "1. start with K randomly placed cluster centroids  \n",
    "2. for each data point, assign it to the closest cluster centroid    \n",
    "3. re-estimate the cluster centroids for each cluster based on the data points that belong to it  \n",
    "4. if the centroid estimate has not changed significantly, stop, otherwise repeat from step 2.  "
   ]
  },
  {
   "cell_type": "markdown",
   "id": "c4913772",
   "metadata": {},
   "source": [
    "### Method Used  \n",
    "  \n",
    "K Means Clustering is an unsupervised learning algorithm that tries to cluster data based on their similarity. Unsupervised learning means that there is no outcome to be predicted, and the algorithm just tries to find patterns in the data. In k means clustering, we have the specify the number of clusters we want the data to be grouped into. The algorithm randomly assigns each observation to a cluster, and finds the centroid of each cluster. Then, the algorithm iterates through two steps: Reassign data points to the cluster whose centroid is closest. Calculate new centroid of each cluster. These two steps are repeated till the within cluster variation cannot be reduced any further. The within cluster variation is calculated as the sum of the euclidean distance between the data points and their respective cluster centroids."
   ]
  },
  {
   "cell_type": "code",
   "execution_count": 68,
   "id": "acbf699c",
   "metadata": {},
   "outputs": [
    {
     "data": {
      "text/plain": [
       "<seaborn.axisgrid.FacetGrid at 0x222ba4a1df0>"
      ]
     },
     "execution_count": 68,
     "metadata": {},
     "output_type": "execute_result"
    },
    {
     "data": {
      "image/png": "[encoded data removed]",
      "text/plain": [
       "<Figure size 477.725x432 with 1 Axes>"
      ]
     },
     "metadata": {},
     "output_type": "display_data"
    }
   ],
   "source": [
    "from sklearn.cluster import KMeans\n",
    "# working on a copy of just a couple of variables\n",
    "df = df_numeric_norm[['Credit_History', 'ApplicantIncome']].copy()\n",
    "\n",
    "kmeans = KMeans(n_clusters=2) # passing 2 clusters because we know Credit_history got 2 unique values\n",
    "kmeans.fit(df)\n",
    "df['label'] = kmeans.predict(df)\n",
    "sns.lmplot('Credit_History', 'ApplicantIncome', data=df, fit_reg=False, hue='label', height=6)"
   ]
  },
  {
   "cell_type": "markdown",
   "id": "d74f7cc3",
   "metadata": {},
   "source": [
    "Above code applied **K means clustering** on the dataset **df** which got just two attributes i.e. 'Credit_History', & 'ApplicantIncome'; also it classified data into **label 0** & **label 1**  "
   ]
  },
  {
   "cell_type": "code",
   "execution_count": 69,
   "id": "e637be62",
   "metadata": {},
   "outputs": [
    {
     "data": {
      "text/html": [
       "<div>\n",
       "<style scoped>\n",
       "    .dataframe tbody tr th:only-of-type {\n",
       "        vertical-align: middle;\n",
       "    }\n",
       "\n",
       "    .dataframe tbody tr th {\n",
       "        vertical-align: top;\n",
       "    }\n",
       "\n",
       "    .dataframe thead th {\n",
       "        text-align: right;\n",
       "    }\n",
       "</style>\n",
       "<table border=\"1\" class=\"dataframe\">\n",
       "  <thead>\n",
       "    <tr style=\"text-align: right;\">\n",
       "      <th></th>\n",
       "      <th>Credit_History</th>\n",
       "      <th>ApplicantIncome</th>\n",
       "      <th>label</th>\n",
       "    </tr>\n",
       "  </thead>\n",
       "  <tbody>\n",
       "    <tr>\n",
       "      <th>0</th>\n",
       "      <td>0.411397</td>\n",
       "      <td>0.072931</td>\n",
       "      <td>0</td>\n",
       "    </tr>\n",
       "    <tr>\n",
       "      <th>1</th>\n",
       "      <td>0.411397</td>\n",
       "      <td>-0.134302</td>\n",
       "      <td>0</td>\n",
       "    </tr>\n",
       "    <tr>\n",
       "      <th>2</th>\n",
       "      <td>0.411397</td>\n",
       "      <td>-0.393427</td>\n",
       "      <td>0</td>\n",
       "    </tr>\n",
       "    <tr>\n",
       "      <th>3</th>\n",
       "      <td>0.411397</td>\n",
       "      <td>-0.461686</td>\n",
       "      <td>0</td>\n",
       "    </tr>\n",
       "    <tr>\n",
       "      <th>4</th>\n",
       "      <td>0.411397</td>\n",
       "      <td>0.097649</td>\n",
       "      <td>0</td>\n",
       "    </tr>\n",
       "  </tbody>\n",
       "</table>\n",
       "</div>"
      ],
      "text/plain": [
       "   Credit_History  ApplicantIncome  label\n",
       "0        0.411397         0.072931      0\n",
       "1        0.411397        -0.134302      0\n",
       "2        0.411397        -0.393427      0\n",
       "3        0.411397        -0.461686      0\n",
       "4        0.411397         0.097649      0"
      ]
     },
     "execution_count": 69,
     "metadata": {},
     "output_type": "execute_result"
    }
   ],
   "source": [
    "df.head()"
   ]
  },
  {
   "cell_type": "code",
   "execution_count": 70,
   "id": "047d43b2",
   "metadata": {},
   "outputs": [
    {
     "data": {
      "text/html": [
       "<div>\n",
       "<style scoped>\n",
       "    .dataframe tbody tr th:only-of-type {\n",
       "        vertical-align: middle;\n",
       "    }\n",
       "\n",
       "    .dataframe tbody tr th {\n",
       "        vertical-align: top;\n",
       "    }\n",
       "\n",
       "    .dataframe thead th {\n",
       "        text-align: right;\n",
       "    }\n",
       "</style>\n",
       "<table border=\"1\" class=\"dataframe\">\n",
       "  <thead>\n",
       "    <tr style=\"text-align: right;\">\n",
       "      <th></th>\n",
       "      <th>Credit_History</th>\n",
       "      <th>ApplicantIncome</th>\n",
       "      <th>label</th>\n",
       "    </tr>\n",
       "  </thead>\n",
       "  <tbody>\n",
       "    <tr>\n",
       "      <th>609</th>\n",
       "      <td>0.411397</td>\n",
       "      <td>-0.409796</td>\n",
       "      <td>0</td>\n",
       "    </tr>\n",
       "    <tr>\n",
       "      <th>610</th>\n",
       "      <td>0.411397</td>\n",
       "      <td>-0.212383</td>\n",
       "      <td>0</td>\n",
       "    </tr>\n",
       "    <tr>\n",
       "      <th>611</th>\n",
       "      <td>0.411397</td>\n",
       "      <td>0.436818</td>\n",
       "      <td>0</td>\n",
       "    </tr>\n",
       "    <tr>\n",
       "      <th>612</th>\n",
       "      <td>0.411397</td>\n",
       "      <td>0.356773</td>\n",
       "      <td>0</td>\n",
       "    </tr>\n",
       "    <tr>\n",
       "      <th>613</th>\n",
       "      <td>-2.426782</td>\n",
       "      <td>-0.134302</td>\n",
       "      <td>1</td>\n",
       "    </tr>\n",
       "  </tbody>\n",
       "</table>\n",
       "</div>"
      ],
      "text/plain": [
       "     Credit_History  ApplicantIncome  label\n",
       "609        0.411397        -0.409796      0\n",
       "610        0.411397        -0.212383      0\n",
       "611        0.411397         0.436818      0\n",
       "612        0.411397         0.356773      0\n",
       "613       -2.426782        -0.134302      1"
      ]
     },
     "execution_count": 70,
     "metadata": {},
     "output_type": "execute_result"
    }
   ],
   "source": [
    "df.tail()"
   ]
  },
  {
   "cell_type": "markdown",
   "id": "dee4fc8c",
   "metadata": {},
   "source": [
    "### what are the clusters?  \n",
    "**i) label 0**"
   ]
  },
  {
   "cell_type": "code",
   "execution_count": 71,
   "id": "3f7047cd",
   "metadata": {},
   "outputs": [
    {
     "data": {
      "text/html": [
       "<div>\n",
       "<style scoped>\n",
       "    .dataframe tbody tr th:only-of-type {\n",
       "        vertical-align: middle;\n",
       "    }\n",
       "\n",
       "    .dataframe tbody tr th {\n",
       "        vertical-align: top;\n",
       "    }\n",
       "\n",
       "    .dataframe thead th {\n",
       "        text-align: right;\n",
       "    }\n",
       "</style>\n",
       "<table border=\"1\" class=\"dataframe\">\n",
       "  <thead>\n",
       "    <tr style=\"text-align: right;\">\n",
       "      <th></th>\n",
       "      <th>Loan_ID</th>\n",
       "      <th>Gender</th>\n",
       "      <th>Married</th>\n",
       "      <th>Education</th>\n",
       "      <th>Self_Employed</th>\n",
       "      <th>ApplicantIncome</th>\n",
       "      <th>CoapplicantIncome</th>\n",
       "      <th>LoanAmount</th>\n",
       "      <th>Loan_Amount_Term</th>\n",
       "      <th>Credit_History</th>\n",
       "      <th>Property_Area</th>\n",
       "      <th>Loan_Status</th>\n",
       "      <th>Dependents</th>\n",
       "    </tr>\n",
       "  </thead>\n",
       "  <tbody>\n",
       "    <tr>\n",
       "      <th>0</th>\n",
       "      <td>LP001002</td>\n",
       "      <td>1</td>\n",
       "      <td>2</td>\n",
       "      <td>1</td>\n",
       "      <td>2</td>\n",
       "      <td>5849</td>\n",
       "      <td>0.0</td>\n",
       "      <td>120.0</td>\n",
       "      <td>360.0</td>\n",
       "      <td>1.0</td>\n",
       "      <td>3</td>\n",
       "      <td>1</td>\n",
       "      <td>0</td>\n",
       "    </tr>\n",
       "    <tr>\n",
       "      <th>1</th>\n",
       "      <td>LP001003</td>\n",
       "      <td>1</td>\n",
       "      <td>1</td>\n",
       "      <td>1</td>\n",
       "      <td>2</td>\n",
       "      <td>4583</td>\n",
       "      <td>1508.0</td>\n",
       "      <td>128.0</td>\n",
       "      <td>360.0</td>\n",
       "      <td>1.0</td>\n",
       "      <td>1</td>\n",
       "      <td>0</td>\n",
       "      <td>1</td>\n",
       "    </tr>\n",
       "    <tr>\n",
       "      <th>2</th>\n",
       "      <td>LP001005</td>\n",
       "      <td>1</td>\n",
       "      <td>1</td>\n",
       "      <td>1</td>\n",
       "      <td>1</td>\n",
       "      <td>3000</td>\n",
       "      <td>0.0</td>\n",
       "      <td>66.0</td>\n",
       "      <td>360.0</td>\n",
       "      <td>1.0</td>\n",
       "      <td>3</td>\n",
       "      <td>1</td>\n",
       "      <td>0</td>\n",
       "    </tr>\n",
       "    <tr>\n",
       "      <th>3</th>\n",
       "      <td>LP001006</td>\n",
       "      <td>1</td>\n",
       "      <td>1</td>\n",
       "      <td>2</td>\n",
       "      <td>2</td>\n",
       "      <td>2583</td>\n",
       "      <td>2358.0</td>\n",
       "      <td>120.0</td>\n",
       "      <td>360.0</td>\n",
       "      <td>1.0</td>\n",
       "      <td>3</td>\n",
       "      <td>1</td>\n",
       "      <td>0</td>\n",
       "    </tr>\n",
       "    <tr>\n",
       "      <th>4</th>\n",
       "      <td>LP001008</td>\n",
       "      <td>1</td>\n",
       "      <td>2</td>\n",
       "      <td>1</td>\n",
       "      <td>2</td>\n",
       "      <td>6000</td>\n",
       "      <td>0.0</td>\n",
       "      <td>141.0</td>\n",
       "      <td>360.0</td>\n",
       "      <td>1.0</td>\n",
       "      <td>3</td>\n",
       "      <td>1</td>\n",
       "      <td>0</td>\n",
       "    </tr>\n",
       "  </tbody>\n",
       "</table>\n",
       "</div>"
      ],
      "text/plain": [
       "    Loan_ID  Gender  Married  Education  Self_Employed  ApplicantIncome  \\\n",
       "0  LP001002       1        2          1              2             5849   \n",
       "1  LP001003       1        1          1              2             4583   \n",
       "2  LP001005       1        1          1              1             3000   \n",
       "3  LP001006       1        1          2              2             2583   \n",
       "4  LP001008       1        2          1              2             6000   \n",
       "\n",
       "   CoapplicantIncome  LoanAmount  Loan_Amount_Term  Credit_History  \\\n",
       "0                0.0       120.0             360.0             1.0   \n",
       "1             1508.0       128.0             360.0             1.0   \n",
       "2                0.0        66.0             360.0             1.0   \n",
       "3             2358.0       120.0             360.0             1.0   \n",
       "4                0.0       141.0             360.0             1.0   \n",
       "\n",
       "   Property_Area  Loan_Status  Dependents  \n",
       "0              3            1           0  \n",
       "1              1            0           1  \n",
       "2              3            1           0  \n",
       "3              3            1           0  \n",
       "4              3            1           0  "
      ]
     },
     "execution_count": 71,
     "metadata": {},
     "output_type": "execute_result"
    }
   ],
   "source": [
    "df_numeric[ df['label'] == 0].head() "
   ]
  },
  {
   "cell_type": "code",
   "execution_count": 72,
   "id": "9843b386",
   "metadata": {},
   "outputs": [
    {
     "data": {
      "text/plain": [
       "1.0    525\n",
       "Name: Credit_History, dtype: int64"
      ]
     },
     "execution_count": 72,
     "metadata": {},
     "output_type": "execute_result"
    }
   ],
   "source": [
    "df_numeric[ df['label'] == 0]['Credit_History'].value_counts()"
   ]
  },
  {
   "cell_type": "markdown",
   "id": "fb15b8d7",
   "metadata": {},
   "source": [
    "**ii) label 1**"
   ]
  },
  {
   "cell_type": "code",
   "execution_count": 73,
   "id": "d939d9d8",
   "metadata": {},
   "outputs": [
    {
     "data": {
      "text/html": [
       "<div>\n",
       "<style scoped>\n",
       "    .dataframe tbody tr th:only-of-type {\n",
       "        vertical-align: middle;\n",
       "    }\n",
       "\n",
       "    .dataframe tbody tr th {\n",
       "        vertical-align: top;\n",
       "    }\n",
       "\n",
       "    .dataframe thead th {\n",
       "        text-align: right;\n",
       "    }\n",
       "</style>\n",
       "<table border=\"1\" class=\"dataframe\">\n",
       "  <thead>\n",
       "    <tr style=\"text-align: right;\">\n",
       "      <th></th>\n",
       "      <th>Loan_ID</th>\n",
       "      <th>Gender</th>\n",
       "      <th>Married</th>\n",
       "      <th>Education</th>\n",
       "      <th>Self_Employed</th>\n",
       "      <th>ApplicantIncome</th>\n",
       "      <th>CoapplicantIncome</th>\n",
       "      <th>LoanAmount</th>\n",
       "      <th>Loan_Amount_Term</th>\n",
       "      <th>Credit_History</th>\n",
       "      <th>Property_Area</th>\n",
       "      <th>Loan_Status</th>\n",
       "      <th>Dependents</th>\n",
       "    </tr>\n",
       "  </thead>\n",
       "  <tbody>\n",
       "    <tr>\n",
       "      <th>7</th>\n",
       "      <td>LP001014</td>\n",
       "      <td>1</td>\n",
       "      <td>1</td>\n",
       "      <td>1</td>\n",
       "      <td>2</td>\n",
       "      <td>3036</td>\n",
       "      <td>2504.0</td>\n",
       "      <td>158.0</td>\n",
       "      <td>360.0</td>\n",
       "      <td>0.0</td>\n",
       "      <td>2</td>\n",
       "      <td>0</td>\n",
       "      <td>3</td>\n",
       "    </tr>\n",
       "    <tr>\n",
       "      <th>17</th>\n",
       "      <td>LP001036</td>\n",
       "      <td>2</td>\n",
       "      <td>2</td>\n",
       "      <td>1</td>\n",
       "      <td>2</td>\n",
       "      <td>3510</td>\n",
       "      <td>0.0</td>\n",
       "      <td>76.0</td>\n",
       "      <td>360.0</td>\n",
       "      <td>0.0</td>\n",
       "      <td>3</td>\n",
       "      <td>0</td>\n",
       "      <td>0</td>\n",
       "    </tr>\n",
       "    <tr>\n",
       "      <th>20</th>\n",
       "      <td>LP001043</td>\n",
       "      <td>1</td>\n",
       "      <td>1</td>\n",
       "      <td>2</td>\n",
       "      <td>2</td>\n",
       "      <td>7660</td>\n",
       "      <td>0.0</td>\n",
       "      <td>104.0</td>\n",
       "      <td>360.0</td>\n",
       "      <td>0.0</td>\n",
       "      <td>3</td>\n",
       "      <td>0</td>\n",
       "      <td>0</td>\n",
       "    </tr>\n",
       "    <tr>\n",
       "      <th>22</th>\n",
       "      <td>LP001047</td>\n",
       "      <td>1</td>\n",
       "      <td>1</td>\n",
       "      <td>2</td>\n",
       "      <td>2</td>\n",
       "      <td>2600</td>\n",
       "      <td>1911.0</td>\n",
       "      <td>116.0</td>\n",
       "      <td>360.0</td>\n",
       "      <td>0.0</td>\n",
       "      <td>2</td>\n",
       "      <td>0</td>\n",
       "      <td>0</td>\n",
       "    </tr>\n",
       "    <tr>\n",
       "      <th>23</th>\n",
       "      <td>LP001050</td>\n",
       "      <td>1</td>\n",
       "      <td>1</td>\n",
       "      <td>2</td>\n",
       "      <td>2</td>\n",
       "      <td>3365</td>\n",
       "      <td>1917.0</td>\n",
       "      <td>112.0</td>\n",
       "      <td>360.0</td>\n",
       "      <td>0.0</td>\n",
       "      <td>1</td>\n",
       "      <td>0</td>\n",
       "      <td>2</td>\n",
       "    </tr>\n",
       "  </tbody>\n",
       "</table>\n",
       "</div>"
      ],
      "text/plain": [
       "     Loan_ID  Gender  Married  Education  Self_Employed  ApplicantIncome  \\\n",
       "7   LP001014       1        1          1              2             3036   \n",
       "17  LP001036       2        2          1              2             3510   \n",
       "20  LP001043       1        1          2              2             7660   \n",
       "22  LP001047       1        1          2              2             2600   \n",
       "23  LP001050       1        1          2              2             3365   \n",
       "\n",
       "    CoapplicantIncome  LoanAmount  Loan_Amount_Term  Credit_History  \\\n",
       "7              2504.0       158.0             360.0             0.0   \n",
       "17                0.0        76.0             360.0             0.0   \n",
       "20                0.0       104.0             360.0             0.0   \n",
       "22             1911.0       116.0             360.0             0.0   \n",
       "23             1917.0       112.0             360.0             0.0   \n",
       "\n",
       "    Property_Area  Loan_Status  Dependents  \n",
       "7               2            0           3  \n",
       "17              3            0           0  \n",
       "20              3            0           0  \n",
       "22              2            0           0  \n",
       "23              1            0           2  "
      ]
     },
     "execution_count": 73,
     "metadata": {},
     "output_type": "execute_result"
    }
   ],
   "source": [
    "df_numeric[ df['label'] == 1].head() "
   ]
  },
  {
   "cell_type": "code",
   "execution_count": 74,
   "id": "afc59980",
   "metadata": {},
   "outputs": [
    {
     "data": {
      "text/plain": [
       "0.0    89\n",
       "Name: Credit_History, dtype: int64"
      ]
     },
     "execution_count": 74,
     "metadata": {},
     "output_type": "execute_result"
    }
   ],
   "source": [
    "df_numeric[ df['label'] == 1]['Credit_History'].value_counts()"
   ]
  },
  {
   "cell_type": "markdown",
   "id": "dbb31d5e",
   "metadata": {},
   "source": [
    "### Evaluating the model accuracy by masking with `Credit_History`  "
   ]
  },
  {
   "cell_type": "code",
   "execution_count": 75,
   "id": "818138f9",
   "metadata": {},
   "outputs": [],
   "source": [
    "# The following lines of code will match the learned cluster labels with the true labels found in them −\n",
    "from scipy.stats import mode\n",
    "labels = np.zeros_like(df['label'])\n",
    "for i in range(2):\n",
    "   mask = (df['label'] == i)\n",
    "   labels[mask] = mode(df_numeric['Credit_History'][mask])[0]"
   ]
  },
  {
   "cell_type": "code",
   "execution_count": 76,
   "id": "06a51789",
   "metadata": {},
   "outputs": [
    {
     "data": {
      "text/plain": [
       "1.0"
      ]
     },
     "execution_count": 76,
     "metadata": {},
     "output_type": "execute_result"
    }
   ],
   "source": [
    "# Next, we can check the accuracy as follows\n",
    "from sklearn.metrics import accuracy_score\n",
    "accuracy_score(df_numeric['Credit_History'], labels)"
   ]
  },
  {
   "cell_type": "markdown",
   "id": "dfa23832",
   "metadata": {},
   "source": [
    "So, Unsupervised Learning made a 100% accuracy with using just 2 attributes.  "
   ]
  },
  {
   "cell_type": "markdown",
   "id": "65571dcd",
   "metadata": {},
   "source": [
    "## Conclusion:  \n",
    "* Clustering works well with normalised data.  \n",
    "* Clustering is nothing actually measuring the distance between data points and cluster the closest ones to a centroid.  \n",
    "* Clustering creates labels (0,1,2,...) used to recognize the groups.  \n",
    "* Initially, we can provide random K-value to Clustering and check the accuracy, however number of distinct values available in an attribute/ column would be the best value of K.     "
   ]
  },
  {
   "cell_type": "code",
   "execution_count": null,
   "id": "013e216f",
   "metadata": {},
   "outputs": [],
   "source": []
  },
  {
   "cell_type": "markdown",
   "id": "7f21cb78",
   "metadata": {},
   "source": [
    "### Some problems with KMeans Clustering\n",
    "* Need to define the number of clusters\n",
    "* Initial cluster centriods are arbitrary\n",
    "       *   choose K random points within the distribution\n",
    "       *   choose K data points\n",
    "       *   choose K data points that are maximally distinct\n",
    "* Choice of centriods can affect the outcome\n",
    "* There are variations on KMeans that give improved outcomes in some problems"
   ]
  },
  {
   "cell_type": "code",
   "execution_count": null,
   "id": "1b5cd2b6",
   "metadata": {},
   "outputs": [],
   "source": []
  },
  {
   "cell_type": "markdown",
   "id": "252a4818",
   "metadata": {},
   "source": [
    "## Best example of K-means clustering  \n",
    "If we got `Opal Train data` with lots of attributes and we wanna find some meaningful insights.  \n",
    "We can use distinct `suburb` and `tap-on time` attributes and can give number of clusters (n) as total count of distinct suburbs or total count of hours in a day (24). Finally, we will get the data clustered as different suburbs with tap-on timings & we can find:  \n",
    "i) which suburb got the most tap-ons  \n",
    "ii) At what time the trains started being busy the most  \n"
   ]
  },
  {
   "cell_type": "code",
   "execution_count": null,
   "id": "fa544e35",
   "metadata": {},
   "outputs": [],
   "source": []
  }
 ],
 "metadata": {
  "kernelspec": {
   "display_name": "Python 3 (ipykernel)",
   "language": "python",
   "name": "python3"
  },
  "language_info": {
   "codemirror_mode": {
    "name": "ipython",
    "version": 3
   },
   "file_extension": ".py",
   "mimetype": "text/x-python",
   "name": "python",
   "nbconvert_exporter": "python",
   "pygments_lexer": "ipython3",
   "version": "3.9.7"
  }
 },
 "nbformat": 4,
 "nbformat_minor": 5
}
